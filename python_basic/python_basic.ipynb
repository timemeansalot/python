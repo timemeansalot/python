{
 "cells": [
  {
   "cell_type": "markdown",
   "id": "2947e0d6",
   "metadata": {},
   "source": [
    "# 1 条件判断\n",
    "## 1.1 if判断"
   ]
  },
  {
   "cell_type": "code",
   "execution_count": 2,
   "id": "6a2dca50",
   "metadata": {},
   "outputs": [
    {
     "name": "stdout",
     "output_type": "stream",
     "text": [
      "Is True\n"
     ]
    }
   ],
   "source": [
    "flag = True\n",
    "if flag:\n",
    "    print(\"Is True\")\n",
    "else:\n",
    "    print(\"Not True\")"
   ]
  },
  {
   "cell_type": "code",
   "execution_count": 1,
   "id": "a6b443a8",
   "metadata": {},
   "outputs": [
    {
     "name": "stdout",
     "output_type": "stream",
     "text": [
      "a<b\n"
     ]
    }
   ],
   "source": [
    "a=10;\n",
    "b=20;\n",
    "if a>=b:\n",
    "    print(\"a>=b\")\n",
    "else:\n",
    "    print(\"a<b\")"
   ]
  },
  {
   "cell_type": "code",
   "execution_count": 2,
   "id": "d945ec36",
   "metadata": {},
   "outputs": [
    {
     "name": "stdout",
     "output_type": "stream",
     "text": [
      "c>a and c>b\n"
     ]
    }
   ],
   "source": [
    "a=10\n",
    "b=11\n",
    "c=12\n",
    "if(a>b and a>c): # and\n",
    "    print('a>b and a>c')\n",
    "elif(b>a and b>c):\n",
    "    print(\"b>a and b>c\")\n",
    "else:\n",
    "    print(\"c>a and c>b\")"
   ]
  },
  {
   "cell_type": "markdown",
   "id": "72c9ab52",
   "metadata": {},
   "source": [
    "## 1.2 for 和 while循环"
   ]
  },
  {
   "cell_type": "code",
   "execution_count": 1,
   "id": "02e8a4fc",
   "metadata": {},
   "outputs": [
    {
     "name": "stdout",
     "output_type": "stream",
     "text": [
      "0\n",
      "<class 'int'>\n",
      "1\n",
      "<class 'int'>\n",
      "2\n",
      "<class 'int'>\n",
      "3\n",
      "<class 'int'>\n",
      "4\n",
      "<class 'int'>\n"
     ]
    }
   ],
   "source": [
    "for i in range(5):\n",
    "    print(i)\n",
    "    print(type(i))"
   ]
  },
  {
   "cell_type": "code",
   "execution_count": 2,
   "id": "1b8480fe",
   "metadata": {},
   "outputs": [
    {
     "name": "stdout",
     "output_type": "stream",
     "text": [
      "2\n",
      "3\n",
      "4\n"
     ]
    }
   ],
   "source": [
    "for i in range(2,5):\n",
    "    print(i)"
   ]
  },
  {
   "cell_type": "code",
   "execution_count": 3,
   "id": "ca34b1ac",
   "metadata": {},
   "outputs": [
    {
     "name": "stdout",
     "output_type": "stream",
     "text": [
      "3\n",
      "5\n",
      "7\n",
      "9\n"
     ]
    }
   ],
   "source": [
    "for i in range(3,10,2):\n",
    "    print(i)"
   ]
  },
  {
   "cell_type": "code",
   "execution_count": 4,
   "id": "0211131e",
   "metadata": {},
   "outputs": [
    {
     "name": "stdout",
     "output_type": "stream",
     "text": [
      "10\n",
      "11\n",
      "12\n",
      "13\n",
      "14\n",
      "15\n",
      "16\n",
      "17\n",
      "18\n",
      "19\n"
     ]
    }
   ],
   "source": [
    "num=10;\n",
    "while num != 20:\n",
    "    print(num)\n",
    "    num=num+1;"
   ]
  },
  {
   "cell_type": "code",
   "execution_count": 5,
   "id": "3571fd11",
   "metadata": {},
   "outputs": [
    {
     "name": "stdout",
     "output_type": "stream",
     "text": [
      "0\n",
      "1\n",
      "2\n",
      "3\n",
      "4\n",
      "5\n",
      "6\n",
      "7\n",
      "8\n",
      "9\n"
     ]
    }
   ],
   "source": [
    "num = 0\n",
    "while num !=20:\n",
    "    if(num==10):\n",
    "        break # break if num = 10\n",
    "    print(num)\n",
    "    num=num+1"
   ]
  },
  {
   "cell_type": "markdown",
   "id": "4a788134",
   "metadata": {},
   "source": [
    "# 2 数据种类\n",
    "数据种类包括：\n",
    "- List\n",
    "- Dict\n",
    "- Tuple\n",
    "- Set"
   ]
  },
  {
   "cell_type": "markdown",
   "id": "bd92ce4c",
   "metadata": {},
   "source": [
    "## 2.1 List methods\n",
    "1. append(value)\n",
    "2. insert(index,value)\n",
    "3. count(value)\n",
    "4. index(value)\n",
    "5. pop(index)"
   ]
  },
  {
   "cell_type": "code",
   "execution_count": 44,
   "id": "95c02235",
   "metadata": {},
   "outputs": [
    {
     "name": "stdout",
     "output_type": "stream",
     "text": [
      "['apple']\n",
      "['apple', 'banana']\n",
      "['apple', 'banana']\n",
      "['apple', 'banana']\n",
      "True True\n",
      "1\n",
      "['apple', 'apple', 'banana']\n",
      "0\n",
      "[0, 1, 2, 3, 4, 5, 6, 7, 8, 9]\n",
      "0\n",
      "[1, 2, 3, 4, 5, 6, 7, 8, 9]\n"
     ]
    }
   ],
   "source": [
    "# test list\n",
    "# List 很像是c里面的vector，访问元素的时间复杂度是O(1)\n",
    "my_list=['apple']\n",
    "print(my_list)\n",
    "\n",
    "my_list.append('banana') # add item at the end of list\n",
    "print(my_list)\n",
    "\n",
    "my_list2=my_list.copy() # return a copy of list\n",
    "my_list3=my_list\n",
    "print(my_list2)\n",
    "print(my_list3)\n",
    "print(my_list==my_list2, my_list==my_list3)\n",
    "\n",
    "print(my_list.count(\"apple\")) # count how many elements of a specific value in a list\n",
    "\n",
    "my_list.insert(1,'apple') # insert value at some index\n",
    "print(my_list);\n",
    "\n",
    "print(my_list.index('apple')) # return first index of a value\n",
    "\n",
    "my_list4=list(range(10));\n",
    "print(my_list4)\n",
    "\n",
    "value_0=my_list4.pop(0) # pop value at index\n",
    "print(value_0)\n",
    "print(my_list4)"
   ]
  },
  {
   "cell_type": "markdown",
   "id": "a905b139",
   "metadata": {},
   "source": [
    "## 2.2 Dict Methods\n",
    "1. keys()\n",
    "2. values()\n",
    "3. get(key)\n",
    "4. pop(key)"
   ]
  },
  {
   "cell_type": "code",
   "execution_count": 67,
   "id": "08b9545a",
   "metadata": {},
   "outputs": [
    {
     "name": "stdout",
     "output_type": "stream",
     "text": [
      "{'key1': 'apple', 'key2': 'banana'}\n",
      "dict_keys(['key1', 'key2'])\n",
      "dict_values(['apple', 'banana'])\n",
      "{'key1': 'apple', 'key2': 'banana', 'key3': 'orange'}\n",
      "{'key2': 'banana', 'key3': 'orange'}\n",
      "banana\n"
     ]
    }
   ],
   "source": [
    "# test dict\n",
    "# dict isn't store by linear, cant' be accessed by dict[0], dict[1]\n",
    "my_dict={'key1':'apple','key2':'banana'}\n",
    "print(my_dict)\n",
    "\n",
    "keys=my_dict.keys() # return all keys in dict\n",
    "print(a)\n",
    "\n",
    "values=my_dict.values() # return all values\n",
    "print(values)\n",
    "\n",
    "my_dict.update({'key3':'orange'}) # insert a key:value to dict\n",
    "print(my_dict)\n",
    "\n",
    "my_dict.pop('key1') # pop value from dict by key\n",
    "print(my_dict)\n",
    "\n",
    "print(my_dict.get('key2')) # get value by key"
   ]
  },
  {
   "cell_type": "code",
   "execution_count": 69,
   "id": "6512229f",
   "metadata": {},
   "outputs": [
    {
     "name": "stdout",
     "output_type": "stream",
     "text": [
      "('apple', 'banana', 'apple', 'orange')\n",
      "2\n",
      "1\n"
     ]
    }
   ],
   "source": [
    "# test tuple, elements in tuple can't be changed\n",
    "my_tuple=('apple','banana','apple','orange');\n",
    "print(my_tuple)\n",
    "\n",
    "print(my_tuple.count('apple')) # count how many values in tuple\n",
    "print(my_tuple.index('banana')) # index of first value in tuple"
   ]
  },
  {
   "cell_type": "markdown",
   "id": "2afa5da6",
   "metadata": {},
   "source": [
    "## 2.3 Set Methods\n",
    "1. add(value)\n",
    "2. poip()\n",
    "\n",
    "...."
   ]
  },
  {
   "cell_type": "code",
   "execution_count": 4,
   "id": "59512362",
   "metadata": {},
   "outputs": [
    {
     "name": "stdout",
     "output_type": "stream",
     "text": [
      "{'orange', 'banana', 'apple'}\n",
      "{'orange', 'cherry', 'banana', 'apple'}\n",
      "orange\n",
      "{'cherry', 'banana', 'apple'}\n"
     ]
    }
   ],
   "source": [
    "# test set\n",
    "\n",
    "fruits={'banana','apple','orange'};\n",
    "print(fruits)\n",
    "\n",
    "fruits.add('cherry') # add element\n",
    "print(fruits)\n",
    "\n",
    "print(fruits.pop())\n",
    "print(fruits)"
   ]
  },
  {
   "cell_type": "markdown",
   "id": "568507e2",
   "metadata": {},
   "source": [
    "# 3 Function, Class, Module\n",
    "## 3.1 Function\n",
    "\n",
    "def function_name(param):"
   ]
  },
  {
   "cell_type": "code",
   "execution_count": 6,
   "id": "8a440461",
   "metadata": {},
   "outputs": [
    {
     "name": "stdout",
     "output_type": "stream",
     "text": [
      "my_apple.txt\n"
     ]
    }
   ],
   "source": [
    "def modify_filename(filename):\n",
    "    filename=filename+'.txt'\n",
    "    filename=\"my_\"+filename\n",
    "    print(filename)\n",
    "\n",
    "f='apple'\n",
    "\n",
    "modify_filename(f)"
   ]
  },
  {
   "cell_type": "markdown",
   "id": "fde47852",
   "metadata": {},
   "source": [
    "## 3.2 Class\n",
    "\n",
    "class className:\n",
    "    \n",
    "    method"
   ]
  },
  {
   "cell_type": "code",
   "execution_count": 11,
   "id": "ddaee79c",
   "metadata": {},
   "outputs": [
    {
     "name": "stdout",
     "output_type": "stream",
     "text": [
      "learn python\n",
      "today\n",
      "Java\n",
      "Java today\n"
     ]
    }
   ],
   "source": [
    "class File:\n",
    "    def __init__(self,name,create_time='today'):\n",
    "        self.name=name\n",
    "        self.create_time=create_time\n",
    "\n",
    "    def change_name(self,name):\n",
    "        self.name=name\n",
    "    \n",
    "    #function with return value\n",
    "    def get_info(self):\n",
    "        return self.name+\" \"+self.create_time\n",
    "\n",
    "my_file=File('learn python')\n",
    "print(my_file.name)\n",
    "print(my_file.create_time)\n",
    "\n",
    "my_file.change_name('Java')\n",
    "print(my_file.name)\n",
    "\n",
    "print(my_file.get_info())"
   ]
  },
  {
   "cell_type": "code",
   "execution_count": 13,
   "id": "3feee637",
   "metadata": {},
   "outputs": [
    {
     "name": "stdout",
     "output_type": "stream",
     "text": [
      "Chinese today\n",
      "Chinese today language: zh-cn\n"
     ]
    }
   ],
   "source": [
    "# class inherit\n",
    "\n",
    "class Video(File):\n",
    "    def __init__(self,name,windows_size=(1080*900)):\n",
    "        super().__init__(name)\n",
    "        self.windows_size=windows_size\n",
    "\n",
    "class Text(File):\n",
    "    def __init__(self,name,language='zh-cn'):\n",
    "        super().__init__(name)\n",
    "        self.language=language\n",
    "\n",
    "    def more_info(self):\n",
    "        return super().get_info()+' language: '+self.language\n",
    "\n",
    "my_text=Text('Chinese')\n",
    "print(my_text.get_info()) # call method in parent class\n",
    "print(my_text.more_info()) # use own method"
   ]
  },
  {
   "cell_type": "code",
   "execution_count": 15,
   "id": "94367657",
   "metadata": {},
   "outputs": [],
   "source": [
    "# class with private field and method\n",
    "\n",
    "class File:\n",
    "    def __init__(self):\n",
    "        self.name='f1'\n",
    "        self.__deleted=False # don't let others use this field\n",
    "        self._type='txt'     # don't want others to use this field\n",
    "\n",
    "    def delete(self):        # public method\n",
    "        self.__force_delete()\n",
    "\n",
    "    def __force_delete(self): # don't let others call this method\n",
    "        self.__deleted=True\n",
    "        return True\n",
    "\n",
    "    def _soft_delete(self):  # don't want others to call this method\n",
    "        self.__force_delete()\n",
    "        return True\n",
    "\n",
    "my_file=File()\n",
    "my_file.delete()"
   ]
  },
  {
   "cell_type": "markdown",
   "id": "6c8b033a",
   "metadata": {},
   "source": [
    "## 3.3 Module\n",
    "TBD"
   ]
  },
  {
   "cell_type": "markdown",
   "id": "0c0bbdae",
   "metadata": {},
   "source": [
    "# 4 File, directory and RE\n",
    "## 4.1 File"
   ]
  },
  {
   "cell_type": "code",
   "execution_count": 16,
   "id": "41fd748b",
   "metadata": {},
   "outputs": [],
   "source": [
    "f=open('new_file.txt','w')\n",
    "f.write('this is new file')\n",
    "f.close()"
   ]
  },
  {
   "cell_type": "code",
   "execution_count": 21,
   "id": "0fa20a47",
   "metadata": {},
   "outputs": [],
   "source": [
    "with open('new_file2.txt','w') as f: # close automaticly\n",
    "    f.writelines(['this is line 1\\n','this is second line'])\n",
    "\n"
   ]
  },
  {
   "cell_type": "code",
   "execution_count": 19,
   "id": "b5ae40a5",
   "metadata": {},
   "outputs": [
    {
     "name": "stdout",
     "output_type": "stream",
     "text": [
      "this is new file\n"
     ]
    }
   ],
   "source": [
    "# read from file\n",
    "f=open('new_file.txt','r')\n",
    "print(f.read())\n",
    "f.close()"
   ]
  },
  {
   "cell_type": "code",
   "execution_count": 22,
   "id": "a6c9e9b5",
   "metadata": {},
   "outputs": [
    {
     "name": "stdout",
     "output_type": "stream",
     "text": [
      "['this is line 1\\n', 'this is second line']\n"
     ]
    }
   ],
   "source": [
    "with open('new_file2.txt','r') as f:\n",
    "    print(f.readlines())\n",
    "\n"
   ]
  },
  {
   "cell_type": "code",
   "execution_count": 23,
   "id": "804c78bd",
   "metadata": {},
   "outputs": [
    {
     "name": "stdout",
     "output_type": "stream",
     "text": [
      "this is line 1\n",
      "\n",
      "this is second line\n",
      "\n"
     ]
    }
   ],
   "source": [
    "with open('new_file2.txt','r') as f:\n",
    "    while True:\n",
    "        line = f.readline() # read one line at each time to save memory\n",
    "        print(line)\n",
    "        if not line:\n",
    "            break"
   ]
  },
  {
   "cell_type": "markdown",
   "id": "9873c2d7",
   "metadata": {},
   "source": [
    "## 4.2 OS operating\n",
    "1. os.getcwd()\n",
    "2. os.listdir()\n",
    "3. os.makedirs()\n",
    "4. os.path.exists()\n",
    "\n",
    "文件管理系统:\n",
    "1. os.removedirs()\n",
    "2. shutil.rmtree()\n",
    "3. os.rename()\n",
    "\n",
    "文件目录多种建议\n",
    "1. os.path.isfile()\n",
    "2. os.path.exists()\n",
    "3. os.path.isdir()\n",
    "4. os.path.basename()\n",
    "5. os.path.dirname()\n",
    "6. os.path.split()"
   ]
  },
  {
   "cell_type": "code",
   "execution_count": 24,
   "id": "ee07b645",
   "metadata": {},
   "outputs": [
    {
     "name": "stdout",
     "output_type": "stream",
     "text": [
      "current directory:  /home/fujie/workspace/python\n",
      "stuff in current folder ['Untitled.ipynb', 'new_file.txt', 'Python Basic.ipynb', 'new_file2.txt', '.ipynb_checkpoints']\n"
     ]
    }
   ],
   "source": [
    "import os\n",
    "\n",
    "print('current directory: ',os.getcwd())\n",
    "print('stuff in current folder',os.listdir())"
   ]
  },
  {
   "cell_type": "code",
   "execution_count": 25,
   "id": "53e62fdb",
   "metadata": {},
   "outputs": [
    {
     "name": "stdout",
     "output_type": "stream",
     "text": [
      "file new_file.txt exists\n"
     ]
    }
   ],
   "source": [
    "if os.path.exists('new_file.txt'):\n",
    "    print(\"file new_file.txt exists\")\n",
    "else:\n",
    "    print(\"file doesn't exists\")"
   ]
  },
  {
   "cell_type": "code",
   "execution_count": 28,
   "id": "1c8e2213",
   "metadata": {},
   "outputs": [
    {
     "name": "stdout",
     "output_type": "stream",
     "text": [
      "head:  /home/fujie/workspace  tail:  python\n"
     ]
    }
   ],
   "source": [
    "head,tail=os.path.split(os.getcwd())\n",
    "print('head: ',head,\" tail: \",tail)"
   ]
  },
  {
   "cell_type": "markdown",
   "id": "5a9ae349",
   "metadata": {},
   "source": [
    "## 4.3 regular expression\n",
    "1. re.compile()\n",
    "2. pin.search()\n",
    "3. re.search()\n",
    "4. string.encode()\n",
    "5. re.search()\n",
    "6. re.match()\n",
    "7. re.findall()\n",
    "8. re.finditer()\n",
    "9. re.split()\n",
    "10. re.sub()\n",
    "11. re.subn()"
   ]
  },
  {
   "cell_type": "code",
   "execution_count": 29,
   "id": "b77cacc0",
   "metadata": {},
   "outputs": [
    {
     "name": "stdout",
     "output_type": "stream",
     "text": [
      "file in string True\n",
      "files in string False\n"
     ]
    }
   ],
   "source": [
    "# judge without using Regular Expression\n",
    "patter1='file'\n",
    "patter2='files'\n",
    "string = 'the file is in the folder'\n",
    "print('file in string',patter1 in string)\n",
    "print('files in string',patter2 in string)"
   ]
  },
  {
   "cell_type": "code",
   "execution_count": 5,
   "id": "55db4d67",
   "metadata": {},
   "outputs": [
    {
     "name": "stdout",
     "output_type": "stream",
     "text": [
      "mofan@mofanpy.com is a valid email: <re.Match object; span=(0, 17), match='mofan@mofanpy.com'>\n"
     ]
    }
   ],
   "source": [
    "# use regular expression\n",
    "import re\n",
    "\n",
    "ptn=re.compile(r\"\\w+?@\\w+?\\.com\") # define search pattern\n",
    "\n",
    "matched=ptn.search(\"mofan@mofanpy.com\")\n",
    "print('mofan@mofanpy.com is a valid email:', matched)"
   ]
  },
  {
   "cell_type": "code",
   "execution_count": 31,
   "id": "10333a75",
   "metadata": {},
   "outputs": [
    {
     "name": "stdout",
     "output_type": "stream",
     "text": [
      "<re.Match object; span=(2, 5), match='run'>\n",
      "run\n"
     ]
    }
   ],
   "source": [
    "match = re.search(r'run','i run to you') # search(pattern, string)\n",
    "print(match)\n",
    "print(match.group()) # group get the match sentence"
   ]
  },
  {
   "cell_type": "code",
   "execution_count": 37,
   "id": "5308cdaa",
   "metadata": {},
   "outputs": [
    {
     "data": {
      "text/plain": [
       "<re.Match object; span=(2, 5), match='run'>"
      ]
     },
     "execution_count": 37,
     "metadata": {},
     "output_type": "execute_result"
    }
   ],
   "source": [
    "re.search(r'ran|run','I ran to you, i run to  you')\n",
    "# equal to \n",
    "re.search(r'r[au]n','i run to you') # [au] means either a or u is ok"
   ]
  },
  {
   "cell_type": "code",
   "execution_count": 39,
   "id": "1573b252",
   "metadata": {},
   "outputs": [
    {
     "name": "stdout",
     "output_type": "stream",
     "text": [
      "<re.Match object; span=(2, 6), match='find'>\n",
      "<re.Match object; span=(2, 7), match='found'>\n"
     ]
    }
   ],
   "source": [
    "print(re.search(r'f(ou|i)nd','i find you')) #(ou|i) is a group, inside this group 'ou' or 'u' are both OK\n",
    "print(re.search(r'f(ou|i)nd','i found you'))"
   ]
  },
  {
   "cell_type": "markdown",
   "id": "2fd1e0af",
   "metadata": {},
   "source": [
    "regular table:\n",
    "1. \\d: any number\n",
    "2. \\D: anything but not number\n",
    "3. \\s: space\n",
    "4. \\S: not space\n",
    "5. \\w: alphabet, number and _\n",
    "6. \\W: something not in \\w\n",
    "7. \\b: match margin of a vacabulary, for example: er\\b can match never but can't match verb\n",
    "8. \\B: match not margin of a vacabulary, for example: er\\B can't match never but can match verb\n",
    "9. \\\\: match \\\n",
    "10. .: match any character except for \\n\n",
    "\n",
    "repeat times\n",
    "1. ?: 1 or 0\n",
    "2. *: 0 to infinit\n",
    "3. +: 1 to infinit\n",
    "4. {n,m}: repeat n to m times\n",
    "5. +?: use + as less as possible\n",
    "6. *?: use * as less as possible\n",
    "7. ??: use ? as less as possible\n",
    "\n",
    "begining or end\n",
    "1. ^: match the begining of one sentence\n",
    "2. $: match the end of one sentence\n",
    "3. \\A: match the most begining\n",
    "4. \\B: match the most end\n"
   ]
  },
  {
   "cell_type": "code",
   "execution_count": 40,
   "id": "b2b18066",
   "metadata": {},
   "outputs": [
    {
     "name": "stdout",
     "output_type": "stream",
     "text": [
      "<re.Match object; span=(0, 11), match='13812345678'>\n",
      "<re.Match object; span=(0, 11), match='13812345678'>\n"
     ]
    }
   ],
   "source": [
    "print(re.search(r'138\\d{8}','13812345678'))\n",
    "print(re.search(r'138\\d{8}','138123456780000'))\n"
   ]
  },
  {
   "cell_type": "markdown",
   "id": "e3307734",
   "metadata": {},
   "source": [
    "Regular Expression methods\n",
    "1. re.search(pattern, string): search in string to find the first pattern\n",
    "2. re.match(pattern, string): search pattern from the *beginning* of sentence\n",
    "3. re.findall()\n",
    "4. re.finditer()\n",
    "5. re.split()\n",
    "6. re.sub()\n",
    "7. re.subn() "
   ]
  },
  {
   "cell_type": "code",
   "execution_count": 51,
   "id": "a35a88d7",
   "metadata": {},
   "outputs": [
    {
     "name": "stdout",
     "output_type": "stream",
     "text": [
      "search:  <re.Match object; span=(2, 5), match='run'>\n",
      "match:  None\n",
      "match:  <re.Match object; span=(0, 3), match='run'>\n",
      "findall: ['run', 'ran']\n",
      "finditer:  <re.Match object; span=(2, 5), match='run'>\n",
      "finditer:  <re.Match object; span=(18, 21), match='ran'>\n",
      "split:  ['i ', ' to you, you ', ' to him']\n",
      "split:  ['apple', 'orange', 'banana']\n",
      "sub:  i jump to you, you jump to him\n",
      "subn:  ('i jump to you, you jump to him', 2)\n"
     ]
    }
   ],
   "source": [
    "print('search: ',re.search(r'run','i run to you'))\n",
    "print('match: ',re.match(r'run','i run to you')) # match must find pattern at the begining of sentence\n",
    "print('match: ',re.match(r'run','run to you'))\n",
    "print('findall:',re.findall(r'r[au]n','i run to you, you ran to him'))\n",
    "\n",
    "for i in re.finditer(r'r[au]n','i run to you, you ran to him'):\n",
    "    print('finditer: ',i)\n",
    "\n",
    "print('split: ',re.split(r'r[au]n','i run to you, you ran to him'))\n",
    "print('split: ',re.split(r':','apple:orange:banana'))\n",
    "\n",
    "print('sub: ',re.sub(r'r[au]n','jump','i run to you, you ran to him'))\n",
    "print('subn: ',re.subn(r'r[au]n','jump','i run to you, you ran to him'))"
   ]
  },
  {
   "cell_type": "code",
   "execution_count": 8,
   "id": "e4c39a99",
   "metadata": {},
   "outputs": [
    {
     "name": "stdout",
     "output_type": "stream",
     "text": [
      "2021-02-02\n",
      "2021-02-03\n",
      "2021-02-04\n"
     ]
    }
   ],
   "source": [
    "# get infomation using RE\n",
    "\n",
    "found=[]\n",
    "\n",
    "for i in re.finditer(r'[\\w-]+.jpg','I have 2021-02-02.jpg, 2021-02-03.jpg, 2021-02-04.jpg'):\n",
    "    found.append(re.sub(r'.jpg','',i.group()))\n",
    "\n",
    "for i in found:\n",
    "    print(i)"
   ]
  },
  {
   "cell_type": "code",
   "execution_count": 9,
   "id": "578e3c5f",
   "metadata": {},
   "outputs": [
    {
     "name": "stdout",
     "output_type": "stream",
     "text": [
      "without (): ['2021-02-01.jpg', '2021-02-02.jpg', '2021-02-03.jpg']\n",
      "with (): ['2021-02-01', '2021-02-02', '2021-02-03']\n"
     ]
    }
   ],
   "source": [
    "string = \"I have 2021-02-01.jpg, 2021-02-02.jpg, 2021-02-03.jpg\"\n",
    "print(\"without ():\", re.findall(r\"[\\w-]+?\\.jpg\", string))\n",
    "print(\"with ():\", re.findall(r\"([\\w-]+?)\\.jpg\", string)) # () will return content directly. \n",
    "                                                        # In this case, return [\\w-] item"
   ]
  },
  {
   "cell_type": "code",
   "execution_count": 11,
   "id": "8d3cfaaa",
   "metadata": {},
   "outputs": [
    {
     "name": "stdout",
     "output_type": "stream",
     "text": [
      "match string:  2021-02-01.jpg 2021 02 01\n",
      "match string:  2021-02-02.jpg 2021 02 02\n",
      "match string:  2021-02-03.jpg 2021 02 03\n"
     ]
    }
   ],
   "source": [
    "string = \"I have 2021-02-01.jpg, 2021-02-02.jpg, 2021-02-03.jpg\"\n",
    "match=re.finditer(r\"(\\d+?)-(\\d+?)-(\\d+?).jpg\",string)\n",
    "\n",
    "for file in match:\n",
    "    print(\"match string: \",file.group(0),file.group(1),file.group(2),file.group(3)) # group(0) is total item"
   ]
  },
  {
   "cell_type": "markdown",
   "id": "36c90fe7",
   "metadata": {},
   "source": [
    "## 4.4 序列化\n",
    "### 4.4.1 pickle\n",
    "1. pickle.dump(data, filename)\n",
    "2. pickle.load(filename)"
   ]
  },
  {
   "cell_type": "code",
   "execution_count": 12,
   "id": "f05581dd",
   "metadata": {},
   "outputs": [
    {
     "data": {
      "text/plain": [
       "b'\\x80\\x04\\x958\\x00\\x00\\x00\\x00\\x00\\x00\\x00}\\x94(\\x8c\\x08filename\\x94\\x8c\\x06f1.txt\\x94\\x8c\\x0bcreate_time\\x94\\x8c\\x05today\\x94\\x8c\\x04size\\x94Kou.'"
      ]
     },
     "execution_count": 12,
     "metadata": {},
     "output_type": "execute_result"
    }
   ],
   "source": [
    "import pickle;\n",
    "\n",
    "data={'filename':'f1.txt','create_time':'today','size':111}\n",
    "\n",
    "pickle.dumps(data) # zip data to pickle"
   ]
  },
  {
   "cell_type": "code",
   "execution_count": 14,
   "id": "e062c16c",
   "metadata": {},
   "outputs": [
    {
     "name": "stdout",
     "output_type": "stream",
     "text": [
      "['Untitled.ipynb', 'data.pkl', 'Python Basic.ipynb', '.ipynb_checkpoints']\n"
     ]
    }
   ],
   "source": [
    "data={'filename':'f1.txt','create_time':'today','size':111}\n",
    "\n",
    "with open('data.pkl','wb') as f:\n",
    "    pickle.dump(data,f) # write data to file with pickle\n",
    "\n",
    "print(os.listdir())"
   ]
  },
  {
   "cell_type": "code",
   "execution_count": 16,
   "id": "622cfc2e",
   "metadata": {},
   "outputs": [
    {
     "name": "stdout",
     "output_type": "stream",
     "text": [
      "{'filename': 'f1.txt', 'create_time': 'today', 'size': 111}\n"
     ]
    }
   ],
   "source": [
    "with open('data.pkl','rb') as f:\n",
    "    data = pickle.load(f) # read data\n",
    "\n",
    "print(data)"
   ]
  },
  {
   "cell_type": "code",
   "execution_count": 18,
   "id": "678b6602",
   "metadata": {},
   "outputs": [
    {
     "name": "stdout",
     "output_type": "stream",
     "text": [
      "name: PC , creat_time: 2020 , size: 10\n",
      "name: computer , creat_time: 2020 , size: 10\n",
      "name: computer , creat_time: 2020 , size: 10\n"
     ]
    }
   ],
   "source": [
    "# pickle can used on Class\n",
    "class File:\n",
    "\n",
    "    def __init__(self,name,create_time,size):\n",
    "        self.name=name\n",
    "        self.create_time=create_time\n",
    "        self.size=size\n",
    "\n",
    "    def change_name(self,name):\n",
    "        self.name=name\n",
    "\n",
    "    def get_info(self):\n",
    "        return 'name: '+self.name+' , creat_time: '+self.create_time+' , size: '+self.size;\n",
    "\n",
    "my_file=File('PC','2020','10')\n",
    "print(my_file.get_info())\n",
    "my_file.change_name('computer')\n",
    "print(my_file.get_info())\n",
    "\n",
    "\n",
    "with open('pickle_with_class.pkl','wb') as f:\n",
    "    pickle.dump(my_file,f) # store class instance\n",
    "\n",
    "with open('pickle_with_class.pkl','rb') as f:\n",
    "    data=pickle.load(f)    # read class instance\n",
    "\n",
    "print(data.get_info())"
   ]
  },
  {
   "cell_type": "markdown",
   "id": "762a1fca",
   "metadata": {},
   "source": [
    "### 4.4.2 Json"
   ]
  },
  {
   "cell_type": "code",
   "execution_count": 88,
   "id": "e11d09dd",
   "metadata": {},
   "outputs": [
    {
     "name": "stdout",
     "output_type": "stream",
     "text": [
      "<class 'str'>\n",
      "{\"name\": \"fujie\", \"age\": 20, \"sex\": \"man\"}\n",
      "<class 'dict'>\n",
      "{'name': 'fujie', 'age': 20, 'sex': 'man'}\n",
      "20\n"
     ]
    }
   ],
   "source": [
    "import json\n",
    "\n",
    "d={'name':'fujie','age':20,'sex':'man'}\n",
    "\n",
    "with open('data.json','w') as f:\n",
    "    json.dump(d,f)\n",
    "\n",
    "# read from json sequence as file\n",
    "with open ('data.json','r') as f:\n",
    "    data=f.read()\n",
    "    print(type(data))\n",
    "    print(data)\n",
    "\n",
    "# read from json sequnce as json sequnce\n",
    "with open('data.json','r') as f:\n",
    "    new_data=json.load(f)\n",
    "    print(type(new_data))\n",
    "    print(new_data)\n",
    "\n",
    "print(new_data['age'])"
   ]
  },
  {
   "cell_type": "markdown",
   "id": "e61692ae",
   "metadata": {},
   "source": [
    "# 5 try-except\n",
    "\n",
    "## 5.1 handle exception and raise error in user_defined functiony"
   ]
  },
  {
   "cell_type": "code",
   "execution_count": 4,
   "metadata": {},
   "outputs": [
    {
     "name": "stdout",
     "output_type": "stream",
     "text": [
      "{'filename': 'f1.txt', 'create_time': 'today', 'size': 111}\n"
     ]
    }
   ],
   "source": [
    "import pickle\n",
    "try:\n",
    "    with open('data.pkl','rb') as f:\n",
    "        data=pickle.load(f)\n",
    "        print(data)\n",
    "except FileNotFoundError as e:\n",
    "    print(e)\n"
   ]
  },
  {
   "cell_type": "code",
   "execution_count": 12,
   "id": "d2559faa",
   "metadata": {},
   "outputs": [
    {
     "name": "stdout",
     "output_type": "stream",
     "text": [
      "key or index error: 'gender'\n",
      "('age', 20)\n",
      "fujie\n",
      "{}\n"
     ]
    }
   ],
   "source": [
    "d={'name':'fujie','age':20}\n",
    "l=[1,2,3]\n",
    "\n",
    "try:\n",
    "    v=d['gender']\n",
    "    v1=d.popitem('name')\n",
    "    print(v1)\n",
    "    l[3]=4\n",
    "except (KeyError,IndexError) as e:\n",
    "    print('key or index error:', e)\n",
    "    v1=d.popitem()\n",
    "    print(v1)\n",
    "    v2=d.pop('name')\n",
    "    print(v2)\n",
    "    print(d)"
   ]
  },
  {
   "cell_type": "code",
   "execution_count": 17,
   "id": "3bcf9873",
   "metadata": {},
   "outputs": [
    {
     "name": "stdout",
     "output_type": "stream",
     "text": [
      "key error not caught\n"
     ]
    }
   ],
   "source": [
    "# try-except-else\n",
    "l=[1,2,3,4]\n",
    "d={\"name\":\"fujie\",\"age\":20}\n",
    "\n",
    "try:\n",
    "    l[3]=5\n",
    "    d[\"gender\"]=\"man\"\n",
    "except IndexError as e:     # this can catch index error, but can't catch key error obove\n",
    "    print(\"index error: \",e)\n",
    "else:\n",
    "    print('key error not caught')"
   ]
  },
  {
   "cell_type": "code",
   "execution_count": 19,
   "id": "08140270",
   "metadata": {},
   "outputs": [
    {
     "name": "stdout",
     "output_type": "stream",
     "text": [
      "key error:  list assignment index out of range\n",
      "reach finally\n",
      "reach finally\n"
     ]
    }
   ],
   "source": [
    "l=[1,2,3]\n",
    "\n",
    "try:\n",
    "    l[3]=4\n",
    "except IndexError as e:       # error occur, but finally will also run\n",
    "    print(\"key error: \",e) \n",
    "finally:\n",
    "    print('reach finally')\n",
    "\n",
    "l=[1,2,3,4]\n",
    "\n",
    "try:\n",
    "    l[3]=4\n",
    "except KeyError as e:\n",
    "    print(\"key error: \",e)   # error not occur, finally will run\n",
    "finally:\n",
    "    print('reach finally')"
   ]
  },
  {
   "cell_type": "code",
   "execution_count": 21,
   "id": "193c07cc",
   "metadata": {},
   "outputs": [
    {
     "name": "stdout",
     "output_type": "stream",
     "text": [
      "value error:  I said no negative\n",
      "reach finally\n"
     ]
    }
   ],
   "source": [
    "# raise an error\n",
    "\n",
    "def no_negative(num):\n",
    "    if(num<0):\n",
    "        raise ValueError(\"I said no negative\")\n",
    "    return num\n",
    "\n",
    "try:\n",
    "    a=no_negative(-1)\n",
    "except ValueError as e:\n",
    "    print(\"value error: \",e) # e is the content raised in no_negative function\n",
    "finally:\n",
    "    print(\"reach finally\")"
   ]
  },
  {
   "cell_type": "markdown",
   "id": "7ea6a3dc",
   "metadata": {},
   "source": [
    "## 5.2 Unittest\n",
    "First, design test case. Second, write function to match the test case.\n",
    "\n",
    "> Unittest cannot run in ipynb file"
   ]
  },
  {
   "cell_type": "markdown",
   "id": "018500e4",
   "metadata": {},
   "source": [
    "# 6 Some Python Projects\n",
    "\n",
    "## 6.1 Simple Calculator"
   ]
  },
  {
   "cell_type": "code",
   "execution_count": 40,
   "id": "529180d3",
   "metadata": {},
   "outputs": [
    {
     "name": "stdout",
     "output_type": "stream",
     "text": [
      "3\n",
      "1\n",
      "2.0\n",
      "[0, 3, 6, 9, 12, 15, 18, 21, 24, 27]\n"
     ]
    }
   ],
   "source": [
    "class Calculator:\n",
    "    def add(self,a,b):\n",
    "        return a+b\n",
    "    \n",
    "    def sub(self,a,b):\n",
    "        return a-b\n",
    "\n",
    "    def multiply(self,a,b):\n",
    "        return a*b\n",
    "\n",
    "    def divide(self,a,b):\n",
    "        return a/b\n",
    "\n",
    "    def batch_add(self,a,b):\n",
    "\n",
    "        result=[]\n",
    "        for i in range(len(a)):\n",
    "            result.append(a[i]+b[i])\n",
    "        return result\n",
    "\n",
    "my_cal=Calculator()\n",
    "print(my_cal.add(1,2))\n",
    "print(my_cal.sub(2,1))\n",
    "print(my_cal.divide(4,2))\n",
    "\n",
    "L1=range(10)\n",
    "L2=range(0,20,2)\n",
    "\n",
    "print(my_cal.batch_add(L1,L2))\n"
   ]
  },
  {
   "cell_type": "markdown",
   "id": "a74cfdf9",
   "metadata": {},
   "source": [
    "## 6.2 File System\n",
    "Goal: loop through all text in file, find target string and replace it"
   ]
  },
  {
   "cell_type": "code",
   "execution_count": 97,
   "id": "fea88d91",
   "metadata": {},
   "outputs": [
    {
     "name": "stdout",
     "output_type": "stream",
     "text": [
      "bad filename:  python_basic.ipynb \n",
      "\n",
      "bad filename:  .ipynb_checkpoints \n",
      "\n",
      "json file found:  data.json\n",
      "file content: \n",
      "{'name': 'fujie', 'age': 20, 'sex': 'man'}\n"
     ]
    }
   ],
   "source": [
    "import os, re, pickle\n",
    "\n",
    "local_files=os.listdir()\n",
    "\n",
    "for filename in local_files:\n",
    "    if re.search(r'(^\\.)|(ipynb$)',filename):\n",
    "        print('bad filename: ',filename,'\\n')\n",
    "        continue\n",
    "    elif re.search(r'.json',filename):\n",
    "        print('json file found: ',filename)\n",
    "        print('file content: ')\n",
    "        with open('data.json','r') as f:\n",
    "            d=json.load(f)\n",
    "            print(d)\n",
    "    "
   ]
  },
  {
   "cell_type": "markdown",
   "id": "69f524fa",
   "metadata": {},
   "source": [
    "# 7 Advanced Python\n",
    "## 7.1 deal with str\n",
    "1. %\n",
    "2. format\n",
    "3. f\"n\""
   ]
  },
  {
   "cell_type": "code",
   "execution_count": 102,
   "id": "1f457382",
   "metadata": {},
   "outputs": [
    {
     "name": "stdout",
     "output_type": "stream",
     "text": [
      "my name is fujie and my name is 20\n"
     ]
    }
   ],
   "source": [
    "name=\"fujie\"\n",
    "age=20\n",
    "\n",
    "# %s for string, %d for integar\n",
    "print(\"my name is %s and my name is %d\" % (name,age))"
   ]
  },
  {
   "cell_type": "code",
   "execution_count": 105,
   "id": "a228bc89",
   "metadata": {},
   "outputs": [
    {
     "name": "stdout",
     "output_type": "stream",
     "text": [
      "my name is fujie, my age is 20, my sex is man\n",
      "我的名字是 fujie !我 20 岁了，我 174 米高~我是fujie\n"
     ]
    }
   ],
   "source": [
    "# format\n",
    "print(\"my name is {}, my age is {}, my sex is {}\".format('fujie',20,'man'))\n",
    "\n",
    "name='fujie'\n",
    "age=20\n",
    "height=174\n",
    "print(\"我的名字是 {nm} !我 {age} 岁了，我 {ht} 米高~我是{nm}\".format(nm=name, age=age, ht=height))"
   ]
  },
  {
   "cell_type": "markdown",
   "id": "c0d8b79f",
   "metadata": {},
   "source": [
    "## 7.2 acronym in python\n",
    "1. Lambda\n",
    "2. for\n",
    "3. if else\n",
    "4. enumerate\n",
    "5. zip\n",
    "6. reverse & resersed"
   ]
  },
  {
   "cell_type": "code",
   "execution_count": 106,
   "id": "7c460d80",
   "metadata": {},
   "outputs": [
    {
     "name": "stdout",
     "output_type": "stream",
     "text": [
      "24\n"
     ]
    }
   ],
   "source": [
    "# lambda\n",
    "add =lambda a,b : a+b\n",
    "print(add(1,23))"
   ]
  },
  {
   "cell_type": "code",
   "execution_count": 109,
   "id": "1004bed0",
   "metadata": {},
   "outputs": [
    {
     "name": "stdout",
     "output_type": "stream",
     "text": [
      "[0, 2, 4, 6, 8, 10, 12, 14, 16, 18]\n",
      "[0, 2, 4, 6, 8, 10, 12, 14, 16, 18]\n",
      "{'index0': 0, 'index1': 2, 'index2': 4, 'index3': 6, 'index4': 8, 'index5': 10, 'index6': 12, 'index7': 14, 'index8': 16, 'index9': 18}\n"
     ]
    }
   ],
   "source": [
    "# for \n",
    "\n",
    "# old version\n",
    "l = []\n",
    "for i in range(10):\n",
    "    l.append(i*2)\n",
    "print(l)\n",
    "\n",
    "# new version\n",
    "L=[i*2 for i in range(10)]\n",
    "print(L)\n",
    "\n",
    "d={\"index\"+str(i): i*2 for i in range(10)}\n",
    "print(d)"
   ]
  },
  {
   "cell_type": "code",
   "execution_count": 110,
   "id": "e315044c",
   "metadata": {},
   "outputs": [
    {
     "name": "stdout",
     "output_type": "stream",
     "text": [
      "0\n",
      "2\n"
     ]
    }
   ],
   "source": [
    "# if else\n",
    "\n",
    "# old version\n",
    "done = False\n",
    "\n",
    "if done:\n",
    "    a=1\n",
    "else:\n",
    "    a=0\n",
    "\n",
    "print(a)\n",
    "\n",
    "a = 1 if done else 2\n",
    "\n",
    "print(a)"
   ]
  },
  {
   "cell_type": "code",
   "execution_count": 112,
   "id": "6db32652",
   "metadata": {},
   "outputs": [
    {
     "name": "stdout",
     "output_type": "stream",
     "text": [
      "[1, 2, 13, 4]\n",
      "0 1\n",
      "1 2\n",
      "2 13\n",
      "3 4\n",
      "[1, 2, 23, 4]\n"
     ]
    }
   ],
   "source": [
    "# enumerate\n",
    "count = 0\n",
    "l=[1,2,3,4]\n",
    "for data in l:\n",
    "    if count==2:\n",
    "        data+=10\n",
    "    l[count]=data\n",
    "    count+=1\n",
    "\n",
    "print(l)\n",
    "\n",
    "# new version\n",
    "\n",
    "for count, data in enumerate(l): # enumerate return index and value\n",
    "    print(count, data)\n",
    "\n",
    "    if count==2:\n",
    "        data+=10\n",
    "    l[count]=data\n",
    "\n",
    "print(l)"
   ]
  },
  {
   "cell_type": "code",
   "execution_count": 114,
   "id": "3eb1a6ef",
   "metadata": {},
   "outputs": [
    {
     "name": "stdout",
     "output_type": "stream",
     "text": [
      "{'a': 100, 'b': 99, 'c': 98}\n",
      "{'a': 100, 'b': 99, 'c': 98}\n"
     ]
    }
   ],
   "source": [
    "# zip, can handel tow list at the same time\n",
    "name=['a','b','c']\n",
    "score=[100,99,98]\n",
    "\n",
    "d={}\n",
    "for i in range(3):\n",
    "   d[name[i]]=score[i]\n",
    "\n",
    "print(d) \n",
    "\n",
    "# new version\n",
    "d2={}\n",
    "for index,value in zip(name,score):\n",
    "    d2[index]=value\n",
    "\n",
    "print(d2)"
   ]
  },
  {
   "cell_type": "code",
   "execution_count": 133,
   "id": "dcda09ab",
   "metadata": {},
   "outputs": [
    {
     "name": "stdout",
     "output_type": "stream",
     "text": [
      "l1 is:  [3, 2, 1]\n",
      "l2 is:  [3, 2, 1]\n",
      "l is:  [1, 2, 3]\n",
      "l reverse is:  None\n",
      "version3, reverse(l): [3, 2, 1]\n",
      "1\n",
      "2\n",
      "3\n",
      "[3, 2, 1]\n",
      "[1, 2, 3]\n"
     ]
    }
   ],
   "source": [
    "# reverse & reversed\n",
    "\n",
    "l=[1,2,3]\n",
    "l1=[]\n",
    "\n",
    "for i in range(3):\n",
    "    #l1[i]=l[-i-1] # illegal, length l1 is set to 0\n",
    "    #l1.append(l[2-i])\n",
    "    l1.append(l[-i-1]) # reverse loop through list\n",
    "print('l1 is: ',l1)\n",
    "\n",
    "# version 2\n",
    "l2=[l[2-i] for i in range(len(l))]\n",
    "print('l2 is: ',l2)\n",
    "\n",
    "# versoin3, using reverse\n",
    "print('l is: ',l)\n",
    "print('l reverse is: ',l.reverse())\n",
    "print('version3, reverse(l):',l)\n",
    "\n",
    "# verson4, using reversed\n",
    "for i in reversed(l):\n",
    "    print(i)\n",
    "\n",
    "# version4, shallow copy\n",
    "l5=l[::-1]\n",
    "print(l1)\n",
    "print(l5)"
   ]
  },
  {
   "cell_type": "markdown",
   "id": "9c0b9917",
   "metadata": {},
   "source": [
    "## 7.3 copy"
   ]
  },
  {
   "cell_type": "code",
   "execution_count": 134,
   "id": "5fa1fe63",
   "metadata": {},
   "outputs": [
    {
     "name": "stdout",
     "output_type": "stream",
     "text": [
      "[1, 2, 3] [1, 2, 3]\n",
      "[1, 2, 3] [100, 2, 3]\n"
     ]
    }
   ],
   "source": [
    "L1=[1,2,3]\n",
    "L2=L1.copy() # if copy integer, use deep copy\n",
    "print(L1,L2)\n",
    "\n",
    "L2[0]=100\n",
    "print(L1,L2)"
   ]
  },
  {
   "cell_type": "code",
   "execution_count": 135,
   "id": "e90f27ca",
   "metadata": {},
   "outputs": [
    {
     "name": "stdout",
     "output_type": "stream",
     "text": [
      "[[1], 2, 3] [[1], 2, 3]\n",
      "[[-1], 2, 3] [[-1], 2, 3]\n"
     ]
    }
   ],
   "source": [
    "L1=[[1],2,3]\n",
    "L2=L1.copy() # if copy a list, use shallow copy\n",
    "\n",
    "print(L1,L2)\n",
    "L2[0][0]=-1 # L1[0][0] will also be modified. Because it's shallow copy\n",
    "print(L1,L2)"
   ]
  },
  {
   "cell_type": "markdown",
   "id": "c7fc6a5e",
   "metadata": {},
   "source": [
    "## 7.4 Generator\n",
    "in order to reduce space used by loop, we generate item when using them, so we don't to store the whole data"
   ]
  },
  {
   "cell_type": "code",
   "execution_count": 137,
   "id": "598425ce",
   "metadata": {},
   "outputs": [
    {
     "name": "stdout",
     "output_type": "stream",
     "text": [
      "throw an item 0\n",
      "get an item 0\n",
      "go back\n",
      "\n",
      "throw an item 2\n",
      "get an item 2\n",
      "go back\n",
      "\n",
      "throw an item 4\n",
      "get an item 4\n",
      "go back\n",
      "\n"
     ]
    }
   ],
   "source": [
    "def need_return():\n",
    "    for item in range(5):\n",
    "        if item % 2==0:\n",
    "            print('throw an item %d' % item)\n",
    "            yield item # generator has yield keyword\n",
    "            print('go back\\n')\n",
    "\n",
    "for i in need_return():\n",
    "    print('get an item %d' % i) # get yielded item from generator"
   ]
  },
  {
   "cell_type": "code",
   "execution_count": 138,
   "id": "9bad0c10",
   "metadata": {},
   "outputs": [
    {
     "name": "stdout",
     "output_type": "stream",
     "text": [
      "throw item: %d\n",
      "receive item: %d 3\n",
      "come back\n",
      "\n",
      "throw item: %d\n",
      "receive item: %d 4\n",
      "come back\n",
      "\n",
      "throw item: %d\n",
      "receive item: %d 5\n",
      "come back\n",
      "\n",
      "throw item: %d\n",
      "receive item: %d 6\n",
      "come back\n",
      "\n",
      "throw item: %d\n",
      "receive item: %d 7\n",
      "come back\n",
      "\n",
      "throw item: %d\n",
      "receive item: %d 8\n",
      "come back\n",
      "\n",
      "throw item: %d\n",
      "receive item: %d 9\n",
      "come back\n",
      "\n"
     ]
    }
   ],
   "source": [
    "# define initialization in generator\n",
    "def need_return(init_value):\n",
    "    for iter in range(init_value,10):\n",
    "        print('throw item: %d')\n",
    "        yield iter\n",
    "        print('come back\\n')\n",
    "\n",
    "for i in need_return(3): # set init value to 3\n",
    "    print('receive item: %d',i)"
   ]
  },
  {
   "cell_type": "code",
   "execution_count": 139,
   "id": "1a1ab3d7",
   "metadata": {},
   "outputs": [
    {
     "name": "stdout",
     "output_type": "stream",
     "text": [
      "10\n",
      "20\n",
      "40\n",
      "80\n",
      "160\n"
     ]
    }
   ],
   "source": [
    "# generator class\n",
    "class NeedReturn:\n",
    "\n",
    "    def __init__(self,init_value=0):\n",
    "        self.tmp=init_value\n",
    "        self.item=0\n",
    "\n",
    "    def __iter__(self):\n",
    "        return self     # decide what to do after one for loop,\n",
    "                        # in this case, return iter itself to continue for loop\n",
    "\n",
    "    def __next__(self): # return value to for loop\n",
    "        while True:\n",
    "            if self.item==self.tmp:\n",
    "                self.tmp*=2\n",
    "                return self.item\n",
    "            self.item+=1\n",
    "            if self.item==300:\n",
    "                raise StopIteration # Stop iteration\n",
    "\n",
    "for i in NeedReturn(10):\n",
    "    print(i)"
   ]
  },
  {
   "cell_type": "markdown",
   "id": "52c5c8a0",
   "metadata": {},
   "source": [
    "7.5 Decorator\n",
    "\n",
    "add features to group of functions"
   ]
  },
  {
   "cell_type": "code",
   "execution_count": 140,
   "id": "0e02f347",
   "metadata": {},
   "outputs": [
    {
     "name": "stdout",
     "output_type": "stream",
     "text": [
      "fujie  say I am in\n",
      "fujie  say I am out\n"
     ]
    }
   ],
   "source": [
    "def inner_fun(name):\n",
    "    print(name,' say I am in')\n",
    "\n",
    "def outer_fun(name):\n",
    "    inner_fun(name)\n",
    "    print(name,' say I am out')\n",
    "\n",
    "outer_fun('fujie')"
   ]
  },
  {
   "cell_type": "code",
   "execution_count": 141,
   "id": "4ae2ac0a",
   "metadata": {},
   "outputs": [
    {
     "name": "stdout",
     "output_type": "stream",
     "text": [
      "fujie  say i am in\n",
      "fujie  say i am out\n"
     ]
    }
   ],
   "source": [
    "def decorator(fn,name): # fn is a function\n",
    "    print(name,' say i am in')\n",
    "    return fn(name)\n",
    "\n",
    "def outer_fn(name):\n",
    "    print(name,' say i am out')\n",
    "\n",
    "decorator(outer_fn,'fujie')"
   ]
  },
  {
   "cell_type": "code",
   "execution_count": 143,
   "id": "029d9521",
   "metadata": {},
   "outputs": [
    {
     "name": "stdout",
     "output_type": "stream",
     "text": [
      "fujie say i am in\n",
      "fujie say i am out\n"
     ]
    }
   ],
   "source": [
    "def d(fn):\n",
    "    def wrapper(name):\n",
    "        print(name+' say i am in')\n",
    "        return fn(name)\n",
    "    return wrapper # return a function\n",
    "\n",
    "@d # put the decorator function d outside outer_fn\n",
    "def outer_fn(name):\n",
    "    print(name+' say i am out')\n",
    "\n",
    "outer_fn('fujie')"
   ]
  },
  {
   "cell_type": "code",
   "execution_count": 147,
   "id": "8ed6c782",
   "metadata": {},
   "outputs": [
    {
     "name": "stdout",
     "output_type": "stream",
     "text": [
      "name outer1\n",
      "morgan has no right\n",
      "mofanpy has no right\n"
     ]
    }
   ],
   "source": [
    "def authorization(fn):\n",
    "    def check_and_do(name):\n",
    "        if name != 'fujie':\n",
    "            print(name+' has no right')\n",
    "            return\n",
    "        res=fn(name) # call inner function\n",
    "        return res\n",
    "    return check_and_do\n",
    "\n",
    "@authorization\n",
    "def outer1(name):\n",
    "    print('name'+' outer1')\n",
    "\n",
    "@authorization\n",
    "def outer2(name):\n",
    "    print('name'+' outer2')\n",
    "\n",
    "@authorization\n",
    "def outer3(name):\n",
    "    print('name'+' outer3')\n",
    "\n",
    "    \n",
    "outer1(\"fujie\")\n",
    "outer2(\"morgan\")\n",
    "outer3(\"mofanpy\")"
   ]
  },
  {
   "cell_type": "code",
   "execution_count": null,
   "id": "c2612265",
   "metadata": {},
   "outputs": [],
   "source": []
  }
 ],
 "metadata": {
  "kernelspec": {
   "display_name": "Python 3 (ipykernel)",
   "language": "python",
   "name": "python3"
  },
  "language_info": {
   "codemirror_mode": {
    "name": "ipython",
    "version": 3
   },
   "file_extension": ".py",
   "mimetype": "text/x-python",
   "name": "python",
   "nbconvert_exporter": "python",
   "pygments_lexer": "ipython3",
   "version": "3.9.7"
  }
 },
 "nbformat": 4,
 "nbformat_minor": 5
}
