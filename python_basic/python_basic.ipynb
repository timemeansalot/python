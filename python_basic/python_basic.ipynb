{
 "cells": [
  {
   "cell_type": "markdown",
   "id": "2947e0d6",
   "metadata": {},
   "source": [
    "# 1 条件判断\n",
    "## 1.1 if判断"
   ]
  },
  {
   "cell_type": "code",
   "execution_count": 2,
   "id": "6a2dca50",
   "metadata": {},
   "outputs": [
    {
     "name": "stdout",
     "output_type": "stream",
     "text": [
      "Is True\n"
     ]
    }
   ],
   "source": [
    "flag = True\n",
    "if flag:\n",
    "    print(\"Is True\")\n",
    "else:\n",
    "    print(\"Not True\")"
   ]
  },
  {
   "cell_type": "code",
   "execution_count": 1,
   "id": "a6b443a8",
   "metadata": {},
   "outputs": [
    {
     "name": "stdout",
     "output_type": "stream",
     "text": [
      "a<b\n"
     ]
    }
   ],
   "source": [
    "a=10;\n",
    "b=20;\n",
    "if a>=b:\n",
    "    print(\"a>=b\")\n",
    "else:\n",
    "    print(\"a<b\")"
   ]
  },
  {
   "cell_type": "code",
   "execution_count": 2,
   "id": "d945ec36",
   "metadata": {},
   "outputs": [
    {
     "name": "stdout",
     "output_type": "stream",
     "text": [
      "c>a and c>b\n"
     ]
    }
   ],
   "source": [
    "a=10\n",
    "b=11\n",
    "c=12\n",
    "if(a>b and a>c): # and\n",
    "    print('a>b and a>c')\n",
    "elif(b>a and b>c):\n",
    "    print(\"b>a and b>c\")\n",
    "else:\n",
    "    print(\"c>a and c>b\")"
   ]
  },
  {
   "cell_type": "markdown",
   "id": "72c9ab52",
   "metadata": {},
   "source": [
    "## 1.2 for 和 while循环"
   ]
  },
  {
   "cell_type": "code",
   "execution_count": 1,
   "id": "02e8a4fc",
   "metadata": {},
   "outputs": [
    {
     "name": "stdout",
     "output_type": "stream",
     "text": [
      "0\n",
      "<class 'int'>\n",
      "1\n",
      "<class 'int'>\n",
      "2\n",
      "<class 'int'>\n",
      "3\n",
      "<class 'int'>\n",
      "4\n",
      "<class 'int'>\n"
     ]
    }
   ],
   "source": [
    "for i in range(5):\n",
    "    print(i)\n",
    "    print(type(i))"
   ]
  },
  {
   "cell_type": "code",
   "execution_count": 2,
   "id": "1b8480fe",
   "metadata": {},
   "outputs": [
    {
     "name": "stdout",
     "output_type": "stream",
     "text": [
      "2\n",
      "3\n",
      "4\n"
     ]
    }
   ],
   "source": [
    "for i in range(2,5):\n",
    "    print(i)"
   ]
  },
  {
   "cell_type": "code",
   "execution_count": 3,
   "id": "ca34b1ac",
   "metadata": {},
   "outputs": [
    {
     "name": "stdout",
     "output_type": "stream",
     "text": [
      "3\n",
      "5\n",
      "7\n",
      "9\n"
     ]
    }
   ],
   "source": [
    "for i in range(3,10,2):\n",
    "    print(i)"
   ]
  },
  {
   "cell_type": "code",
   "execution_count": 4,
   "id": "0211131e",
   "metadata": {},
   "outputs": [
    {
     "name": "stdout",
     "output_type": "stream",
     "text": [
      "10\n",
      "11\n",
      "12\n",
      "13\n",
      "14\n",
      "15\n",
      "16\n",
      "17\n",
      "18\n",
      "19\n"
     ]
    }
   ],
   "source": [
    "num=10;\n",
    "while num != 20:\n",
    "    print(num)\n",
    "    num=num+1;"
   ]
  },
  {
   "cell_type": "code",
   "execution_count": 5,
   "id": "3571fd11",
   "metadata": {},
   "outputs": [
    {
     "name": "stdout",
     "output_type": "stream",
     "text": [
      "0\n",
      "1\n",
      "2\n",
      "3\n",
      "4\n",
      "5\n",
      "6\n",
      "7\n",
      "8\n",
      "9\n"
     ]
    }
   ],
   "source": [
    "num = 0\n",
    "while num !=20:\n",
    "    if(num==10):\n",
    "        break # break if num = 10\n",
    "    print(num)\n",
    "    num=num+1"
   ]
  },
  {
   "cell_type": "markdown",
   "id": "4a788134",
   "metadata": {},
   "source": [
    "# 2 数据种类\n",
    "数据种类包括：\n",
    "- List\n",
    "- Dict\n",
    "- Tuple\n",
    "- Set"
   ]
  },
  {
   "cell_type": "markdown",
   "id": "bd92ce4c",
   "metadata": {},
   "source": [
    "## 2.1 List methods\n",
    "1. append(value)\n",
    "2. insert(index,value)\n",
    "3. count(value)\n",
    "4. index(value)\n",
    "5. pop(index)"
   ]
  },
  {
   "cell_type": "code",
   "execution_count": 44,
   "id": "95c02235",
   "metadata": {},
   "outputs": [
    {
     "name": "stdout",
     "output_type": "stream",
     "text": [
      "['apple']\n",
      "['apple', 'banana']\n",
      "['apple', 'banana']\n",
      "['apple', 'banana']\n",
      "True True\n",
      "1\n",
      "['apple', 'apple', 'banana']\n",
      "0\n",
      "[0, 1, 2, 3, 4, 5, 6, 7, 8, 9]\n",
      "0\n",
      "[1, 2, 3, 4, 5, 6, 7, 8, 9]\n"
     ]
    }
   ],
   "source": [
    "# test list\n",
    "# List 很像是c里面的vector，访问元素的时间复杂度是O(1)\n",
    "my_list=['apple']\n",
    "print(my_list)\n",
    "\n",
    "my_list.append('banana') # add item at the end of list\n",
    "print(my_list)\n",
    "\n",
    "my_list2=my_list.copy() # return a copy of list\n",
    "my_list3=my_list\n",
    "print(my_list2)\n",
    "print(my_list3)\n",
    "print(my_list==my_list2, my_list==my_list3)\n",
    "\n",
    "print(my_list.count(\"apple\")) # count how many elements of a specific value in a list\n",
    "\n",
    "my_list.insert(1,'apple') # insert value at some index\n",
    "print(my_list);\n",
    "\n",
    "print(my_list.index('apple')) # return first index of a value\n",
    "\n",
    "my_list4=list(range(10));\n",
    "print(my_list4)\n",
    "\n",
    "value_0=my_list4.pop(0) # pop value at index\n",
    "print(value_0)\n",
    "print(my_list4)"
   ]
  },
  {
   "cell_type": "markdown",
   "id": "a905b139",
   "metadata": {},
   "source": [
    "## 2.2 Dict Methods\n",
    "1. keys()\n",
    "2. values()\n",
    "3. get(key)\n",
    "4. pop(key)"
   ]
  },
  {
   "cell_type": "code",
   "execution_count": 67,
   "id": "08b9545a",
   "metadata": {},
   "outputs": [
    {
     "name": "stdout",
     "output_type": "stream",
     "text": [
      "{'key1': 'apple', 'key2': 'banana'}\n",
      "dict_keys(['key1', 'key2'])\n",
      "dict_values(['apple', 'banana'])\n",
      "{'key1': 'apple', 'key2': 'banana', 'key3': 'orange'}\n",
      "{'key2': 'banana', 'key3': 'orange'}\n",
      "banana\n"
     ]
    }
   ],
   "source": [
    "# test dict\n",
    "# dict isn't store by linear, cant' be accessed by dict[0], dict[1]\n",
    "my_dict={'key1':'apple','key2':'banana'}\n",
    "print(my_dict)\n",
    "\n",
    "keys=my_dict.keys() # return all keys in dict\n",
    "print(a)\n",
    "\n",
    "values=my_dict.values() # return all values\n",
    "print(values)\n",
    "\n",
    "my_dict.update({'key3':'orange'}) # insert a key:value to dict\n",
    "print(my_dict)\n",
    "\n",
    "my_dict.pop('key1') # pop value from dict by key\n",
    "print(my_dict)\n",
    "\n",
    "print(my_dict.get('key2')) # get value by key"
   ]
  },
  {
   "cell_type": "code",
   "execution_count": 69,
   "id": "6512229f",
   "metadata": {},
   "outputs": [
    {
     "name": "stdout",
     "output_type": "stream",
     "text": [
      "('apple', 'banana', 'apple', 'orange')\n",
      "2\n",
      "1\n"
     ]
    }
   ],
   "source": [
    "# test tuple, elements in tuple can't be changed\n",
    "my_tuple=('apple','banana','apple','orange');\n",
    "print(my_tuple)\n",
    "\n",
    "print(my_tuple.count('apple')) # count how many values in tuple\n",
    "print(my_tuple.index('banana')) # index of first value in tuple"
   ]
  },
  {
   "cell_type": "markdown",
   "id": "2afa5da6",
   "metadata": {},
   "source": [
    "## 2.3 Set Methods\n",
    "1. add(value)\n",
    "2. poip()\n",
    "\n",
    "...."
   ]
  },
  {
   "cell_type": "code",
   "execution_count": 4,
   "id": "59512362",
   "metadata": {},
   "outputs": [
    {
     "name": "stdout",
     "output_type": "stream",
     "text": [
      "{'orange', 'banana', 'apple'}\n",
      "{'orange', 'cherry', 'banana', 'apple'}\n",
      "orange\n",
      "{'cherry', 'banana', 'apple'}\n"
     ]
    }
   ],
   "source": [
    "# test set\n",
    "\n",
    "fruits={'banana','apple','orange'};\n",
    "print(fruits)\n",
    "\n",
    "fruits.add('cherry') # add element\n",
    "print(fruits)\n",
    "\n",
    "print(fruits.pop())\n",
    "print(fruits)"
   ]
  },
  {
   "cell_type": "markdown",
   "id": "568507e2",
   "metadata": {},
   "source": [
    "# 3 Function, Class, Module\n",
    "## 3.1 Function\n",
    "\n",
    "def function_name(param):"
   ]
  },
  {
   "cell_type": "code",
   "execution_count": 6,
   "id": "8a440461",
   "metadata": {},
   "outputs": [
    {
     "name": "stdout",
     "output_type": "stream",
     "text": [
      "my_apple.txt\n"
     ]
    }
   ],
   "source": [
    "def modify_filename(filename):\n",
    "    filename=filename+'.txt'\n",
    "    filename=\"my_\"+filename\n",
    "    print(filename)\n",
    "\n",
    "f='apple'\n",
    "\n",
    "modify_filename(f)"
   ]
  },
  {
   "cell_type": "markdown",
   "id": "fde47852",
   "metadata": {},
   "source": [
    "## 3.2 Class\n",
    "\n",
    "class className:\n",
    "    \n",
    "    method"
   ]
  },
  {
   "cell_type": "code",
   "execution_count": 11,
   "id": "ddaee79c",
   "metadata": {},
   "outputs": [
    {
     "name": "stdout",
     "output_type": "stream",
     "text": [
      "learn python\n",
      "today\n",
      "Java\n",
      "Java today\n"
     ]
    }
   ],
   "source": [
    "class File:\n",
    "    def __init__(self,name,create_time='today'):\n",
    "        self.name=name\n",
    "        self.create_time=create_time\n",
    "\n",
    "    def change_name(self,name):\n",
    "        self.name=name\n",
    "    \n",
    "    #function with return value\n",
    "    def get_info(self):\n",
    "        return self.name+\" \"+self.create_time\n",
    "\n",
    "my_file=File('learn python')\n",
    "print(my_file.name)\n",
    "print(my_file.create_time)\n",
    "\n",
    "my_file.change_name('Java')\n",
    "print(my_file.name)\n",
    "\n",
    "print(my_file.get_info())"
   ]
  },
  {
   "cell_type": "code",
   "execution_count": 13,
   "id": "3feee637",
   "metadata": {},
   "outputs": [
    {
     "name": "stdout",
     "output_type": "stream",
     "text": [
      "Chinese today\n",
      "Chinese today language: zh-cn\n"
     ]
    }
   ],
   "source": [
    "# class inherit\n",
    "\n",
    "class Video(File):\n",
    "    def __init__(self,name,windows_size=(1080*900)):\n",
    "        super().__init__(name)\n",
    "        self.windows_size=windows_size\n",
    "\n",
    "class Text(File):\n",
    "    def __init__(self,name,language='zh-cn'):\n",
    "        super().__init__(name)\n",
    "        self.language=language\n",
    "\n",
    "    def more_info(self):\n",
    "        return super().get_info()+' language: '+self.language\n",
    "\n",
    "my_text=Text('Chinese')\n",
    "print(my_text.get_info()) # call method in parent class\n",
    "print(my_text.more_info()) # use own method"
   ]
  },
  {
   "cell_type": "code",
   "execution_count": 15,
   "id": "94367657",
   "metadata": {},
   "outputs": [],
   "source": [
    "# class with private field and method\n",
    "\n",
    "class File:\n",
    "    def __init__(self):\n",
    "        self.name='f1'\n",
    "        self.__deleted=False # don't let others use this field\n",
    "        self._type='txt'     # don't want others to use this field\n",
    "\n",
    "    def delete(self):        # public method\n",
    "        self.__force_delete()\n",
    "\n",
    "    def __force_delete(self): # don't let others call this method\n",
    "        self.__deleted=True\n",
    "        return True\n",
    "\n",
    "    def _soft_delete(self):  # don't want others to call this method\n",
    "        self.__force_delete()\n",
    "        return True\n",
    "\n",
    "my_file=File()\n",
    "my_file.delete()"
   ]
  },
  {
   "cell_type": "markdown",
   "id": "6c8b033a",
   "metadata": {},
   "source": [
    "## 3.3 Module\n",
    "TBD"
   ]
  },
  {
   "cell_type": "markdown",
   "id": "0c0bbdae",
   "metadata": {},
   "source": [
    "# 4 File, directory and RE\n",
    "## 4.1 File"
   ]
  },
  {
   "cell_type": "code",
   "execution_count": 16,
   "id": "41fd748b",
   "metadata": {},
   "outputs": [],
   "source": [
    "f=open('new_file.txt','w')\n",
    "f.write('this is new file')\n",
    "f.close()"
   ]
  },
  {
   "cell_type": "code",
   "execution_count": 21,
   "id": "0fa20a47",
   "metadata": {},
   "outputs": [],
   "source": [
    "with open('new_file2.txt','w') as f: # close automaticly\n",
    "    f.writelines(['this is line 1\\n','this is second line'])\n",
    "\n"
   ]
  },
  {
   "cell_type": "code",
   "execution_count": 19,
   "id": "b5ae40a5",
   "metadata": {},
   "outputs": [
    {
     "name": "stdout",
     "output_type": "stream",
     "text": [
      "this is new file\n"
     ]
    }
   ],
   "source": [
    "# read from file\n",
    "f=open('new_file.txt','r')\n",
    "print(f.read())\n",
    "f.close()"
   ]
  },
  {
   "cell_type": "code",
   "execution_count": 22,
   "id": "a6c9e9b5",
   "metadata": {},
   "outputs": [
    {
     "name": "stdout",
     "output_type": "stream",
     "text": [
      "['this is line 1\\n', 'this is second line']\n"
     ]
    }
   ],
   "source": [
    "with open('new_file2.txt','r') as f:\n",
    "    print(f.readlines())\n",
    "\n"
   ]
  },
  {
   "cell_type": "code",
   "execution_count": 23,
   "id": "804c78bd",
   "metadata": {},
   "outputs": [
    {
     "name": "stdout",
     "output_type": "stream",
     "text": [
      "this is line 1\n",
      "\n",
      "this is second line\n",
      "\n"
     ]
    }
   ],
   "source": [
    "with open('new_file2.txt','r') as f:\n",
    "    while True:\n",
    "        line = f.readline() # read one line at each time to save memory\n",
    "        print(line)\n",
    "        if not line:\n",
    "            break"
   ]
  },
  {
   "cell_type": "markdown",
   "id": "9873c2d7",
   "metadata": {},
   "source": [
    "## 4.2 OS operating\n",
    "1. os.getcwd()\n",
    "2. os.listdir()\n",
    "3. os.makedirs()\n",
    "4. os.path.exists()\n",
    "\n",
    "文件管理系统:\n",
    "1. os.removedirs()\n",
    "2. shutil.rmtree()\n",
    "3. os.rename()\n",
    "\n",
    "文件目录多种建议\n",
    "1. os.path.isfile()\n",
    "2. os.path.exists()\n",
    "3. os.path.isdir()\n",
    "4. os.path.basename()\n",
    "5. os.path.dirname()\n",
    "6. os.path.split()"
   ]
  },
  {
   "cell_type": "code",
   "execution_count": 24,
   "id": "ee07b645",
   "metadata": {},
   "outputs": [
    {
     "name": "stdout",
     "output_type": "stream",
     "text": [
      "current directory:  /home/fujie/workspace/python\n",
      "stuff in current folder ['Untitled.ipynb', 'new_file.txt', 'Python Basic.ipynb', 'new_file2.txt', '.ipynb_checkpoints']\n"
     ]
    }
   ],
   "source": [
    "import os\n",
    "\n",
    "print('current directory: ',os.getcwd())\n",
    "print('stuff in current folder',os.listdir())"
   ]
  },
  {
   "cell_type": "code",
   "execution_count": 25,
   "id": "53e62fdb",
   "metadata": {},
   "outputs": [
    {
     "name": "stdout",
     "output_type": "stream",
     "text": [
      "file new_file.txt exists\n"
     ]
    }
   ],
   "source": [
    "if os.path.exists('new_file.txt'):\n",
    "    print(\"file new_file.txt exists\")\n",
    "else:\n",
    "    print(\"file doesn't exists\")"
   ]
  },
  {
   "cell_type": "code",
   "execution_count": 28,
   "id": "1c8e2213",
   "metadata": {},
   "outputs": [
    {
     "name": "stdout",
     "output_type": "stream",
     "text": [
      "head:  /home/fujie/workspace  tail:  python\n"
     ]
    }
   ],
   "source": [
    "head,tail=os.path.split(os.getcwd())\n",
    "print('head: ',head,\" tail: \",tail)"
   ]
  },
  {
   "cell_type": "markdown",
   "id": "5a9ae349",
   "metadata": {},
   "source": [
    "## 4.3 regular expression\n",
    "1. re.compile()\n",
    "2. pin.search()\n",
    "3. re.search()\n",
    "4. string.encode()\n",
    "5. re.search()\n",
    "6. re.match()\n",
    "7. re.findall()\n",
    "8. re.finditer()\n",
    "9. re.split()\n",
    "10. re.sub()\n",
    "11. re.subn()"
   ]
  },
  {
   "cell_type": "code",
   "execution_count": 29,
   "id": "b77cacc0",
   "metadata": {},
   "outputs": [
    {
     "name": "stdout",
     "output_type": "stream",
     "text": [
      "file in string True\n",
      "files in string False\n"
     ]
    }
   ],
   "source": [
    "# judge without using Regular Expression\n",
    "patter1='file'\n",
    "patter2='files'\n",
    "string = 'the file is in the folder'\n",
    "print('file in string',patter1 in string)\n",
    "print('files in string',patter2 in string)"
   ]
  },
  {
   "cell_type": "code",
   "execution_count": 5,
   "id": "55db4d67",
   "metadata": {},
   "outputs": [
    {
     "name": "stdout",
     "output_type": "stream",
     "text": [
      "mofan@mofanpy.com is a valid email: <re.Match object; span=(0, 17), match='mofan@mofanpy.com'>\n"
     ]
    }
   ],
   "source": [
    "# use regular expression\n",
    "import re\n",
    "\n",
    "ptn=re.compile(r\"\\w+?@\\w+?\\.com\") # define search pattern\n",
    "\n",
    "matched=ptn.search(\"mofan@mofanpy.com\")\n",
    "print('mofan@mofanpy.com is a valid email:', matched)"
   ]
  },
  {
   "cell_type": "code",
   "execution_count": 31,
   "id": "10333a75",
   "metadata": {},
   "outputs": [
    {
     "name": "stdout",
     "output_type": "stream",
     "text": [
      "<re.Match object; span=(2, 5), match='run'>\n",
      "run\n"
     ]
    }
   ],
   "source": [
    "match = re.search(r'run','i run to you') # search(pattern, string)\n",
    "print(match)\n",
    "print(match.group()) # group get the match sentence"
   ]
  },
  {
   "cell_type": "code",
   "execution_count": 37,
   "id": "5308cdaa",
   "metadata": {},
   "outputs": [
    {
     "data": {
      "text/plain": [
       "<re.Match object; span=(2, 5), match='run'>"
      ]
     },
     "execution_count": 37,
     "metadata": {},
     "output_type": "execute_result"
    }
   ],
   "source": [
    "re.search(r'ran|run','I ran to you, i run to  you')\n",
    "# equal to \n",
    "re.search(r'r[au]n','i run to you') # [au] means either a or u is ok"
   ]
  },
  {
   "cell_type": "code",
   "execution_count": 39,
   "id": "1573b252",
   "metadata": {},
   "outputs": [
    {
     "name": "stdout",
     "output_type": "stream",
     "text": [
      "<re.Match object; span=(2, 6), match='find'>\n",
      "<re.Match object; span=(2, 7), match='found'>\n"
     ]
    }
   ],
   "source": [
    "print(re.search(r'f(ou|i)nd','i find you')) #(ou|i) is a group, inside this group 'ou' or 'u' are both OK\n",
    "print(re.search(r'f(ou|i)nd','i found you'))"
   ]
  },
  {
   "cell_type": "markdown",
   "id": "2fd1e0af",
   "metadata": {},
   "source": [
    "regular table:\n",
    "1. \\d: any number\n",
    "2. \\D: anything but not number\n",
    "3. \\s: space\n",
    "4. \\S: not space\n",
    "5. \\w: alphabet, number and _\n",
    "6. \\W: something not in \\w\n",
    "7. \\b: match margin of a vacabulary, for example: er\\b can match never but can't match verb\n",
    "8. \\B: match not margin of a vacabulary, for example: er\\B can't match never but can match verb\n",
    "9. \\\\: match \\\n",
    "10. .: match any character except for \\n\n",
    "\n",
    "repeat times\n",
    "1. ?: 1 or 0\n",
    "2. *: 0 to infinit\n",
    "3. +: 1 to infinit\n",
    "4. {n,m}: repeat n to m times\n",
    "5. +?: use + as less as possible\n",
    "6. *?: use * as less as possible\n",
    "7. ??: use ? as less as possible\n",
    "\n",
    "begining or end\n",
    "1. ^: match the begining of one sentence\n",
    "2. $: match the end of one sentence\n",
    "3. \\A: match the most begining\n",
    "4. \\B: match the most end\n"
   ]
  },
  {
   "cell_type": "code",
   "execution_count": 40,
   "id": "b2b18066",
   "metadata": {},
   "outputs": [
    {
     "name": "stdout",
     "output_type": "stream",
     "text": [
      "<re.Match object; span=(0, 11), match='13812345678'>\n",
      "<re.Match object; span=(0, 11), match='13812345678'>\n"
     ]
    }
   ],
   "source": [
    "print(re.search(r'138\\d{8}','13812345678'))\n",
    "print(re.search(r'138\\d{8}','138123456780000'))\n"
   ]
  },
  {
   "cell_type": "markdown",
   "id": "e3307734",
   "metadata": {},
   "source": [
    "Regular Expression methods\n",
    "1. re.search(pattern, string): search in string to find the first pattern\n",
    "2. re.match(pattern, string): search pattern from the *beginning* of sentence\n",
    "3. re.findall()\n",
    "4. re.finditer()\n",
    "5. re.split()\n",
    "6. re.sub()\n",
    "7. re.subn() "
   ]
  },
  {
   "cell_type": "code",
   "execution_count": 51,
   "id": "a35a88d7",
   "metadata": {},
   "outputs": [
    {
     "name": "stdout",
     "output_type": "stream",
     "text": [
      "search:  <re.Match object; span=(2, 5), match='run'>\n",
      "match:  None\n",
      "match:  <re.Match object; span=(0, 3), match='run'>\n",
      "findall: ['run', 'ran']\n",
      "finditer:  <re.Match object; span=(2, 5), match='run'>\n",
      "finditer:  <re.Match object; span=(18, 21), match='ran'>\n",
      "split:  ['i ', ' to you, you ', ' to him']\n",
      "split:  ['apple', 'orange', 'banana']\n",
      "sub:  i jump to you, you jump to him\n",
      "subn:  ('i jump to you, you jump to him', 2)\n"
     ]
    }
   ],
   "source": [
    "print('search: ',re.search(r'run','i run to you'))\n",
    "print('match: ',re.match(r'run','i run to you')) # match must find pattern at the begining of sentence\n",
    "print('match: ',re.match(r'run','run to you'))\n",
    "print('findall:',re.findall(r'r[au]n','i run to you, you ran to him'))\n",
    "\n",
    "for i in re.finditer(r'r[au]n','i run to you, you ran to him'):\n",
    "    print('finditer: ',i)\n",
    "\n",
    "print('split: ',re.split(r'r[au]n','i run to you, you ran to him'))\n",
    "print('split: ',re.split(r':','apple:orange:banana'))\n",
    "\n",
    "print('sub: ',re.sub(r'r[au]n','jump','i run to you, you ran to him'))\n",
    "print('subn: ',re.subn(r'r[au]n','jump','i run to you, you ran to him'))"
   ]
  },
  {
   "cell_type": "code",
   "execution_count": 8,
   "id": "e4c39a99",
   "metadata": {},
   "outputs": [
    {
     "name": "stdout",
     "output_type": "stream",
     "text": [
      "2021-02-02\n",
      "2021-02-03\n",
      "2021-02-04\n"
     ]
    }
   ],
   "source": [
    "# get infomation using RE\n",
    "\n",
    "found=[]\n",
    "\n",
    "for i in re.finditer(r'[\\w-]+.jpg','I have 2021-02-02.jpg, 2021-02-03.jpg, 2021-02-04.jpg'):\n",
    "    found.append(re.sub(r'.jpg','',i.group()))\n",
    "\n",
    "for i in found:\n",
    "    print(i)"
   ]
  },
  {
   "cell_type": "code",
   "execution_count": 9,
   "id": "578e3c5f",
   "metadata": {},
   "outputs": [
    {
     "name": "stdout",
     "output_type": "stream",
     "text": [
      "without (): ['2021-02-01.jpg', '2021-02-02.jpg', '2021-02-03.jpg']\n",
      "with (): ['2021-02-01', '2021-02-02', '2021-02-03']\n"
     ]
    }
   ],
   "source": [
    "string = \"I have 2021-02-01.jpg, 2021-02-02.jpg, 2021-02-03.jpg\"\n",
    "print(\"without ():\", re.findall(r\"[\\w-]+?\\.jpg\", string))\n",
    "print(\"with ():\", re.findall(r\"([\\w-]+?)\\.jpg\", string)) # () will return content directly. \n",
    "                                                        # In this case, return [\\w-] item"
   ]
  },
  {
   "cell_type": "code",
   "execution_count": 11,
   "id": "8d3cfaaa",
   "metadata": {},
   "outputs": [
    {
     "name": "stdout",
     "output_type": "stream",
     "text": [
      "match string:  2021-02-01.jpg 2021 02 01\n",
      "match string:  2021-02-02.jpg 2021 02 02\n",
      "match string:  2021-02-03.jpg 2021 02 03\n"
     ]
    }
   ],
   "source": [
    "string = \"I have 2021-02-01.jpg, 2021-02-02.jpg, 2021-02-03.jpg\"\n",
    "match=re.finditer(r\"(\\d+?)-(\\d+?)-(\\d+?).jpg\",string)\n",
    "\n",
    "for file in match:\n",
    "    print(\"match string: \",file.group(0),file.group(1),file.group(2),file.group(3)) # group(0) is total item"
   ]
  },
  {
   "cell_type": "markdown",
   "id": "36c90fe7",
   "metadata": {},
   "source": [
    "## 4.4 序列化\n",
    "### 4.4.1 pickle\n",
    "1. pickle.dump(data, filename)\n",
    "2. pickle.load(filename)"
   ]
  },
  {
   "cell_type": "code",
   "execution_count": 12,
   "id": "f05581dd",
   "metadata": {},
   "outputs": [
    {
     "data": {
      "text/plain": [
       "b'\\x80\\x04\\x958\\x00\\x00\\x00\\x00\\x00\\x00\\x00}\\x94(\\x8c\\x08filename\\x94\\x8c\\x06f1.txt\\x94\\x8c\\x0bcreate_time\\x94\\x8c\\x05today\\x94\\x8c\\x04size\\x94Kou.'"
      ]
     },
     "execution_count": 12,
     "metadata": {},
     "output_type": "execute_result"
    }
   ],
   "source": [
    "import pickle;\n",
    "\n",
    "data={'filename':'f1.txt','create_time':'today','size':111}\n",
    "\n",
    "pickle.dumps(data) # zip data to pickle"
   ]
  },
  {
   "cell_type": "code",
   "execution_count": 14,
   "id": "e062c16c",
   "metadata": {},
   "outputs": [
    {
     "name": "stdout",
     "output_type": "stream",
     "text": [
      "['Untitled.ipynb', 'data.pkl', 'Python Basic.ipynb', '.ipynb_checkpoints']\n"
     ]
    }
   ],
   "source": [
    "data={'filename':'f1.txt','create_time':'today','size':111}\n",
    "\n",
    "with open('data.pkl','wb') as f:\n",
    "    pickle.dump(data,f) # write data to file with pickle\n",
    "\n",
    "print(os.listdir())"
   ]
  },
  {
   "cell_type": "code",
   "execution_count": 16,
   "id": "622cfc2e",
   "metadata": {},
   "outputs": [
    {
     "name": "stdout",
     "output_type": "stream",
     "text": [
      "{'filename': 'f1.txt', 'create_time': 'today', 'size': 111}\n"
     ]
    }
   ],
   "source": [
    "with open('data.pkl','rb') as f:\n",
    "    data = pickle.load(f) # read data\n",
    "\n",
    "print(data)"
   ]
  },
  {
   "cell_type": "code",
   "execution_count": 18,
   "id": "678b6602",
   "metadata": {},
   "outputs": [
    {
     "name": "stdout",
     "output_type": "stream",
     "text": [
      "name: PC , creat_time: 2020 , size: 10\n",
      "name: computer , creat_time: 2020 , size: 10\n",
      "name: computer , creat_time: 2020 , size: 10\n"
     ]
    }
   ],
   "source": [
    "# pickle can used on Class\n",
    "class File:\n",
    "\n",
    "    def __init__(self,name,create_time,size):\n",
    "        self.name=name\n",
    "        self.create_time=create_time\n",
    "        self.size=size\n",
    "\n",
    "    def change_name(self,name):\n",
    "        self.name=name\n",
    "\n",
    "    def get_info(self):\n",
    "        return 'name: '+self.name+' , creat_time: '+self.create_time+' , size: '+self.size;\n",
    "\n",
    "my_file=File('PC','2020','10')\n",
    "print(my_file.get_info())\n",
    "my_file.change_name('computer')\n",
    "print(my_file.get_info())\n",
    "\n",
    "\n",
    "with open('pickle_with_class.pkl','wb') as f:\n",
    "    pickle.dump(my_file,f) # store class instance\n",
    "\n",
    "with open('pickle_with_class.pkl','rb') as f:\n",
    "    data=pickle.load(f)    # read class instance\n",
    "\n",
    "print(data.get_info())"
   ]
  },
  {
   "cell_type": "markdown",
   "id": "e61692ae",
   "metadata": {},
   "source": [
    "# 5 try-except\n",
    "\n",
    "## 5.1 handle exception and raise error in user_defined function"
   ]
  },
  {
   "cell_type": "code",
   "execution_count": 4,
   "metadata": {},
   "outputs": [
    {
     "name": "stdout",
     "output_type": "stream",
     "text": [
      "{'filename': 'f1.txt', 'create_time': 'today', 'size': 111}\n"
     ]
    }
   ],
   "source": [
    "import pickle\n",
    "try:\n",
    "    with open('data.pkl','rb') as f:\n",
    "        data=pickle.load(f)\n",
    "        print(data)\n",
    "except FileNotFoundError as e:\n",
    "    print(e)\n"
   ]
  },
  {
   "cell_type": "code",
   "execution_count": 12,
   "id": "d2559faa",
   "metadata": {},
   "outputs": [
    {
     "name": "stdout",
     "output_type": "stream",
     "text": [
      "key or index error: 'gender'\n",
      "('age', 20)\n",
      "fujie\n",
      "{}\n"
     ]
    }
   ],
   "source": [
    "d={'name':'fujie','age':20}\n",
    "l=[1,2,3]\n",
    "\n",
    "try:\n",
    "    v=d['gender']\n",
    "    v1=d.popitem('name')\n",
    "    print(v1)\n",
    "    l[3]=4\n",
    "except (KeyError,IndexError) as e:\n",
    "    print('key or index error:', e)\n",
    "    v1=d.popitem()\n",
    "    print(v1)\n",
    "    v2=d.pop('name')\n",
    "    print(v2)\n",
    "    print(d)"
   ]
  },
  {
   "cell_type": "code",
   "execution_count": 17,
   "id": "3bcf9873",
   "metadata": {},
   "outputs": [
    {
     "name": "stdout",
     "output_type": "stream",
     "text": [
      "key error not caught\n"
     ]
    }
   ],
   "source": [
    "# try-except-else\n",
    "l=[1,2,3,4]\n",
    "d={\"name\":\"fujie\",\"age\":20}\n",
    "\n",
    "try:\n",
    "    l[3]=5\n",
    "    d[\"gender\"]=\"man\"\n",
    "except IndexError as e:     # this can catch index error, but can't catch key error obove\n",
    "    print(\"index error: \",e)\n",
    "else:\n",
    "    print('key error not caught')"
   ]
  },
  {
   "cell_type": "code",
   "execution_count": 19,
   "id": "08140270",
   "metadata": {},
   "outputs": [
    {
     "name": "stdout",
     "output_type": "stream",
     "text": [
      "key error:  list assignment index out of range\n",
      "reach finally\n",
      "reach finally\n"
     ]
    }
   ],
   "source": [
    "l=[1,2,3]\n",
    "\n",
    "try:\n",
    "    l[3]=4\n",
    "except IndexError as e:       # error occur, but finally will also run\n",
    "    print(\"key error: \",e) \n",
    "finally:\n",
    "    print('reach finally')\n",
    "\n",
    "l=[1,2,3,4]\n",
    "\n",
    "try:\n",
    "    l[3]=4\n",
    "except KeyError as e:\n",
    "    print(\"key error: \",e)   # error not occur, finally will run\n",
    "finally:\n",
    "    print('reach finally')"
   ]
  },
  {
   "cell_type": "code",
   "execution_count": 21,
   "id": "193c07cc",
   "metadata": {},
   "outputs": [
    {
     "name": "stdout",
     "output_type": "stream",
     "text": [
      "value error:  I said no negative\n",
      "reach finally\n"
     ]
    }
   ],
   "source": [
    "# raise an error\n",
    "\n",
    "def no_negative(num):\n",
    "    if(num<0):\n",
    "        raise ValueError(\"I said no negative\")\n",
    "    return num\n",
    "\n",
    "try:\n",
    "    a=no_negative(-1)\n",
    "except ValueError as e:\n",
    "    print(\"value error: \",e) # e is the content raised in no_negative function\n",
    "finally:\n",
    "    print(\"reach finally\")"
   ]
  },
  {
   "cell_type": "markdown",
   "id": "7ea6a3dc",
   "metadata": {},
   "source": [
    "## 5.2 Unittest\n",
    "First, design test case. Second, write function to match the test case."
   ]
  },
  {
   "cell_type": "code",
   "execution_count": 27,
   "id": "d29c66d3",
   "metadata": {},
   "outputs": [
    {
     "name": "stderr",
     "output_type": "stream",
     "text": [
      "usage: ipykernel_launcher.py [-h] [-v] [-q] [--locals] [-f] [-c] [-b]\n",
      "                             [-k TESTNAMEPATTERNS]\n",
      "                             [tests ...]\n",
      "ipykernel_launcher.py: error: argument -f/--failfast: ignored explicit argument '/tmp/tmp-5086UKmgDR9ZxK01.json'\n",
      "ERROR:root:Internal Python error in the inspect module.\n",
      "Below is the traceback from this internal error.\n",
      "\n"
     ]
    },
    {
     "name": "stdout",
     "output_type": "stream",
     "text": [
      "Traceback (most recent call last):\n",
      "  File \"/home/fujie/miniconda3/envs/myenv/lib/python3.9/argparse.py\", line 1853, in parse_known_args\n",
      "    namespace, args = self._parse_known_args(args, namespace)\n",
      "  File \"/home/fujie/miniconda3/envs/myenv/lib/python3.9/argparse.py\", line 2062, in _parse_known_args\n",
      "    start_index = consume_optional(start_index)\n",
      "  File \"/home/fujie/miniconda3/envs/myenv/lib/python3.9/argparse.py\", line 1984, in consume_optional\n",
      "    raise ArgumentError(action, msg % explicit_arg)\n",
      "argparse.ArgumentError: argument -f/--failfast: ignored explicit argument '/tmp/tmp-5086UKmgDR9ZxK01.json'\n",
      "\n",
      "During handling of the above exception, another exception occurred:\n",
      "\n",
      "Traceback (most recent call last):\n",
      "  File \"/home/fujie/miniconda3/envs/myenv/lib/python3.9/site-packages/IPython/core/interactiveshell.py\", line 3444, in run_code\n",
      "    exec(code_obj, self.user_global_ns, self.user_ns)\n",
      "  File \"/tmp/ipykernel_5308/3112233108.py\", line 14, in <module>\n",
      "    unittest.main()\n",
      "  File \"/home/fujie/miniconda3/envs/myenv/lib/python3.9/unittest/main.py\", line 100, in __init__\n",
      "    self.parseArgs(argv)\n",
      "  File \"/home/fujie/miniconda3/envs/myenv/lib/python3.9/unittest/main.py\", line 133, in parseArgs\n",
      "    self._main_parser.parse_args(argv[1:], self)\n",
      "  File \"/home/fujie/miniconda3/envs/myenv/lib/python3.9/argparse.py\", line 1820, in parse_args\n",
      "    args, argv = self.parse_known_args(args, namespace)\n",
      "  File \"/home/fujie/miniconda3/envs/myenv/lib/python3.9/argparse.py\", line 1856, in parse_known_args\n",
      "    self.error(str(err))\n",
      "  File \"/home/fujie/miniconda3/envs/myenv/lib/python3.9/argparse.py\", line 2577, in error\n",
      "    self.exit(2, _('%(prog)s: error: %(message)s\\n') % args)\n",
      "  File \"/home/fujie/miniconda3/envs/myenv/lib/python3.9/argparse.py\", line 2564, in exit\n",
      "    _sys.exit(status)\n",
      "SystemExit: 2\n",
      "\n",
      "During handling of the above exception, another exception occurred:\n",
      "\n",
      "Traceback (most recent call last):\n",
      "  File \"/home/fujie/miniconda3/envs/myenv/lib/python3.9/site-packages/IPython/core/ultratb.py\", line 1101, in get_records\n",
      "    return _fixed_getinnerframes(etb, number_of_lines_of_context, tb_offset)\n",
      "  File \"/home/fujie/miniconda3/envs/myenv/lib/python3.9/site-packages/IPython/core/ultratb.py\", line 248, in wrapped\n",
      "    return f(*args, **kwargs)\n",
      "  File \"/home/fujie/miniconda3/envs/myenv/lib/python3.9/site-packages/IPython/core/ultratb.py\", line 281, in _fixed_getinnerframes\n",
      "    records = fix_frame_records_filenames(inspect.getinnerframes(etb, context))\n",
      "  File \"/home/fujie/miniconda3/envs/myenv/lib/python3.9/inspect.py\", line 1541, in getinnerframes\n",
      "    frameinfo = (tb.tb_frame,) + getframeinfo(tb, context)\n",
      "AttributeError: 'tuple' object has no attribute 'tb_frame'\n"
     ]
    },
    {
     "ename": "TypeError",
     "evalue": "object of type 'NoneType' has no len()",
     "output_type": "error",
     "traceback": [
      "\u001b[0;31m---------------------------------------------------------------------------\u001b[0m",
      "\u001b[0;31mArgumentError\u001b[0m                             Traceback (most recent call last)",
      "\u001b[0;32m~/miniconda3/envs/myenv/lib/python3.9/argparse.py\u001b[0m in \u001b[0;36mparse_known_args\u001b[0;34m(self, args, namespace)\u001b[0m\n\u001b[1;32m   1852\u001b[0m             \u001b[0;32mtry\u001b[0m\u001b[0;34m:\u001b[0m\u001b[0;34m\u001b[0m\u001b[0;34m\u001b[0m\u001b[0m\n\u001b[0;32m-> 1853\u001b[0;31m                 \u001b[0mnamespace\u001b[0m\u001b[0;34m,\u001b[0m \u001b[0margs\u001b[0m \u001b[0;34m=\u001b[0m \u001b[0mself\u001b[0m\u001b[0;34m.\u001b[0m\u001b[0m_parse_known_args\u001b[0m\u001b[0;34m(\u001b[0m\u001b[0margs\u001b[0m\u001b[0;34m,\u001b[0m \u001b[0mnamespace\u001b[0m\u001b[0;34m)\u001b[0m\u001b[0;34m\u001b[0m\u001b[0;34m\u001b[0m\u001b[0m\n\u001b[0m\u001b[1;32m   1854\u001b[0m             \u001b[0;32mexcept\u001b[0m \u001b[0mArgumentError\u001b[0m\u001b[0;34m:\u001b[0m\u001b[0;34m\u001b[0m\u001b[0;34m\u001b[0m\u001b[0m\n",
      "\u001b[0;32m~/miniconda3/envs/myenv/lib/python3.9/argparse.py\u001b[0m in \u001b[0;36m_parse_known_args\u001b[0;34m(self, arg_strings, namespace)\u001b[0m\n\u001b[1;32m   2061\u001b[0m             \u001b[0;31m# consume the next optional and any arguments for it\u001b[0m\u001b[0;34m\u001b[0m\u001b[0;34m\u001b[0m\u001b[0m\n\u001b[0;32m-> 2062\u001b[0;31m             \u001b[0mstart_index\u001b[0m \u001b[0;34m=\u001b[0m \u001b[0mconsume_optional\u001b[0m\u001b[0;34m(\u001b[0m\u001b[0mstart_index\u001b[0m\u001b[0;34m)\u001b[0m\u001b[0;34m\u001b[0m\u001b[0;34m\u001b[0m\u001b[0m\n\u001b[0m\u001b[1;32m   2063\u001b[0m \u001b[0;34m\u001b[0m\u001b[0m\n",
      "\u001b[0;32m~/miniconda3/envs/myenv/lib/python3.9/argparse.py\u001b[0m in \u001b[0;36mconsume_optional\u001b[0;34m(start_index)\u001b[0m\n\u001b[1;32m   1983\u001b[0m                         \u001b[0mmsg\u001b[0m \u001b[0;34m=\u001b[0m \u001b[0m_\u001b[0m\u001b[0;34m(\u001b[0m\u001b[0;34m'ignored explicit argument %r'\u001b[0m\u001b[0;34m)\u001b[0m\u001b[0;34m\u001b[0m\u001b[0;34m\u001b[0m\u001b[0m\n\u001b[0;32m-> 1984\u001b[0;31m                         \u001b[0;32mraise\u001b[0m \u001b[0mArgumentError\u001b[0m\u001b[0;34m(\u001b[0m\u001b[0maction\u001b[0m\u001b[0;34m,\u001b[0m \u001b[0mmsg\u001b[0m \u001b[0;34m%\u001b[0m \u001b[0mexplicit_arg\u001b[0m\u001b[0;34m)\u001b[0m\u001b[0;34m\u001b[0m\u001b[0;34m\u001b[0m\u001b[0m\n\u001b[0m\u001b[1;32m   1985\u001b[0m \u001b[0;34m\u001b[0m\u001b[0m\n",
      "\u001b[0;31mArgumentError\u001b[0m: argument -f/--failfast: ignored explicit argument '/tmp/tmp-5086UKmgDR9ZxK01.json'",
      "\nDuring handling of the above exception, another exception occurred:\n",
      "\u001b[0;31mSystemExit\u001b[0m                                Traceback (most recent call last)",
      "    \u001b[0;31m[... skipping hidden 1 frame]\u001b[0m\n",
      "\u001b[0;32m/tmp/ipykernel_5308/3112233108.py\u001b[0m in \u001b[0;36m<module>\u001b[0;34m\u001b[0m\n\u001b[1;32m     13\u001b[0m \u001b[0;34m\u001b[0m\u001b[0m\n\u001b[0;32m---> 14\u001b[0;31m \u001b[0munittest\u001b[0m\u001b[0;34m.\u001b[0m\u001b[0mmain\u001b[0m\u001b[0;34m(\u001b[0m\u001b[0;34m)\u001b[0m\u001b[0;34m\u001b[0m\u001b[0;34m\u001b[0m\u001b[0m\n\u001b[0m",
      "\u001b[0;32m~/miniconda3/envs/myenv/lib/python3.9/unittest/main.py\u001b[0m in \u001b[0;36m__init__\u001b[0;34m(self, module, defaultTest, argv, testRunner, testLoader, exit, verbosity, failfast, catchbreak, buffer, warnings, tb_locals)\u001b[0m\n\u001b[1;32m     99\u001b[0m         \u001b[0mself\u001b[0m\u001b[0;34m.\u001b[0m\u001b[0mprogName\u001b[0m \u001b[0;34m=\u001b[0m \u001b[0mos\u001b[0m\u001b[0;34m.\u001b[0m\u001b[0mpath\u001b[0m\u001b[0;34m.\u001b[0m\u001b[0mbasename\u001b[0m\u001b[0;34m(\u001b[0m\u001b[0margv\u001b[0m\u001b[0;34m[\u001b[0m\u001b[0;36m0\u001b[0m\u001b[0;34m]\u001b[0m\u001b[0;34m)\u001b[0m\u001b[0;34m\u001b[0m\u001b[0;34m\u001b[0m\u001b[0m\n\u001b[0;32m--> 100\u001b[0;31m         \u001b[0mself\u001b[0m\u001b[0;34m.\u001b[0m\u001b[0mparseArgs\u001b[0m\u001b[0;34m(\u001b[0m\u001b[0margv\u001b[0m\u001b[0;34m)\u001b[0m\u001b[0;34m\u001b[0m\u001b[0;34m\u001b[0m\u001b[0m\n\u001b[0m\u001b[1;32m    101\u001b[0m         \u001b[0mself\u001b[0m\u001b[0;34m.\u001b[0m\u001b[0mrunTests\u001b[0m\u001b[0;34m(\u001b[0m\u001b[0;34m)\u001b[0m\u001b[0;34m\u001b[0m\u001b[0;34m\u001b[0m\u001b[0m\n",
      "\u001b[0;32m~/miniconda3/envs/myenv/lib/python3.9/unittest/main.py\u001b[0m in \u001b[0;36mparseArgs\u001b[0;34m(self, argv)\u001b[0m\n\u001b[1;32m    132\u001b[0m         \u001b[0;32melse\u001b[0m\u001b[0;34m:\u001b[0m\u001b[0;34m\u001b[0m\u001b[0;34m\u001b[0m\u001b[0m\n\u001b[0;32m--> 133\u001b[0;31m             \u001b[0mself\u001b[0m\u001b[0;34m.\u001b[0m\u001b[0m_main_parser\u001b[0m\u001b[0;34m.\u001b[0m\u001b[0mparse_args\u001b[0m\u001b[0;34m(\u001b[0m\u001b[0margv\u001b[0m\u001b[0;34m[\u001b[0m\u001b[0;36m1\u001b[0m\u001b[0;34m:\u001b[0m\u001b[0;34m]\u001b[0m\u001b[0;34m,\u001b[0m \u001b[0mself\u001b[0m\u001b[0;34m)\u001b[0m\u001b[0;34m\u001b[0m\u001b[0;34m\u001b[0m\u001b[0m\n\u001b[0m\u001b[1;32m    134\u001b[0m \u001b[0;34m\u001b[0m\u001b[0m\n",
      "\u001b[0;32m~/miniconda3/envs/myenv/lib/python3.9/argparse.py\u001b[0m in \u001b[0;36mparse_args\u001b[0;34m(self, args, namespace)\u001b[0m\n\u001b[1;32m   1819\u001b[0m     \u001b[0;32mdef\u001b[0m \u001b[0mparse_args\u001b[0m\u001b[0;34m(\u001b[0m\u001b[0mself\u001b[0m\u001b[0;34m,\u001b[0m \u001b[0margs\u001b[0m\u001b[0;34m=\u001b[0m\u001b[0;32mNone\u001b[0m\u001b[0;34m,\u001b[0m \u001b[0mnamespace\u001b[0m\u001b[0;34m=\u001b[0m\u001b[0;32mNone\u001b[0m\u001b[0;34m)\u001b[0m\u001b[0;34m:\u001b[0m\u001b[0;34m\u001b[0m\u001b[0;34m\u001b[0m\u001b[0m\n\u001b[0;32m-> 1820\u001b[0;31m         \u001b[0margs\u001b[0m\u001b[0;34m,\u001b[0m \u001b[0margv\u001b[0m \u001b[0;34m=\u001b[0m \u001b[0mself\u001b[0m\u001b[0;34m.\u001b[0m\u001b[0mparse_known_args\u001b[0m\u001b[0;34m(\u001b[0m\u001b[0margs\u001b[0m\u001b[0;34m,\u001b[0m \u001b[0mnamespace\u001b[0m\u001b[0;34m)\u001b[0m\u001b[0;34m\u001b[0m\u001b[0;34m\u001b[0m\u001b[0m\n\u001b[0m\u001b[1;32m   1821\u001b[0m         \u001b[0;32mif\u001b[0m \u001b[0margv\u001b[0m\u001b[0;34m:\u001b[0m\u001b[0;34m\u001b[0m\u001b[0;34m\u001b[0m\u001b[0m\n",
      "\u001b[0;32m~/miniconda3/envs/myenv/lib/python3.9/argparse.py\u001b[0m in \u001b[0;36mparse_known_args\u001b[0;34m(self, args, namespace)\u001b[0m\n\u001b[1;32m   1855\u001b[0m                 \u001b[0merr\u001b[0m \u001b[0;34m=\u001b[0m \u001b[0m_sys\u001b[0m\u001b[0;34m.\u001b[0m\u001b[0mexc_info\u001b[0m\u001b[0;34m(\u001b[0m\u001b[0;34m)\u001b[0m\u001b[0;34m[\u001b[0m\u001b[0;36m1\u001b[0m\u001b[0;34m]\u001b[0m\u001b[0;34m\u001b[0m\u001b[0;34m\u001b[0m\u001b[0m\n\u001b[0;32m-> 1856\u001b[0;31m                 \u001b[0mself\u001b[0m\u001b[0;34m.\u001b[0m\u001b[0merror\u001b[0m\u001b[0;34m(\u001b[0m\u001b[0mstr\u001b[0m\u001b[0;34m(\u001b[0m\u001b[0merr\u001b[0m\u001b[0;34m)\u001b[0m\u001b[0;34m)\u001b[0m\u001b[0;34m\u001b[0m\u001b[0;34m\u001b[0m\u001b[0m\n\u001b[0m\u001b[1;32m   1857\u001b[0m         \u001b[0;32melse\u001b[0m\u001b[0;34m:\u001b[0m\u001b[0;34m\u001b[0m\u001b[0;34m\u001b[0m\u001b[0m\n",
      "\u001b[0;32m~/miniconda3/envs/myenv/lib/python3.9/argparse.py\u001b[0m in \u001b[0;36merror\u001b[0;34m(self, message)\u001b[0m\n\u001b[1;32m   2576\u001b[0m         \u001b[0margs\u001b[0m \u001b[0;34m=\u001b[0m \u001b[0;34m{\u001b[0m\u001b[0;34m'prog'\u001b[0m\u001b[0;34m:\u001b[0m \u001b[0mself\u001b[0m\u001b[0;34m.\u001b[0m\u001b[0mprog\u001b[0m\u001b[0;34m,\u001b[0m \u001b[0;34m'message'\u001b[0m\u001b[0;34m:\u001b[0m \u001b[0mmessage\u001b[0m\u001b[0;34m}\u001b[0m\u001b[0;34m\u001b[0m\u001b[0;34m\u001b[0m\u001b[0m\n\u001b[0;32m-> 2577\u001b[0;31m         \u001b[0mself\u001b[0m\u001b[0;34m.\u001b[0m\u001b[0mexit\u001b[0m\u001b[0;34m(\u001b[0m\u001b[0;36m2\u001b[0m\u001b[0;34m,\u001b[0m \u001b[0m_\u001b[0m\u001b[0;34m(\u001b[0m\u001b[0;34m'%(prog)s: error: %(message)s\\n'\u001b[0m\u001b[0;34m)\u001b[0m \u001b[0;34m%\u001b[0m \u001b[0margs\u001b[0m\u001b[0;34m)\u001b[0m\u001b[0;34m\u001b[0m\u001b[0;34m\u001b[0m\u001b[0m\n\u001b[0m",
      "\u001b[0;32m~/miniconda3/envs/myenv/lib/python3.9/argparse.py\u001b[0m in \u001b[0;36mexit\u001b[0;34m(self, status, message)\u001b[0m\n\u001b[1;32m   2563\u001b[0m             \u001b[0mself\u001b[0m\u001b[0;34m.\u001b[0m\u001b[0m_print_message\u001b[0m\u001b[0;34m(\u001b[0m\u001b[0mmessage\u001b[0m\u001b[0;34m,\u001b[0m \u001b[0m_sys\u001b[0m\u001b[0;34m.\u001b[0m\u001b[0mstderr\u001b[0m\u001b[0;34m)\u001b[0m\u001b[0;34m\u001b[0m\u001b[0;34m\u001b[0m\u001b[0m\n\u001b[0;32m-> 2564\u001b[0;31m         \u001b[0m_sys\u001b[0m\u001b[0;34m.\u001b[0m\u001b[0mexit\u001b[0m\u001b[0;34m(\u001b[0m\u001b[0mstatus\u001b[0m\u001b[0;34m)\u001b[0m\u001b[0;34m\u001b[0m\u001b[0;34m\u001b[0m\u001b[0m\n\u001b[0m\u001b[1;32m   2565\u001b[0m \u001b[0;34m\u001b[0m\u001b[0m\n",
      "\u001b[0;31mSystemExit\u001b[0m: 2",
      "\nDuring handling of the above exception, another exception occurred:\n",
      "\u001b[0;31mTypeError\u001b[0m                                 Traceback (most recent call last)",
      "    \u001b[0;31m[... skipping hidden 1 frame]\u001b[0m\n",
      "\u001b[0;32m~/miniconda3/envs/myenv/lib/python3.9/site-packages/IPython/core/interactiveshell.py\u001b[0m in \u001b[0;36mshowtraceback\u001b[0;34m(self, exc_tuple, filename, tb_offset, exception_only, running_compiled_code)\u001b[0m\n\u001b[1;32m   2055\u001b[0m                     stb = ['An exception has occurred, use %tb to see '\n\u001b[1;32m   2056\u001b[0m                            'the full traceback.\\n']\n\u001b[0;32m-> 2057\u001b[0;31m                     stb.extend(self.InteractiveTB.get_exception_only(etype,\n\u001b[0m\u001b[1;32m   2058\u001b[0m                                                                      value))\n\u001b[1;32m   2059\u001b[0m                 \u001b[0;32melse\u001b[0m\u001b[0;34m:\u001b[0m\u001b[0;34m\u001b[0m\u001b[0;34m\u001b[0m\u001b[0m\n",
      "\u001b[0;32m~/miniconda3/envs/myenv/lib/python3.9/site-packages/IPython/core/ultratb.py\u001b[0m in \u001b[0;36mget_exception_only\u001b[0;34m(self, etype, value)\u001b[0m\n\u001b[1;32m    752\u001b[0m         \u001b[0mvalue\u001b[0m \u001b[0;34m:\u001b[0m \u001b[0mexception\u001b[0m \u001b[0mvalue\u001b[0m\u001b[0;34m\u001b[0m\u001b[0;34m\u001b[0m\u001b[0m\n\u001b[1;32m    753\u001b[0m         \"\"\"\n\u001b[0;32m--> 754\u001b[0;31m         \u001b[0;32mreturn\u001b[0m \u001b[0mListTB\u001b[0m\u001b[0;34m.\u001b[0m\u001b[0mstructured_traceback\u001b[0m\u001b[0;34m(\u001b[0m\u001b[0mself\u001b[0m\u001b[0;34m,\u001b[0m \u001b[0metype\u001b[0m\u001b[0;34m,\u001b[0m \u001b[0mvalue\u001b[0m\u001b[0;34m)\u001b[0m\u001b[0;34m\u001b[0m\u001b[0;34m\u001b[0m\u001b[0m\n\u001b[0m\u001b[1;32m    755\u001b[0m \u001b[0;34m\u001b[0m\u001b[0m\n\u001b[1;32m    756\u001b[0m     \u001b[0;32mdef\u001b[0m \u001b[0mshow_exception_only\u001b[0m\u001b[0;34m(\u001b[0m\u001b[0mself\u001b[0m\u001b[0;34m,\u001b[0m \u001b[0metype\u001b[0m\u001b[0;34m,\u001b[0m \u001b[0mevalue\u001b[0m\u001b[0;34m)\u001b[0m\u001b[0;34m:\u001b[0m\u001b[0;34m\u001b[0m\u001b[0;34m\u001b[0m\u001b[0m\n",
      "\u001b[0;32m~/miniconda3/envs/myenv/lib/python3.9/site-packages/IPython/core/ultratb.py\u001b[0m in \u001b[0;36mstructured_traceback\u001b[0;34m(self, etype, evalue, etb, tb_offset, context)\u001b[0m\n\u001b[1;32m    627\u001b[0m             \u001b[0mchained_exceptions_tb_offset\u001b[0m \u001b[0;34m=\u001b[0m \u001b[0;36m0\u001b[0m\u001b[0;34m\u001b[0m\u001b[0;34m\u001b[0m\u001b[0m\n\u001b[1;32m    628\u001b[0m             out_list = (\n\u001b[0;32m--> 629\u001b[0;31m                 self.structured_traceback(\n\u001b[0m\u001b[1;32m    630\u001b[0m                     \u001b[0metype\u001b[0m\u001b[0;34m,\u001b[0m \u001b[0mevalue\u001b[0m\u001b[0;34m,\u001b[0m \u001b[0;34m(\u001b[0m\u001b[0metb\u001b[0m\u001b[0;34m,\u001b[0m \u001b[0mchained_exc_ids\u001b[0m\u001b[0;34m)\u001b[0m\u001b[0;34m,\u001b[0m\u001b[0;34m\u001b[0m\u001b[0;34m\u001b[0m\u001b[0m\n\u001b[1;32m    631\u001b[0m                     chained_exceptions_tb_offset, context)\n",
      "\u001b[0;32m~/miniconda3/envs/myenv/lib/python3.9/site-packages/IPython/core/ultratb.py\u001b[0m in \u001b[0;36mstructured_traceback\u001b[0;34m(self, etype, value, tb, tb_offset, number_of_lines_of_context)\u001b[0m\n\u001b[1;32m   1365\u001b[0m         \u001b[0;32melse\u001b[0m\u001b[0;34m:\u001b[0m\u001b[0;34m\u001b[0m\u001b[0;34m\u001b[0m\u001b[0m\n\u001b[1;32m   1366\u001b[0m             \u001b[0mself\u001b[0m\u001b[0;34m.\u001b[0m\u001b[0mtb\u001b[0m \u001b[0;34m=\u001b[0m \u001b[0mtb\u001b[0m\u001b[0;34m\u001b[0m\u001b[0;34m\u001b[0m\u001b[0m\n\u001b[0;32m-> 1367\u001b[0;31m         return FormattedTB.structured_traceback(\n\u001b[0m\u001b[1;32m   1368\u001b[0m             self, etype, value, tb, tb_offset, number_of_lines_of_context)\n\u001b[1;32m   1369\u001b[0m \u001b[0;34m\u001b[0m\u001b[0m\n",
      "\u001b[0;32m~/miniconda3/envs/myenv/lib/python3.9/site-packages/IPython/core/ultratb.py\u001b[0m in \u001b[0;36mstructured_traceback\u001b[0;34m(self, etype, value, tb, tb_offset, number_of_lines_of_context)\u001b[0m\n\u001b[1;32m   1265\u001b[0m         \u001b[0;32mif\u001b[0m \u001b[0mmode\u001b[0m \u001b[0;32min\u001b[0m \u001b[0mself\u001b[0m\u001b[0;34m.\u001b[0m\u001b[0mverbose_modes\u001b[0m\u001b[0;34m:\u001b[0m\u001b[0;34m\u001b[0m\u001b[0;34m\u001b[0m\u001b[0m\n\u001b[1;32m   1266\u001b[0m             \u001b[0;31m# Verbose modes need a full traceback\u001b[0m\u001b[0;34m\u001b[0m\u001b[0;34m\u001b[0m\u001b[0m\n\u001b[0;32m-> 1267\u001b[0;31m             return VerboseTB.structured_traceback(\n\u001b[0m\u001b[1;32m   1268\u001b[0m                 \u001b[0mself\u001b[0m\u001b[0;34m,\u001b[0m \u001b[0metype\u001b[0m\u001b[0;34m,\u001b[0m \u001b[0mvalue\u001b[0m\u001b[0;34m,\u001b[0m \u001b[0mtb\u001b[0m\u001b[0;34m,\u001b[0m \u001b[0mtb_offset\u001b[0m\u001b[0;34m,\u001b[0m \u001b[0mnumber_of_lines_of_context\u001b[0m\u001b[0;34m\u001b[0m\u001b[0;34m\u001b[0m\u001b[0m\n\u001b[1;32m   1269\u001b[0m             )\n",
      "\u001b[0;32m~/miniconda3/envs/myenv/lib/python3.9/site-packages/IPython/core/ultratb.py\u001b[0m in \u001b[0;36mstructured_traceback\u001b[0;34m(self, etype, evalue, etb, tb_offset, number_of_lines_of_context)\u001b[0m\n\u001b[1;32m   1122\u001b[0m         \u001b[0;34m\"\"\"Return a nice text document describing the traceback.\"\"\"\u001b[0m\u001b[0;34m\u001b[0m\u001b[0;34m\u001b[0m\u001b[0m\n\u001b[1;32m   1123\u001b[0m \u001b[0;34m\u001b[0m\u001b[0m\n\u001b[0;32m-> 1124\u001b[0;31m         formatted_exception = self.format_exception_as_a_whole(etype, evalue, etb, number_of_lines_of_context,\n\u001b[0m\u001b[1;32m   1125\u001b[0m                                                                tb_offset)\n\u001b[1;32m   1126\u001b[0m \u001b[0;34m\u001b[0m\u001b[0m\n",
      "\u001b[0;32m~/miniconda3/envs/myenv/lib/python3.9/site-packages/IPython/core/ultratb.py\u001b[0m in \u001b[0;36mformat_exception_as_a_whole\u001b[0;34m(self, etype, evalue, etb, number_of_lines_of_context, tb_offset)\u001b[0m\n\u001b[1;32m   1080\u001b[0m \u001b[0;34m\u001b[0m\u001b[0m\n\u001b[1;32m   1081\u001b[0m \u001b[0;34m\u001b[0m\u001b[0m\n\u001b[0;32m-> 1082\u001b[0;31m         \u001b[0mlast_unique\u001b[0m\u001b[0;34m,\u001b[0m \u001b[0mrecursion_repeat\u001b[0m \u001b[0;34m=\u001b[0m \u001b[0mfind_recursion\u001b[0m\u001b[0;34m(\u001b[0m\u001b[0morig_etype\u001b[0m\u001b[0;34m,\u001b[0m \u001b[0mevalue\u001b[0m\u001b[0;34m,\u001b[0m \u001b[0mrecords\u001b[0m\u001b[0;34m)\u001b[0m\u001b[0;34m\u001b[0m\u001b[0;34m\u001b[0m\u001b[0m\n\u001b[0m\u001b[1;32m   1083\u001b[0m \u001b[0;34m\u001b[0m\u001b[0m\n\u001b[1;32m   1084\u001b[0m         \u001b[0mframes\u001b[0m \u001b[0;34m=\u001b[0m \u001b[0mself\u001b[0m\u001b[0;34m.\u001b[0m\u001b[0mformat_records\u001b[0m\u001b[0;34m(\u001b[0m\u001b[0mrecords\u001b[0m\u001b[0;34m,\u001b[0m \u001b[0mlast_unique\u001b[0m\u001b[0;34m,\u001b[0m \u001b[0mrecursion_repeat\u001b[0m\u001b[0;34m)\u001b[0m\u001b[0;34m\u001b[0m\u001b[0;34m\u001b[0m\u001b[0m\n",
      "\u001b[0;32m~/miniconda3/envs/myenv/lib/python3.9/site-packages/IPython/core/ultratb.py\u001b[0m in \u001b[0;36mfind_recursion\u001b[0;34m(etype, value, records)\u001b[0m\n\u001b[1;32m    380\u001b[0m     \u001b[0;31m# first frame (from in to out) that looks different.\u001b[0m\u001b[0;34m\u001b[0m\u001b[0;34m\u001b[0m\u001b[0m\n\u001b[1;32m    381\u001b[0m     \u001b[0;32mif\u001b[0m \u001b[0;32mnot\u001b[0m \u001b[0mis_recursion_error\u001b[0m\u001b[0;34m(\u001b[0m\u001b[0metype\u001b[0m\u001b[0;34m,\u001b[0m \u001b[0mvalue\u001b[0m\u001b[0;34m,\u001b[0m \u001b[0mrecords\u001b[0m\u001b[0;34m)\u001b[0m\u001b[0;34m:\u001b[0m\u001b[0;34m\u001b[0m\u001b[0;34m\u001b[0m\u001b[0m\n\u001b[0;32m--> 382\u001b[0;31m         \u001b[0;32mreturn\u001b[0m \u001b[0mlen\u001b[0m\u001b[0;34m(\u001b[0m\u001b[0mrecords\u001b[0m\u001b[0;34m)\u001b[0m\u001b[0;34m,\u001b[0m \u001b[0;36m0\u001b[0m\u001b[0;34m\u001b[0m\u001b[0;34m\u001b[0m\u001b[0m\n\u001b[0m\u001b[1;32m    383\u001b[0m \u001b[0;34m\u001b[0m\u001b[0m\n\u001b[1;32m    384\u001b[0m     \u001b[0;31m# Select filename, lineno, func_name to track frames with\u001b[0m\u001b[0;34m\u001b[0m\u001b[0;34m\u001b[0m\u001b[0m\n",
      "\u001b[0;31mTypeError\u001b[0m: object of type 'NoneType' has no len()"
     ]
    }
   ],
   "source": [
    "import unittest\n",
    "def my_func(a):\n",
    "    return None\n",
    "\n",
    "class TestFunc(unittest.TestCase):\n",
    "    def test_func(self):\n",
    "        self.assertEqual(my_func(1), 2)   \n",
    "        self.assertEqual(my_func(-1), 3)\n",
    "        for i in range(-100, 100):\n",
    "            if i == 1 or i == -1:\n",
    "                continue\n",
    "            self.assertEqual(my_func(i), 1)\n",
    "\n",
    "#unittest.main()"
   ]
  }
 ],
 "metadata": {
  "kernelspec": {
   "display_name": "Python 3 (ipykernel)",
   "language": "python",
   "name": "python3"
  },
  "language_info": {
   "codemirror_mode": {
    "name": "ipython",
    "version": 3
   },
   "file_extension": ".py",
   "mimetype": "text/x-python",
   "name": "python",
   "nbconvert_exporter": "python",
   "pygments_lexer": "ipython3",
   "version": "3.9.7"
  }
 },
 "nbformat": 4,
 "nbformat_minor": 5
}
