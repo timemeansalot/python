{
 "cells": [
  {
   "cell_type": "code",
   "execution_count": 19,
   "metadata": {},
   "outputs": [
    {
     "name": "stdout",
     "output_type": "stream",
     "text": [
      "0    1\n",
      "1    2\n",
      "2    3\n",
      "dtype: int64\n"
     ]
    }
   ],
   "source": [
    "import pandas as pd\n",
    "import numpy as np\n",
    "\n",
    "print(pd.Series([1,2,3]))"
   ]
  },
  {
   "cell_type": "code",
   "execution_count": 4,
   "metadata": {},
   "outputs": [
    {
     "name": "stdout",
     "output_type": "stream",
     "text": [
      "numpy array:\n",
      " [[1 2]\n",
      " [3 4]]\n",
      "\n",
      "pandas df:\n",
      "    a  b\n",
      "0  1  2\n",
      "1  3  4\n"
     ]
    }
   ],
   "source": [
    "\n",
    "a_array=np.array([\n",
    "    [1,2],\n",
    "    [3,4]\n",
    "])\n",
    "\n",
    "a_df=pd.DataFrame(\n",
    "    {'a':[1,3],\n",
    "     'b':[2,4]}\n",
    ")\n",
    "print(\"numpy array:\\n\",a_array)\n",
    "print('\\npandas df:\\n',a_df)"
   ]
  },
  {
   "cell_type": "markdown",
   "metadata": {},
   "source": [
    "# 1 Basic Operation\n",
    "## 1.1 File Operation\n",
    "\n",
    "Pandas can read data from Excel, txt, csv and even website"
   ]
  },
  {
   "cell_type": "code",
   "execution_count": 14,
   "metadata": {},
   "outputs": [
    {
     "name": "stdout",
     "output_type": "stream",
     "text": [
      "    姓名   身高  体重   肺活量\n",
      "学号                   \n",
      "1   小明  168  60  3200\n",
      "2   小黄  187   1  3800\n",
      "3   小花  170  70  3400\n"
     ]
    },
    {
     "data": {
      "text/html": [
       "<div>\n",
       "<style scoped>\n",
       "    .dataframe tbody tr th:only-of-type {\n",
       "        vertical-align: middle;\n",
       "    }\n",
       "\n",
       "    .dataframe tbody tr th {\n",
       "        vertical-align: top;\n",
       "    }\n",
       "\n",
       "    .dataframe thead th {\n",
       "        text-align: right;\n",
       "    }\n",
       "</style>\n",
       "<table border=\"1\" class=\"dataframe\">\n",
       "  <thead>\n",
       "    <tr style=\"text-align: right;\">\n",
       "      <th></th>\n",
       "      <th>学号</th>\n",
       "      <th>姓名</th>\n",
       "      <th>身高</th>\n",
       "      <th>体重</th>\n",
       "      <th>肺活量</th>\n",
       "    </tr>\n",
       "  </thead>\n",
       "  <tbody>\n",
       "    <tr>\n",
       "      <th>0</th>\n",
       "      <td>1</td>\n",
       "      <td>小明</td>\n",
       "      <td>168</td>\n",
       "      <td>60</td>\n",
       "      <td>3200</td>\n",
       "    </tr>\n",
       "    <tr>\n",
       "      <th>1</th>\n",
       "      <td>2</td>\n",
       "      <td>小黄</td>\n",
       "      <td>187</td>\n",
       "      <td>1</td>\n",
       "      <td>3800</td>\n",
       "    </tr>\n",
       "    <tr>\n",
       "      <th>2</th>\n",
       "      <td>3</td>\n",
       "      <td>小花</td>\n",
       "      <td>170</td>\n",
       "      <td>70</td>\n",
       "      <td>3400</td>\n",
       "    </tr>\n",
       "  </tbody>\n",
       "</table>\n",
       "</div>"
      ],
      "text/plain": [
       "   学号  姓名   身高  体重   肺活量\n",
       "0   1  小明  168  60  3200\n",
       "1   2  小黄  187   1  3800\n",
       "2   3  小花  170  70  3400"
      ]
     },
     "execution_count": 14,
     "metadata": {},
     "output_type": "execute_result"
    }
   ],
   "source": [
    "# read data from xsls\n",
    "df=pd.read_excel('physical_examing_data.xlsx',index_col=0) # index_col use column as index\n",
    "# df=pd.read_excel('physical_examing_data.xlsx')\n",
    "df\n",
    "\n",
    "# store xlsx data\n",
    "df.loc[2,'体重']=1\n",
    "print(df)\n",
    "df.to_excel('modified_examing_data.xlsx')\n",
    "\n",
    "pd=pd.read_excel('modified_examing_data.xlsx')\n",
    "pd"
   ]
  },
  {
   "cell_type": "code",
   "execution_count": 23,
   "metadata": {},
   "outputs": [
    {
     "name": "stdout",
     "output_type": "stream",
     "text": [
      "学号,姓名,身高,体重,肺活量\n",
      "1,小明,168,60,3200\n",
      "2,小黄,187,80,3800\n",
      "3,小花,170,70,3400\n",
      "\n"
     ]
    },
    {
     "data": {
      "text/html": [
       "<div>\n",
       "<style scoped>\n",
       "    .dataframe tbody tr th:only-of-type {\n",
       "        vertical-align: middle;\n",
       "    }\n",
       "\n",
       "    .dataframe tbody tr th {\n",
       "        vertical-align: top;\n",
       "    }\n",
       "\n",
       "    .dataframe thead th {\n",
       "        text-align: right;\n",
       "    }\n",
       "</style>\n",
       "<table border=\"1\" class=\"dataframe\">\n",
       "  <thead>\n",
       "    <tr style=\"text-align: right;\">\n",
       "      <th></th>\n",
       "      <th>学号</th>\n",
       "      <th>姓名</th>\n",
       "      <th>身高</th>\n",
       "      <th>体重</th>\n",
       "      <th>肺活量</th>\n",
       "    </tr>\n",
       "  </thead>\n",
       "  <tbody>\n",
       "    <tr>\n",
       "      <th>0</th>\n",
       "      <td>1</td>\n",
       "      <td>小明</td>\n",
       "      <td>168</td>\n",
       "      <td>60</td>\n",
       "      <td>3200</td>\n",
       "    </tr>\n",
       "    <tr>\n",
       "      <th>1</th>\n",
       "      <td>2</td>\n",
       "      <td>小黄</td>\n",
       "      <td>187</td>\n",
       "      <td>80</td>\n",
       "      <td>3800</td>\n",
       "    </tr>\n",
       "    <tr>\n",
       "      <th>2</th>\n",
       "      <td>3</td>\n",
       "      <td>小花</td>\n",
       "      <td>170</td>\n",
       "      <td>70</td>\n",
       "      <td>3400</td>\n",
       "    </tr>\n",
       "  </tbody>\n",
       "</table>\n",
       "</div>"
      ],
      "text/plain": [
       "   学号  姓名   身高  体重   肺活量\n",
       "0   1  小明  168  60  3200\n",
       "1   2  小黄  187  80  3800\n",
       "2   3  小花  170  70  3400"
      ]
     },
     "execution_count": 23,
     "metadata": {},
     "output_type": "execute_result"
    }
   ],
   "source": [
    "# use Python to read data\n",
    "with open('physical.csv','r',encoding='utf-8') as f:\n",
    "    print(f.read())\n",
    "\n",
    "# use pandas to read csv\n",
    "# read csv can be also used to read txt file\n",
    "df_csv=pd.read_csv('physical.csv',index_col=0)\n",
    "df_csv\n",
    "\n",
    "# store data to csv/txt\n",
    "df_csv.to_csv('physical.txt')\n",
    "\n",
    "# read from txt\n",
    "df_txt=pd.read_csv('physical.txt')\n",
    "df_txt"
   ]
  },
  {
   "cell_type": "markdown",
   "metadata": {},
   "source": [
    "## 2.1 Data in Pandas\n",
    "\n",
    "1. Series\n",
    "2. DataFrame"
   ]
  },
  {
   "cell_type": "code",
   "execution_count": 27,
   "metadata": {},
   "outputs": [
    {
     "name": "stdout",
     "output_type": "stream",
     "text": [
      "list:  [11, 22, 33]\n",
      "series:\n",
      " 0    11\n",
      "1    22\n",
      "2    33\n",
      "dtype: int64\n"
     ]
    }
   ],
   "source": [
    "# data series\n",
    "\n",
    "import pandas as pd\n",
    "\n",
    "l=[11,22,33]\n",
    "s=pd.Series(l)\n",
    "print('list: ',l)\n",
    "print('series:\\n',s)"
   ]
  },
  {
   "cell_type": "code",
   "execution_count": 32,
   "metadata": {},
   "outputs": [
    {
     "name": "stdout",
     "output_type": "stream",
     "text": [
      "a    11\n",
      "b    22\n",
      "c    33\n",
      "dtype: int64\n",
      "a     1\n",
      "b,    2\n",
      "c     3\n",
      "dtype: int64\n",
      "a    0.959669\n",
      "b    0.015147\n",
      "c    0.659734\n",
      "dtype: float64\n",
      "array:  [0.95966885 0.0151474  0.65973353]\n",
      "list:  [0.9596688547063419, 0.015147401498772917, 0.6597335257614889]\n"
     ]
    }
   ],
   "source": [
    "# pandas craete index for us, and we can mannully set the index\n",
    "s=pd.Series(l,index=['a','b','c']) # use list to create series\n",
    "print(s)\n",
    "\n",
    "s=pd.Series({'a':1,'b,':2,'c':3})  # use dict to create series\n",
    "print(s)\n",
    "\n",
    "s=pd.Series(np.random.rand(3),index=['a','b','c']) # use numpy to create series\n",
    "print(s)\n",
    "# from pandas to numpy\n",
    "print('array: ',s.to_numpy())\n",
    "# from pandas to list\n",
    "print('list: ',s.tolist())"
   ]
  },
  {
   "cell_type": "code",
   "execution_count": 33,
   "metadata": {},
   "outputs": [
    {
     "name": "stdout",
     "output_type": "stream",
     "text": [
      "   0  1\n",
      "0  1  2\n",
      "1  3  4\n"
     ]
    }
   ],
   "source": [
    "# data frame\n",
    "df=pd.DataFrame([\n",
    "    [1,2],\n",
    "    [3,4]\n",
    "])\n",
    "\n",
    "print(df)"
   ]
  },
  {
   "cell_type": "code",
   "execution_count": 35,
   "metadata": {},
   "outputs": [
    {
     "name": "stdout",
     "output_type": "stream",
     "text": [
      "2\n",
      "   col1  col2\n",
      "0     1     2\n",
      "1     3     4\n"
     ]
    }
   ],
   "source": [
    "# access data\n",
    "print(df.at[0,1])\n",
    "\n",
    "# set index while creating DataFrame\n",
    "df=pd.DataFrame({'col1':[1,3],'col2':[2,4]})\n",
    "print(df)"
   ]
  },
  {
   "cell_type": "code",
   "execution_count": 38,
   "metadata": {},
   "outputs": [
    {
     "name": "stdout",
     "output_type": "stream",
     "text": [
      "0    1\n",
      "1    3\n",
      "Name: col1, dtype: int64 \n",
      "\n",
      "data type:  <class 'pandas.core.series.Series'>\n",
      "a    1.0\n",
      "b    2.0\n",
      "c    3.0\n",
      "dtype: float64 \n",
      "\n",
      "   col1  col2\n",
      "a     1     2\n",
      "b     3     4\n"
     ]
    }
   ],
   "source": [
    "# get Series from DataFrame\n",
    "print(df['col1'],'\\n')\n",
    "print('data type: ',type(df['col1']))\n",
    "\n",
    "s=pd.Series([1.0,2.0,3.0],index=['a','b','c'])\n",
    "df=pd.DataFrame({'col1':[1,3],'col2':[2,4]},index=['a','b'])\n",
    "print(s,'\\n')\n",
    "print(df)"
   ]
  },
  {
   "cell_type": "code",
   "execution_count": 39,
   "metadata": {},
   "outputs": [
    {
     "name": "stdout",
     "output_type": "stream",
     "text": [
      "Index(['a', 'b'], dtype='object') \n",
      "\n",
      "Index(['col1', 'col2'], dtype='object')\n"
     ]
    }
   ],
   "source": [
    "print(df.index,'\\n') # index is row\n",
    "print(df.columns)"
   ]
  },
  {
   "cell_type": "code",
   "execution_count": 40,
   "metadata": {},
   "outputs": [
    {
     "name": "stdout",
     "output_type": "stream",
     "text": [
      "      age  height\n",
      "Jack   12     111\n",
      "Rose   13     123\n"
     ]
    }
   ],
   "source": [
    "# create from json\n",
    "my_json_data=[\n",
    "    {'age':12,'height':111},\n",
    "    {'age':13, 'height':123}\n",
    "]\n",
    "\n",
    "df=pd.DataFrame(my_json_data,index=['Jack','Rose'])\n",
    "print(df)"
   ]
  },
  {
   "cell_type": "code",
   "execution_count": null,
   "metadata": {},
   "outputs": [],
   "source": []
  }
 ],
 "metadata": {
  "interpreter": {
   "hash": "739b70e327d77fa390029bdbeb4da01ad4b0f1ef5ecbb5339bfdca56a0091f0f"
  },
  "kernelspec": {
   "display_name": "Python 3.9.7 ('myenv')",
   "language": "python",
   "name": "python3"
  },
  "language_info": {
   "codemirror_mode": {
    "name": "ipython",
    "version": 3
   },
   "file_extension": ".py",
   "mimetype": "text/x-python",
   "name": "python",
   "nbconvert_exporter": "python",
   "pygments_lexer": "ipython3",
   "version": "3.9.7"
  },
  "orig_nbformat": 4
 },
 "nbformat": 4,
 "nbformat_minor": 2
}
