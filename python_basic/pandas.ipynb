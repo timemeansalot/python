{
 "cells": [
  {
   "cell_type": "code",
   "execution_count": 19,
   "metadata": {},
   "outputs": [
    {
     "name": "stdout",
     "output_type": "stream",
     "text": [
      "0    1\n",
      "1    2\n",
      "2    3\n",
      "dtype: int64\n"
     ]
    }
   ],
   "source": [
    "import pandas as pd\n",
    "import numpy as np\n",
    "\n",
    "print(pd.Series([1,2,3]))"
   ]
  },
  {
   "cell_type": "code",
   "execution_count": 4,
   "metadata": {},
   "outputs": [
    {
     "name": "stdout",
     "output_type": "stream",
     "text": [
      "numpy array:\n",
      " [[1 2]\n",
      " [3 4]]\n",
      "\n",
      "pandas df:\n",
      "    a  b\n",
      "0  1  2\n",
      "1  3  4\n"
     ]
    }
   ],
   "source": [
    "\n",
    "a_array=np.array([\n",
    "    [1,2],\n",
    "    [3,4]\n",
    "])\n",
    "\n",
    "a_df=pd.DataFrame(\n",
    "    {'a':[1,3],\n",
    "     'b':[2,4]}\n",
    ")\n",
    "print(\"numpy array:\\n\",a_array)\n",
    "print('\\npandas df:\\n',a_df)"
   ]
  },
  {
   "cell_type": "markdown",
   "metadata": {},
   "source": [
    "# 1 Basic Operation\n",
    "## 1.1 File Operation\n",
    "\n",
    "Pandas can read data from Excel, txt, csv and even website"
   ]
  },
  {
   "cell_type": "code",
   "execution_count": 14,
   "metadata": {},
   "outputs": [
    {
     "name": "stdout",
     "output_type": "stream",
     "text": [
      "    姓名   身高  体重   肺活量\n",
      "学号                   \n",
      "1   小明  168  60  3200\n",
      "2   小黄  187   1  3800\n",
      "3   小花  170  70  3400\n"
     ]
    },
    {
     "data": {
      "text/html": [
       "<div>\n",
       "<style scoped>\n",
       "    .dataframe tbody tr th:only-of-type {\n",
       "        vertical-align: middle;\n",
       "    }\n",
       "\n",
       "    .dataframe tbody tr th {\n",
       "        vertical-align: top;\n",
       "    }\n",
       "\n",
       "    .dataframe thead th {\n",
       "        text-align: right;\n",
       "    }\n",
       "</style>\n",
       "<table border=\"1\" class=\"dataframe\">\n",
       "  <thead>\n",
       "    <tr style=\"text-align: right;\">\n",
       "      <th></th>\n",
       "      <th>学号</th>\n",
       "      <th>姓名</th>\n",
       "      <th>身高</th>\n",
       "      <th>体重</th>\n",
       "      <th>肺活量</th>\n",
       "    </tr>\n",
       "  </thead>\n",
       "  <tbody>\n",
       "    <tr>\n",
       "      <th>0</th>\n",
       "      <td>1</td>\n",
       "      <td>小明</td>\n",
       "      <td>168</td>\n",
       "      <td>60</td>\n",
       "      <td>3200</td>\n",
       "    </tr>\n",
       "    <tr>\n",
       "      <th>1</th>\n",
       "      <td>2</td>\n",
       "      <td>小黄</td>\n",
       "      <td>187</td>\n",
       "      <td>1</td>\n",
       "      <td>3800</td>\n",
       "    </tr>\n",
       "    <tr>\n",
       "      <th>2</th>\n",
       "      <td>3</td>\n",
       "      <td>小花</td>\n",
       "      <td>170</td>\n",
       "      <td>70</td>\n",
       "      <td>3400</td>\n",
       "    </tr>\n",
       "  </tbody>\n",
       "</table>\n",
       "</div>"
      ],
      "text/plain": [
       "   学号  姓名   身高  体重   肺活量\n",
       "0   1  小明  168  60  3200\n",
       "1   2  小黄  187   1  3800\n",
       "2   3  小花  170  70  3400"
      ]
     },
     "execution_count": 14,
     "metadata": {},
     "output_type": "execute_result"
    }
   ],
   "source": [
    "# read data from xsls\n",
    "df=pd.read_excel('physical_examing_data.xlsx',index_col=0) # index_col use column as index\n",
    "# df=pd.read_excel('physical_examing_data.xlsx')\n",
    "df\n",
    "\n",
    "# store xlsx data\n",
    "df.loc[2,'体重']=1\n",
    "print(df)\n",
    "df.to_excel('modified_examing_data.xlsx')\n",
    "\n",
    "pd=pd.read_excel('modified_examing_data.xlsx')\n",
    "pd"
   ]
  },
  {
   "cell_type": "code",
   "execution_count": 23,
   "metadata": {},
   "outputs": [
    {
     "name": "stdout",
     "output_type": "stream",
     "text": [
      "学号,姓名,身高,体重,肺活量\n",
      "1,小明,168,60,3200\n",
      "2,小黄,187,80,3800\n",
      "3,小花,170,70,3400\n",
      "\n"
     ]
    },
    {
     "data": {
      "text/html": [
       "<div>\n",
       "<style scoped>\n",
       "    .dataframe tbody tr th:only-of-type {\n",
       "        vertical-align: middle;\n",
       "    }\n",
       "\n",
       "    .dataframe tbody tr th {\n",
       "        vertical-align: top;\n",
       "    }\n",
       "\n",
       "    .dataframe thead th {\n",
       "        text-align: right;\n",
       "    }\n",
       "</style>\n",
       "<table border=\"1\" class=\"dataframe\">\n",
       "  <thead>\n",
       "    <tr style=\"text-align: right;\">\n",
       "      <th></th>\n",
       "      <th>学号</th>\n",
       "      <th>姓名</th>\n",
       "      <th>身高</th>\n",
       "      <th>体重</th>\n",
       "      <th>肺活量</th>\n",
       "    </tr>\n",
       "  </thead>\n",
       "  <tbody>\n",
       "    <tr>\n",
       "      <th>0</th>\n",
       "      <td>1</td>\n",
       "      <td>小明</td>\n",
       "      <td>168</td>\n",
       "      <td>60</td>\n",
       "      <td>3200</td>\n",
       "    </tr>\n",
       "    <tr>\n",
       "      <th>1</th>\n",
       "      <td>2</td>\n",
       "      <td>小黄</td>\n",
       "      <td>187</td>\n",
       "      <td>80</td>\n",
       "      <td>3800</td>\n",
       "    </tr>\n",
       "    <tr>\n",
       "      <th>2</th>\n",
       "      <td>3</td>\n",
       "      <td>小花</td>\n",
       "      <td>170</td>\n",
       "      <td>70</td>\n",
       "      <td>3400</td>\n",
       "    </tr>\n",
       "  </tbody>\n",
       "</table>\n",
       "</div>"
      ],
      "text/plain": [
       "   学号  姓名   身高  体重   肺活量\n",
       "0   1  小明  168  60  3200\n",
       "1   2  小黄  187  80  3800\n",
       "2   3  小花  170  70  3400"
      ]
     },
     "execution_count": 23,
     "metadata": {},
     "output_type": "execute_result"
    }
   ],
   "source": [
    "# use Python to read data\n",
    "with open('physical.csv','r',encoding='utf-8') as f:\n",
    "    print(f.read())\n",
    "\n",
    "# use pandas to read csv\n",
    "# read csv can be also used to read txt file\n",
    "df_csv=pd.read_csv('physical.csv',index_col=0)\n",
    "df_csv\n",
    "\n",
    "# store data to csv/txt\n",
    "df_csv.to_csv('physical.txt')\n",
    "\n",
    "# read from txt\n",
    "df_txt=pd.read_csv('physical.txt')\n",
    "df_txt"
   ]
  },
  {
   "cell_type": "markdown",
   "metadata": {},
   "source": [
    "## 2.1 Data in Pandas\n",
    "\n",
    "1. Series\n",
    "2. DataFrame"
   ]
  },
  {
   "cell_type": "code",
   "execution_count": 27,
   "metadata": {},
   "outputs": [
    {
     "name": "stdout",
     "output_type": "stream",
     "text": [
      "list:  [11, 22, 33]\n",
      "series:\n",
      " 0    11\n",
      "1    22\n",
      "2    33\n",
      "dtype: int64\n"
     ]
    }
   ],
   "source": [
    "# data series\n",
    "\n",
    "import pandas as pd\n",
    "\n",
    "l=[11,22,33]\n",
    "s=pd.Series(l)\n",
    "print('list: ',l)\n",
    "print('series:\\n',s)"
   ]
  },
  {
   "cell_type": "code",
   "execution_count": 32,
   "metadata": {},
   "outputs": [
    {
     "name": "stdout",
     "output_type": "stream",
     "text": [
      "a    11\n",
      "b    22\n",
      "c    33\n",
      "dtype: int64\n",
      "a     1\n",
      "b,    2\n",
      "c     3\n",
      "dtype: int64\n",
      "a    0.959669\n",
      "b    0.015147\n",
      "c    0.659734\n",
      "dtype: float64\n",
      "array:  [0.95966885 0.0151474  0.65973353]\n",
      "list:  [0.9596688547063419, 0.015147401498772917, 0.6597335257614889]\n"
     ]
    }
   ],
   "source": [
    "# pandas craete index for us, and we can mannully set the index\n",
    "s=pd.Series(l,index=['a','b','c']) # use list to create series\n",
    "print(s)\n",
    "\n",
    "s=pd.Series({'a':1,'b,':2,'c':3})  # use dict to create series\n",
    "print(s)\n",
    "\n",
    "s=pd.Series(np.random.rand(3),index=['a','b','c']) # use numpy to create series\n",
    "print(s)\n",
    "# from pandas to numpy\n",
    "print('array: ',s.to_numpy())\n",
    "# from pandas to list\n",
    "print('list: ',s.tolist())"
   ]
  },
  {
   "cell_type": "code",
   "execution_count": 33,
   "metadata": {},
   "outputs": [
    {
     "name": "stdout",
     "output_type": "stream",
     "text": [
      "   0  1\n",
      "0  1  2\n",
      "1  3  4\n"
     ]
    }
   ],
   "source": [
    "# data frame\n",
    "df=pd.DataFrame([\n",
    "    [1,2],\n",
    "    [3,4]\n",
    "])\n",
    "\n",
    "print(df)"
   ]
  },
  {
   "cell_type": "code",
   "execution_count": 35,
   "metadata": {},
   "outputs": [
    {
     "name": "stdout",
     "output_type": "stream",
     "text": [
      "2\n",
      "   col1  col2\n",
      "0     1     2\n",
      "1     3     4\n"
     ]
    }
   ],
   "source": [
    "# access data\n",
    "print(df.at[0,1])\n",
    "\n",
    "# set index while creating DataFrame\n",
    "df=pd.DataFrame({'col1':[1,3],'col2':[2,4]})\n",
    "print(df)"
   ]
  },
  {
   "cell_type": "code",
   "execution_count": 38,
   "metadata": {},
   "outputs": [
    {
     "name": "stdout",
     "output_type": "stream",
     "text": [
      "0    1\n",
      "1    3\n",
      "Name: col1, dtype: int64 \n",
      "\n",
      "data type:  <class 'pandas.core.series.Series'>\n",
      "a    1.0\n",
      "b    2.0\n",
      "c    3.0\n",
      "dtype: float64 \n",
      "\n",
      "   col1  col2\n",
      "a     1     2\n",
      "b     3     4\n"
     ]
    }
   ],
   "source": [
    "# get Series from DataFrame\n",
    "print(df['col1'],'\\n')\n",
    "print('data type: ',type(df['col1']))\n",
    "\n",
    "s=pd.Series([1.0,2.0,3.0],index=['a','b','c'])\n",
    "df=pd.DataFrame({'col1':[1,3],'col2':[2,4]},index=['a','b'])\n",
    "print(s,'\\n')\n",
    "print(df)"
   ]
  },
  {
   "cell_type": "code",
   "execution_count": 39,
   "metadata": {},
   "outputs": [
    {
     "name": "stdout",
     "output_type": "stream",
     "text": [
      "Index(['a', 'b'], dtype='object') \n",
      "\n",
      "Index(['col1', 'col2'], dtype='object')\n"
     ]
    }
   ],
   "source": [
    "print(df.index,'\\n') # index is row\n",
    "print(df.columns)"
   ]
  },
  {
   "cell_type": "code",
   "execution_count": 40,
   "metadata": {},
   "outputs": [
    {
     "name": "stdout",
     "output_type": "stream",
     "text": [
      "      age  height\n",
      "Jack   12     111\n",
      "Rose   13     123\n"
     ]
    }
   ],
   "source": [
    "# create from json\n",
    "my_json_data=[\n",
    "    {'age':12,'height':111},\n",
    "    {'age':13, 'height':123}\n",
    "]\n",
    "\n",
    "df=pd.DataFrame(my_json_data,index=['Jack','Rose'])\n",
    "print(df)"
   ]
  },
  {
   "cell_type": "markdown",
   "metadata": {},
   "source": [
    "## 1.3 select data from pandas\n"
   ]
  },
  {
   "cell_type": "code",
   "execution_count": 2,
   "metadata": {},
   "outputs": [
    {
     "data": {
      "text/html": [
       "<div>\n",
       "<style scoped>\n",
       "    .dataframe tbody tr th:only-of-type {\n",
       "        vertical-align: middle;\n",
       "    }\n",
       "\n",
       "    .dataframe tbody tr th {\n",
       "        vertical-align: top;\n",
       "    }\n",
       "\n",
       "    .dataframe thead th {\n",
       "        text-align: right;\n",
       "    }\n",
       "</style>\n",
       "<table border=\"1\" class=\"dataframe\">\n",
       "  <thead>\n",
       "    <tr style=\"text-align: right;\">\n",
       "      <th></th>\n",
       "      <th>A</th>\n",
       "      <th>B</th>\n",
       "      <th>C</th>\n",
       "      <th>D</th>\n",
       "    </tr>\n",
       "  </thead>\n",
       "  <tbody>\n",
       "    <tr>\n",
       "      <th>a</th>\n",
       "      <td>-12</td>\n",
       "      <td>-11</td>\n",
       "      <td>-10</td>\n",
       "      <td>-9</td>\n",
       "    </tr>\n",
       "    <tr>\n",
       "      <th>b</th>\n",
       "      <td>-8</td>\n",
       "      <td>-7</td>\n",
       "      <td>-6</td>\n",
       "      <td>-5</td>\n",
       "    </tr>\n",
       "    <tr>\n",
       "      <th>c</th>\n",
       "      <td>-4</td>\n",
       "      <td>-3</td>\n",
       "      <td>-2</td>\n",
       "      <td>-1</td>\n",
       "    </tr>\n",
       "    <tr>\n",
       "      <th>d</th>\n",
       "      <td>0</td>\n",
       "      <td>1</td>\n",
       "      <td>2</td>\n",
       "      <td>3</td>\n",
       "    </tr>\n",
       "    <tr>\n",
       "      <th>e</th>\n",
       "      <td>4</td>\n",
       "      <td>5</td>\n",
       "      <td>6</td>\n",
       "      <td>7</td>\n",
       "    </tr>\n",
       "    <tr>\n",
       "      <th>f</th>\n",
       "      <td>8</td>\n",
       "      <td>9</td>\n",
       "      <td>10</td>\n",
       "      <td>11</td>\n",
       "    </tr>\n",
       "  </tbody>\n",
       "</table>\n",
       "</div>"
      ],
      "text/plain": [
       "    A   B   C   D\n",
       "a -12 -11 -10  -9\n",
       "b  -8  -7  -6  -5\n",
       "c  -4  -3  -2  -1\n",
       "d   0   1   2   3\n",
       "e   4   5   6   7\n",
       "f   8   9  10  11"
      ]
     },
     "execution_count": 2,
     "metadata": {},
     "output_type": "execute_result"
    }
   ],
   "source": [
    "import numpy as np\n",
    "import pandas as pd\n",
    "\n",
    "data=np.arange(-12,12).reshape((6,4))\n",
    "df=pd.DataFrame(\n",
    "    data,\n",
    "    index=list('abcdef'),\n",
    "    columns=list('ABCD')\n",
    ")\n",
    "\n",
    "df"
   ]
  },
  {
   "cell_type": "code",
   "execution_count": 12,
   "metadata": {},
   "outputs": [
    {
     "name": "stdout",
     "output_type": "stream",
     "text": [
      "a   -11\n",
      "b    -7\n",
      "c    -3\n",
      "d     1\n",
      "e     5\n",
      "f     9\n",
      "Name: B, dtype: int64\n",
      "[[-3 -2]]\n",
      "   B  C  D\n",
      "c -3 -2 -1\n",
      "d  1  2  3\n",
      "numpy data:\n",
      " [[-3 -2]]\n",
      "\n",
      "pandas data:\n",
      "    B  C\n",
      "c -3 -2\n"
     ]
    }
   ],
   "source": [
    "# select colume\n",
    "print(df['B'])\n",
    "\n",
    "# select like Excel: loc\n",
    "print(data[2:3,1:3])\n",
    "print(df.loc['c':'d','B':'D']) # it will include 'd', and 'D', while numpy will not\n",
    "\n",
    "# select like numpy: iloc\n",
    "print('numpy data:\\n',data[2:3,1:3])\n",
    "print('\\npandas data:\\n',df.iloc[2:3,1:3]) # usd number instead of index or column"
   ]
  },
  {
   "cell_type": "code",
   "execution_count": 14,
   "metadata": {},
   "outputs": [
    {
     "name": "stdout",
     "output_type": "stream",
     "text": [
      "Index(['c', 'd'], dtype='object')\n",
      "\n",
      "df:\n",
      "    A  C\n",
      "c -4 -2\n",
      "d  0  2\n"
     ]
    }
   ],
   "source": [
    "row_lables=df.index[2:4] # get index\n",
    "print(row_lables)\n",
    "\n",
    "print('\\ndf:\\n',df.loc[row_lables,['A','C']])"
   ]
  },
  {
   "cell_type": "code",
   "execution_count": 16,
   "metadata": {},
   "outputs": [
    {
     "data": {
      "text/html": [
       "<div>\n",
       "<style scoped>\n",
       "    .dataframe tbody tr th:only-of-type {\n",
       "        vertical-align: middle;\n",
       "    }\n",
       "\n",
       "    .dataframe tbody tr th {\n",
       "        vertical-align: top;\n",
       "    }\n",
       "\n",
       "    .dataframe thead th {\n",
       "        text-align: right;\n",
       "    }\n",
       "</style>\n",
       "<table border=\"1\" class=\"dataframe\">\n",
       "  <thead>\n",
       "    <tr style=\"text-align: right;\">\n",
       "      <th></th>\n",
       "      <th>A</th>\n",
       "      <th>B</th>\n",
       "      <th>C</th>\n",
       "      <th>D</th>\n",
       "    </tr>\n",
       "  </thead>\n",
       "  <tbody>\n",
       "    <tr>\n",
       "      <th>a</th>\n",
       "      <td>-12</td>\n",
       "      <td>-11</td>\n",
       "      <td>-10</td>\n",
       "      <td>-9</td>\n",
       "    </tr>\n",
       "    <tr>\n",
       "      <th>b</th>\n",
       "      <td>-8</td>\n",
       "      <td>-7</td>\n",
       "      <td>-6</td>\n",
       "      <td>-5</td>\n",
       "    </tr>\n",
       "    <tr>\n",
       "      <th>c</th>\n",
       "      <td>-4</td>\n",
       "      <td>-3</td>\n",
       "      <td>-2</td>\n",
       "      <td>-1</td>\n",
       "    </tr>\n",
       "  </tbody>\n",
       "</table>\n",
       "</div>"
      ],
      "text/plain": [
       "    A   B   C  D\n",
       "a -12 -11 -10 -9\n",
       "b  -8  -7  -6 -5\n",
       "c  -4  -3  -2 -1"
      ]
     },
     "execution_count": 16,
     "metadata": {},
     "output_type": "execute_result"
    }
   ],
   "source": [
    "df[df['A']<0] # select all rows whose A < 0"
   ]
  },
  {
   "cell_type": "code",
   "execution_count": 21,
   "metadata": {},
   "outputs": [
    {
     "name": "stdout",
     "output_type": "stream",
     "text": [
      "    A   B   C   D\n",
      "a -12 -11 -10  -9\n",
      "b  -8  -7  -6  -5\n",
      "c  -4  -3  -2  -1\n",
      "d   0   1   2   3\n",
      "e   4   5   6   7\n",
      "f   8   9  10  11\n",
      "A   -12\n",
      "B   -11\n",
      "C   -10\n",
      "D    -9\n",
      "Name: a, dtype: int64\n",
      "\n",
      "\n",
      "    A   B\n",
      "a -12 -11\n",
      "b  -8  -7\n",
      "c  -4  -3\n",
      "d   0   1\n",
      "e   4   5\n",
      "f   8   9\n"
     ]
    }
   ],
   "source": [
    "print(df)\n",
    "print(df.iloc[0])\n",
    "\n",
    "print('\\n')\n",
    "print(df.loc[:,df.iloc[0]<-10]) # first row data < -10"
   ]
  },
  {
   "cell_type": "code",
   "execution_count": 24,
   "metadata": {},
   "outputs": [
    {
     "name": "stdout",
     "output_type": "stream",
     "text": [
      "[-4, -3, -2, -1, 0, 1, 2, 3]\n",
      "a   -4\n",
      "b   -3\n",
      "c   -2\n",
      "d   -1\n",
      "e    0\n",
      "f    1\n",
      "g    2\n",
      "h    3\n",
      "dtype: int64\n",
      "a   -4\n",
      "b   -3\n",
      "c   -2\n",
      "dtype: int64\n",
      "b   -3\n",
      "c   -2\n",
      "d   -1\n",
      "dtype: int64\n"
     ]
    }
   ],
   "source": [
    "list_data=list(range(-4,4))\n",
    "print(list_data)\n",
    "\n",
    "s=pd.Series(\n",
    "    list_data,\n",
    "    index=list('abcdefgh')\n",
    ")\n",
    "\n",
    "print(s)\n",
    "\n",
    "print(s.loc[['a','b','c']]) # location\n",
    "print(s.iloc[[1,2,3]])  # index location"
   ]
  },
  {
   "cell_type": "markdown",
   "metadata": {},
   "source": [
    "# 2 Statistical display\n",
    "## 2.1 Basic statistical methods\n",
    "1. mean, median\n",
    "2. sum,prod\n",
    "3. max,min\n",
    "4. innull,notnull,dropna,fillna\n",
    "5. idxmin,idxmax"
   ]
  },
  {
   "cell_type": "code",
   "execution_count": 26,
   "metadata": {},
   "outputs": [
    {
     "name": "stdout",
     "output_type": "stream",
     "text": [
      "    A   B   C   D\n",
      "a -12 -11 -10  -9\n",
      "b  -8  -7  -6  -5\n",
      "c  -4  -3  -2  -1\n",
      "d   0   1   2   3\n",
      "e   4   5   6   7\n",
      "f   8   9  10  11\n"
     ]
    },
    {
     "data": {
      "text/html": [
       "<div>\n",
       "<style scoped>\n",
       "    .dataframe tbody tr th:only-of-type {\n",
       "        vertical-align: middle;\n",
       "    }\n",
       "\n",
       "    .dataframe tbody tr th {\n",
       "        vertical-align: top;\n",
       "    }\n",
       "\n",
       "    .dataframe thead th {\n",
       "        text-align: right;\n",
       "    }\n",
       "</style>\n",
       "<table border=\"1\" class=\"dataframe\">\n",
       "  <thead>\n",
       "    <tr style=\"text-align: right;\">\n",
       "      <th></th>\n",
       "      <th>A</th>\n",
       "      <th>B</th>\n",
       "      <th>C</th>\n",
       "      <th>D</th>\n",
       "    </tr>\n",
       "  </thead>\n",
       "  <tbody>\n",
       "    <tr>\n",
       "      <th>count</th>\n",
       "      <td>6.000000</td>\n",
       "      <td>6.000000</td>\n",
       "      <td>6.000000</td>\n",
       "      <td>6.000000</td>\n",
       "    </tr>\n",
       "    <tr>\n",
       "      <th>mean</th>\n",
       "      <td>-2.000000</td>\n",
       "      <td>-1.000000</td>\n",
       "      <td>0.000000</td>\n",
       "      <td>1.000000</td>\n",
       "    </tr>\n",
       "    <tr>\n",
       "      <th>std</th>\n",
       "      <td>7.483315</td>\n",
       "      <td>7.483315</td>\n",
       "      <td>7.483315</td>\n",
       "      <td>7.483315</td>\n",
       "    </tr>\n",
       "    <tr>\n",
       "      <th>min</th>\n",
       "      <td>-12.000000</td>\n",
       "      <td>-11.000000</td>\n",
       "      <td>-10.000000</td>\n",
       "      <td>-9.000000</td>\n",
       "    </tr>\n",
       "    <tr>\n",
       "      <th>25%</th>\n",
       "      <td>-7.000000</td>\n",
       "      <td>-6.000000</td>\n",
       "      <td>-5.000000</td>\n",
       "      <td>-4.000000</td>\n",
       "    </tr>\n",
       "    <tr>\n",
       "      <th>50%</th>\n",
       "      <td>-2.000000</td>\n",
       "      <td>-1.000000</td>\n",
       "      <td>0.000000</td>\n",
       "      <td>1.000000</td>\n",
       "    </tr>\n",
       "    <tr>\n",
       "      <th>75%</th>\n",
       "      <td>3.000000</td>\n",
       "      <td>4.000000</td>\n",
       "      <td>5.000000</td>\n",
       "      <td>6.000000</td>\n",
       "    </tr>\n",
       "    <tr>\n",
       "      <th>max</th>\n",
       "      <td>8.000000</td>\n",
       "      <td>9.000000</td>\n",
       "      <td>10.000000</td>\n",
       "      <td>11.000000</td>\n",
       "    </tr>\n",
       "  </tbody>\n",
       "</table>\n",
       "</div>"
      ],
      "text/plain": [
       "               A          B          C          D\n",
       "count   6.000000   6.000000   6.000000   6.000000\n",
       "mean   -2.000000  -1.000000   0.000000   1.000000\n",
       "std     7.483315   7.483315   7.483315   7.483315\n",
       "min   -12.000000 -11.000000 -10.000000  -9.000000\n",
       "25%    -7.000000  -6.000000  -5.000000  -4.000000\n",
       "50%    -2.000000  -1.000000   0.000000   1.000000\n",
       "75%     3.000000   4.000000   5.000000   6.000000\n",
       "max     8.000000   9.000000  10.000000  11.000000"
      ]
     },
     "execution_count": 26,
     "metadata": {},
     "output_type": "execute_result"
    }
   ],
   "source": [
    "# quick show DataFrame info\n",
    "print(df)\n",
    "df.describe()"
   ]
  },
  {
   "cell_type": "code",
   "execution_count": 30,
   "metadata": {},
   "outputs": [
    {
     "name": "stdout",
     "output_type": "stream",
     "text": [
      "A   -2.0\n",
      "B   -1.0\n",
      "C    0.0\n",
      "D    1.0\n",
      "dtype: float64\n",
      "a   -10.5\n",
      "b    -6.5\n",
      "c    -2.5\n",
      "d     1.5\n",
      "e     5.5\n",
      "f     9.5\n",
      "dtype: float64\n",
      "3000.0\n"
     ]
    }
   ],
   "source": [
    "print(df.mean()) # calculate mean of each column\n",
    "print(df.mean(axis=1)) # calculate mean of each row\n",
    "\n",
    "s=pd.Series([1000,2000,4000,100000])\n",
    "print(s.median()) # median"
   ]
  },
  {
   "cell_type": "code",
   "execution_count": 36,
   "metadata": {},
   "outputs": [
    {
     "name": "stdout",
     "output_type": "stream",
     "text": [
      "   c0  c1  c2\n",
      "0   0   1   2\n",
      "1   3   4   5\n",
      "2   6   7   8\n",
      "3   9  10  11\n",
      "sum:\n",
      " c0    18\n",
      "c1    22\n",
      "c2    26\n",
      "dtype: int64\n",
      "sum:\n",
      " 0     3\n",
      "1    12\n",
      "2    21\n",
      "3    30\n",
      "dtype: int64\n",
      "prod:\n",
      " c0      0\n",
      "c1    280\n",
      "c2    880\n",
      "dtype: int64\n",
      "prod:\n",
      " 0      0\n",
      "1     60\n",
      "2    336\n",
      "3    990\n",
      "dtype: int64\n"
     ]
    }
   ],
   "source": [
    "df=pd.DataFrame(np.arange(12).reshape((4,3)),columns=['c0','c1','c2'])\n",
    "print(df)\n",
    "\n",
    "print('sum:\\n',df.sum()) # calculate sum of each column\n",
    "print('sum:\\n',df.sum(axis=1)) # calculate sum of each row\n",
    "\n",
    "print('prod:\\n',df.prod())\n",
    "print('prod:\\n',df.prod(axis=1))\n",
    "\n"
   ]
  },
  {
   "cell_type": "code",
   "execution_count": 38,
   "metadata": {},
   "outputs": [
    {
     "name": "stdout",
     "output_type": "stream",
     "text": [
      "max:\n",
      " c0     9\n",
      "c1    10\n",
      "c2    11\n",
      "dtype: int64\n",
      "max:\n",
      " 0     2\n",
      "1     5\n",
      "2     8\n",
      "3    11\n",
      "dtype: int64\n",
      "min:\n",
      " c0    0\n",
      "c1    1\n",
      "c2    2\n",
      "dtype: int64\n",
      "min:\n",
      " 0    0\n",
      "1    3\n",
      "2    6\n",
      "3    9\n",
      "dtype: int64\n"
     ]
    }
   ],
   "source": [
    "# max\n",
    "print('max:\\n',df.max())\n",
    "print('max:\\n',df.max(axis=1))\n",
    "\n",
    "# min\n",
    "print('min:\\n',df.min())\n",
    "print('min:\\n',df.min(axis=1))"
   ]
  },
  {
   "cell_type": "code",
   "execution_count": 39,
   "metadata": {},
   "outputs": [
    {
     "name": "stdout",
     "output_type": "stream",
     "text": [
      "     A    B    C    D\n",
      "0  1.0  2.0  3.0  0.0\n",
      "1  3.0  4.0  NaN  1.0\n",
      "2  NaN  NaN  NaN  NaN\n",
      "3  NaN  3.0  NaN  4.0\n",
      "\n",
      "isnull:\n",
      "        A      B      C      D\n",
      "0  False  False  False  False\n",
      "1  False  False   True  False\n",
      "2   True   True   True   True\n",
      "3   True  False   True  False\n",
      "\n",
      "isnull:\n",
      "        A      B      C      D\n",
      "0  False  False  False  False\n",
      "1  False  False   True  False\n",
      "2   True   True   True   True\n",
      "3   True  False   True  False\n"
     ]
    }
   ],
   "source": [
    "# deal with None\n",
    "df = pd.DataFrame(\n",
    "    [[1, 2, 3, 0],\n",
    "    [3, 4, None, 1],\n",
    "    [None, None, None, None],\n",
    "    [None, 3, None, 4]],\n",
    "    columns=list(\"ABCD\")\n",
    ")\n",
    "\n",
    "print(df)\n",
    "\n",
    "print('\\nisnull:\\n',df.isnull()) # Trus means None\n",
    "print('\\nisnull:\\n',df.isnull()) # Trus means not None"
   ]
  },
  {
   "cell_type": "code",
   "execution_count": 43,
   "metadata": {},
   "outputs": [
    {
     "name": "stdout",
     "output_type": "stream",
     "text": [
      "\n",
      "dropna:\n",
      "      A    B    C    D\n",
      "0  1.0  2.0  3.0  0.0\n",
      "\n",
      "      A    B    C    D\n",
      "0  1.0  2.0  3.0  0.0\n",
      "1  3.0  4.0  NaN  1.0\n",
      "2  NaN  NaN  NaN  NaN\n",
      "3  NaN  3.0  NaN  4.0\n",
      "\n",
      " Empty DataFrame\n",
      "Columns: []\n",
      "Index: [0, 1, 2, 3]\n"
     ]
    }
   ],
   "source": [
    "# drop none\n",
    "print('\\ndropna:\\n',df.dropna(axis=0))\n",
    "print('\\n',df)\n",
    "\n",
    "print('\\n',df.dropna(axis=1))"
   ]
  },
  {
   "cell_type": "code",
   "execution_count": 47,
   "metadata": {},
   "outputs": [
    {
     "name": "stdout",
     "output_type": "stream",
     "text": [
      "max_index:\n",
      " A    1\n",
      "B    1\n",
      "C    0\n",
      "D    3\n",
      "dtype: int64\n",
      "\n",
      "max_index:\n",
      " 0      C\n",
      "1      B\n",
      "2    NaN\n",
      "3      D\n",
      "dtype: object\n",
      "\n",
      "min_index:\n",
      " A    0\n",
      "B    0\n",
      "C    0\n",
      "D    0\n",
      "dtype: int64\n",
      "\n"
     ]
    }
   ],
   "source": [
    "# index\n",
    "print('max_index:\\n %s\\n' % df.idxmax())\n",
    "print('max_index:\\n %s\\n' % df.idxmax(axis=1))\n",
    "print('min_index:\\n %s\\n' % df.idxmin())"
   ]
  },
  {
   "cell_type": "markdown",
   "metadata": {},
   "source": [
    "## 2.2 Draw a chart\n",
    "1. scatter\n",
    "2. plot\n",
    "3. var\n",
    "4. histogram\n",
    "5. pie\n",
    "6. area"
   ]
  },
  {
   "cell_type": "code",
   "execution_count": 51,
   "metadata": {},
   "outputs": [
    {
     "name": "stdout",
     "output_type": "stream",
     "text": [
      "             x         y\n",
      "0     1.670942 -0.007290\n",
      "1     0.289705 -0.489436\n",
      "2     1.610777  0.723342\n",
      "3    -2.000761 -1.292875\n",
      "4     0.183494 -0.749531\n",
      "...        ...       ...\n",
      "1019 -1.642002 -0.274045\n",
      "1020  1.832120  0.416557\n",
      "1021  0.147389 -0.053902\n",
      "1022 -1.145520  0.604756\n",
      "1023  1.147145  1.449796\n",
      "\n",
      "[1024 rows x 2 columns]\n"
     ]
    },
    {
     "data": {
      "text/plain": [
       "<AxesSubplot:xlabel='x', ylabel='y'>"
      ]
     },
     "execution_count": 51,
     "metadata": {},
     "output_type": "execute_result"
    },
    {
     "data": {
      "image/png": "[encoded data removed]",
      "text/plain": [
       "<Figure size 432x288 with 1 Axes>"
      ]
     },
     "metadata": {
      "needs_background": "light"
     },
     "output_type": "display_data"
    }
   ],
   "source": [
    "# scatter plot\n",
    "\n",
    "n=1024\n",
    "df=pd.DataFrame({\n",
    "    'x':np.random.normal(0,1,n),\n",
    "    'y':np.random.normal(0,1,n)\n",
    "})\n",
    "\n",
    "print(df)\n",
    "color=np.arctan2(df['y'],df['x'])\n",
    "\n",
    "# c: color\n",
    "# s: size for each dot\n",
    "# alpha: opacity\n",
    "# cmap: color map\n",
    "df.plot.scatter(x='x',y='y',c=color,s=60,alpha=0.5,cmap='rainbow')\n"
   ]
  },
  {
   "cell_type": "code",
   "execution_count": 54,
   "metadata": {},
   "outputs": [
    {
     "data": {
      "text/plain": [
       "<AxesSubplot:xlabel='x'>"
      ]
     },
     "execution_count": 54,
     "metadata": {},
     "output_type": "execute_result"
    },
    {
     "data": {
      "image/png": "[encoded data removed]",
      "text/plain": [
       "<Figure size 432x288 with 1 Axes>"
      ]
     },
     "metadata": {
      "needs_background": "light"
     },
     "output_type": "display_data"
    }
   ],
   "source": [
    "## line chart: plot\n",
    "n=20\n",
    "x=np.linspace(-1,1,n)\n",
    "\n",
    "y=x*2+0.4+np.random.normal(0,0.3,n)\n",
    "\n",
    "df=pd.DataFrame({\n",
    "    'x':x,\n",
    "    'y':y\n",
    "})\n",
    "\n",
    "df.plot(x='x',y='y',alpha=0.5,c='r')"
   ]
  },
  {
   "cell_type": "code",
   "execution_count": 55,
   "metadata": {},
   "outputs": [
    {
     "data": {
      "text/plain": [
       "<AxesSubplot:xlabel='x'>"
      ]
     },
     "execution_count": 55,
     "metadata": {},
     "output_type": "execute_result"
    },
    {
     "data": {
      "image/png": "[encoded data removed]",
      "text/plain": [
       "<Figure size 432x288 with 1 Axes>"
      ]
     },
     "metadata": {
      "needs_background": "light"
     },
     "output_type": "display_data"
    }
   ],
   "source": [
    "n = 20    # data size\n",
    "x = np.linspace(-1, 1, n)\n",
    "y1 = x * -1 - 0.1 + np.random.normal(0, 0.3, n)\n",
    "y2 = x * 2 + 0.4 + np.random.normal(0, 0.3, n)\n",
    "df = pd.DataFrame({\n",
    "    \"x\": x,\n",
    "    \"y1\": y1,\n",
    "    \"y2\": y2, \n",
    "})\n",
    "df.plot(x=\"x\", y=[\"y1\", \"y2\"], alpha=.5) # draw two lines\n"
   ]
  },
  {
   "cell_type": "code",
   "execution_count": 58,
   "metadata": {},
   "outputs": [
    {
     "data": {
      "text/plain": [
       "<AxesSubplot:>"
      ]
     },
     "execution_count": 58,
     "metadata": {},
     "output_type": "execute_result"
    },
    {
     "data": {
      "image/png": "[encoded data removed]",
      "text/plain": [
       "<Figure size 432x288 with 1 Axes>"
      ]
     },
     "metadata": {
      "needs_background": "light"
     },
     "output_type": "display_data"
    },
    {
     "data": {
      "image/png": "[encoded data removed]",
      "text/plain": [
       "<Figure size 432x288 with 1 Axes>"
      ]
     },
     "metadata": {
      "needs_background": "light"
     },
     "output_type": "display_data"
    },
    {
     "data": {
      "image/png": "[encoded data removed]",
      "text/plain": [
       "<Figure size 432x288 with 1 Axes>"
      ]
     },
     "metadata": {
      "needs_background": "light"
     },
     "output_type": "display_data"
    }
   ],
   "source": [
    "## bar diagram\n",
    "df=pd.DataFrame(np.random.rand(5,3),columns=['a','b','c'])\n",
    "\n",
    "df.plot.bar()\n",
    "\n",
    "df.plot.bar(stacked=True)\n",
    "\n",
    "df.plot.barh() # horizontal"
   ]
  },
  {
   "cell_type": "code",
   "execution_count": 62,
   "metadata": {},
   "outputs": [
    {
     "data": {
      "text/plain": [
       "<AxesSubplot:ylabel='Frequency'>"
      ]
     },
     "execution_count": 62,
     "metadata": {},
     "output_type": "execute_result"
    },
    {
     "data": {
      "image/png": "[encoded data removed]",
      "text/plain": [
       "<Figure size 432x288 with 1 Axes>"
      ]
     },
     "metadata": {
      "needs_background": "light"
     },
     "output_type": "display_data"
    },
    {
     "data": {
      "image/png": "[encoded data removed]",
      "text/plain": [
       "<Figure size 432x288 with 1 Axes>"
      ]
     },
     "metadata": {
      "needs_background": "light"
     },
     "output_type": "display_data"
    }
   ],
   "source": [
    "## distribution graph: histogram\n",
    "\n",
    "df=pd.DataFrame({'a':np.random.randn(1000)})\n",
    "\n",
    "df.plot.hist()\n",
    "\n",
    "df = pd.DataFrame(\n",
    "    {\n",
    "        \"a\": np.random.randn(1000) + 1,\n",
    "        \"b\": np.random.randn(1000),\n",
    "        \"c\": np.random.randn(1000) - 4,\n",
    "    }\n",
    ")\n",
    "\n",
    "df.plot.hist(alpha=0.5, bins=30) # bins define the number of cylinders"
   ]
  },
  {
   "cell_type": "code",
   "execution_count": 65,
   "metadata": {},
   "outputs": [
    {
     "data": {
      "text/plain": [
       "<AxesSubplot:ylabel='boss'>"
      ]
     },
     "execution_count": 65,
     "metadata": {},
     "output_type": "execute_result"
    },
    {
     "data": {
      "image/png": "[encoded data removed]",
      "text/plain": [
       "<Figure size 504x504 with 1 Axes>"
      ]
     },
     "metadata": {},
     "output_type": "display_data"
    }
   ],
   "source": [
    "## Pie graph\n",
    "\n",
    "df=pd.DataFrame({'boss':np.random.rand(4)},index=['meeting','supervisse','teaching','team building'])\n",
    "\n",
    "df.plot.pie(y='boss',figsize=(7,7))"
   ]
  },
  {
   "cell_type": "code",
   "execution_count": 67,
   "metadata": {},
   "outputs": [
    {
     "data": {
      "text/plain": [
       "array([<AxesSubplot:ylabel='bigBoss'>, <AxesSubplot:ylabel='smallBoss'>],\n",
       "      dtype=object)"
      ]
     },
     "execution_count": 67,
     "metadata": {},
     "output_type": "execute_result"
    },
    {
     "data": {
      "image/png": "[encoded data removed]",
      "text/plain": [
       "<Figure size 648x648 with 2 Axes>"
      ]
     },
     "metadata": {},
     "output_type": "display_data"
    }
   ],
   "source": [
    "df = pd.DataFrame(\n",
    "    {\n",
    "        \"bigBoss\": np.random.rand(4),\n",
    "        \"smallBoss\": np.random.rand(4),\n",
    "    },\n",
    "    index=[\"meeting\", \"supervise\", \"teaching\", \"team building\"], \n",
    ")\n",
    "df.plot.pie(subplots=True, figsize=(9,9), legend=True) # draw two pictures"
   ]
  },
  {
   "cell_type": "code",
   "execution_count": 72,
   "metadata": {},
   "outputs": [
    {
     "data": {
      "text/plain": [
       "<AxesSubplot:>"
      ]
     },
     "execution_count": 72,
     "metadata": {},
     "output_type": "execute_result"
    },
    {
     "data": {
      "image/png": "[encoded data removed]",
      "text/plain": [
       "<Figure size 432x288 with 1 Axes>"
      ]
     },
     "metadata": {
      "needs_background": "light"
     },
     "output_type": "display_data"
    },
    {
     "data": {
      "image/png": "[encoded data removed]",
      "text/plain": [
       "<Figure size 432x288 with 1 Axes>"
      ]
     },
     "metadata": {
      "needs_background": "light"
     },
     "output_type": "display_data"
    }
   ],
   "source": [
    "## Area graph\n",
    "\n",
    "df=pd.DataFrame(\n",
    "    np.random.rand(10,4),\n",
    "    columns=['a','b','c','d']\n",
    ")\n",
    "\n",
    "df.plot.area()\n",
    "df.plot.area(stacked=False)"
   ]
  },
  {
   "cell_type": "markdown",
   "metadata": {},
   "source": [
    "# 3 Data Process\n",
    "## 3.1 Calculation Methods"
   ]
  },
  {
   "cell_type": "code",
   "execution_count": 73,
   "metadata": {},
   "outputs": [
    {
     "name": "stdout",
     "output_type": "stream",
     "text": [
      "    A   B   C   D\n",
      "a -12 -11 -10  -9\n",
      "b  -8  -7  -6  -5\n",
      "c  -4  -3  -2  -1\n",
      "d   0   1   2   3\n",
      "e   4   5   6   7\n",
      "f   8   9  10  11\n"
     ]
    }
   ],
   "source": [
    "# filter and assignment operations\n",
    "data=np.arange(-12,12).reshape((6,4))\n",
    "df=pd.DataFrame(\n",
    "    data,\n",
    "    index=list('abcdef'),\n",
    "    columns=list('ABCD')\n",
    ")\n",
    "\n",
    "print(df)"
   ]
  },
  {
   "cell_type": "code",
   "execution_count": 74,
   "metadata": {},
   "outputs": [
    {
     "name": "stdout",
     "output_type": "stream",
     "text": [
      "   A   B   C   D\n",
      "a  0 -11 -10  -9\n",
      "b  0  -7  -6  -5\n",
      "c  0  -3  -2  -1\n",
      "d  0   1   2   3\n",
      "e  0   5   6   7\n",
      "f  0   9  10  11\n"
     ]
    }
   ],
   "source": [
    "df['A']*=0\n",
    "print(df)"
   ]
  },
  {
   "cell_type": "code",
   "execution_count": 77,
   "metadata": {},
   "outputs": [
    {
     "name": "stdout",
     "output_type": "stream",
     "text": [
      "     A   B   C   D\n",
      "a  100 -11 -10  -9\n",
      "b  200  -7  -6  -5\n",
      "c    0  -3  -2  -1\n",
      "d    0   1   2   3\n",
      "e    0   5   6   7\n",
      "f    0   9  10  11\n",
      "     A   B   C   D\n",
      "a  100 -11 -10  -9\n",
      "b  200  -7  -6  -5\n",
      "c    0  -3  -2  -1\n",
      "d    0   1   2   3\n",
      "e    0   5   6   7\n",
      "f    0   9  10  11\n",
      "     A   B   C   D\n",
      "a  200 -22 -20 -18\n",
      "b  200  -7  -6  -5\n",
      "c    0  -3  -2  -1\n",
      "d    0   1   2   3\n",
      "e    0   5   6   7\n",
      "f    0   9  10  11\n"
     ]
    }
   ],
   "source": [
    "df.loc['a','A']=100 # location\n",
    "print(df)\n",
    "\n",
    "df.iloc[1,0]=200    # index location\n",
    "print(df)\n",
    "\n",
    "df.loc['a',:]=df.loc['a',:]*2\n",
    "print(df)"
   ]
  },
  {
   "cell_type": "code",
   "execution_count": 80,
   "metadata": {},
   "outputs": [
    {
     "name": "stdout",
     "output_type": "stream",
     "text": [
      "c    0\n",
      "d    0\n",
      "e    0\n",
      "f    0\n",
      "Name: A, dtype: int64\n",
      "a    200\n",
      "b    200\n",
      "c      0\n",
      "d      0\n",
      "e      0\n",
      "f      0\n",
      "Name: A, dtype: int64\n",
      "a    False\n",
      "b    False\n",
      "c     True\n",
      "d     True\n",
      "e     True\n",
      "f     True\n",
      "Name: A, dtype: bool\n"
     ]
    }
   ],
   "source": [
    "print(df[\"A\"][df[\"A\"] == 0])\n",
    "print(df[\"A\"])\n",
    "print(df[\"A\"] == 0)\n"
   ]
  },
  {
   "cell_type": "code",
   "execution_count": 84,
   "metadata": {},
   "outputs": [
    {
     "name": "stdout",
     "output_type": "stream",
     "text": [
      "   A  B\n",
      "0  4  9\n",
      "1  4  9\n",
      "2  4  9\n",
      "     A    B\n",
      "0  2.0  3.0\n",
      "1  2.0  3.0\n",
      "2  2.0  3.0\n",
      "     A    B\n",
      "0  2.0  3.0\n",
      "1  2.0  3.0\n",
      "2  2.0  3.0\n"
     ]
    }
   ],
   "source": [
    "## Apply method\n",
    "df=pd.DataFrame([[4,9]]*3,columns=['A','B'])\n",
    "print(df)\n",
    "\n",
    "# sqrt\n",
    "print(np.sqrt(df))\n",
    "\n",
    "print(df.apply(np.sqrt))"
   ]
  },
  {
   "cell_type": "code",
   "execution_count": 88,
   "metadata": {},
   "outputs": [
    {
     "name": "stdout",
     "output_type": "stream",
     "text": [
      "   A  B\n",
      "0  4  9\n",
      "1  4  9\n",
      "2  4  9\n",
      "   A  B\n",
      "0  4  9\n",
      "1  4  9\n",
      "2  4  9\n"
     ]
    }
   ],
   "source": [
    "def func(x):\n",
    "    return x[0]*2, x[1]*-1\n",
    "\n",
    "df.apply(func,axis=1,result_type='expand')\n",
    "print(df)\n",
    "\n",
    "df.apply(func,axis=1,result_type='broadcast')\n",
    "print(df)"
   ]
  },
  {
   "cell_type": "markdown",
   "metadata": {},
   "source": [
    "## 3.2 Word Processing\n",
    "1. upper, lower, len\n",
    "2. strip, lstrip, rstrip\n",
    "3. split\n",
    "4. contains, match, startswitdh, endswidth\n",
    "5. replace\n",
    "6. extract, extarctall\n",
    "7. cat\n"
   ]
  },
  {
   "cell_type": "code",
   "execution_count": 89,
   "metadata": {},
   "outputs": [
    {
     "name": "stdout",
     "output_type": "stream",
     "text": [
      "python: \n",
      " A,B,C,AABA,BACA,CABA,DOG,CAT\n",
      "\n",
      "pands:\n",
      " 0       A\n",
      "1       B\n",
      "2       C\n",
      "3    AABA\n",
      "4    BACA\n",
      "5    CABA\n",
      "6     DOG\n",
      "7     CAT\n",
      "dtype: string\n"
     ]
    }
   ],
   "source": [
    "## format string\n",
    "\n",
    "py_s = \"A,B,C,Aaba,Baca,CABA,dog,cat\"\n",
    "pd_s = pd.Series(\n",
    "    [\"A\", \"B\", \"C\", \"Aaba\", \"Baca\", \"CABA\", \"dog\", \"cat\"],\n",
    "    dtype=\"string\")\n",
    "\n",
    "print('python: \\n',py_s.upper())\n",
    "print('\\npands:\\n',pd_s.str.upper())"
   ]
  },
  {
   "cell_type": "code",
   "execution_count": 91,
   "metadata": {},
   "outputs": [
    {
     "name": "stdout",
     "output_type": "stream",
     "text": [
      "pd_not_s type:  object\n",
      "pd_s type:  string\n"
     ]
    }
   ],
   "source": [
    "pd_not_s = pd.Series(\n",
    "    [\"A\", \"B\", \"C\", \"Aaba\", \"Baca\", \"CABA\", \"dog\", \"cat\"],\n",
    ")\n",
    "\n",
    "print('pd_not_s type: ',pd_not_s.dtype)\n",
    "pd_s=pd_not_s.astype(\"string\") # if we want to use pd.str function, we have to make dtype to string\n",
    "print('pd_s type: ',pd_s.dtype)"
   ]
  },
  {
   "cell_type": "code",
   "execution_count": 92,
   "metadata": {},
   "outputs": [
    {
     "name": "stdout",
     "output_type": "stream",
     "text": [
      "python lower:\n",
      " a,b,c,aaba,baca,caba,dog,cat\n",
      "\n",
      "pandas lower:\n",
      " 0       a\n",
      "1       b\n",
      "2       c\n",
      "3    aaba\n",
      "4    baca\n",
      "5    caba\n",
      "6     dog\n",
      "7     cat\n",
      "dtype: string\n",
      "\n",
      "python len:\n",
      " [1, 1, 1, 4, 4, 4, 3, 3]\n",
      "\n",
      "pandas len:\n",
      " 0    1\n",
      "1    1\n",
      "2    1\n",
      "3    4\n",
      "4    4\n",
      "5    4\n",
      "6    3\n",
      "7    3\n",
      "dtype: Int64\n"
     ]
    }
   ],
   "source": [
    "print('python lower:\\n',py_s.lower())\n",
    "print('\\npandas lower:\\n',pd_s.str.lower())\n",
    "print('\\npython len:\\n',[len(s) for s in py_s.split(',')])\n",
    "print('\\npandas len:\\n',pd_s.str.len())"
   ]
  },
  {
   "cell_type": "code",
   "execution_count": 95,
   "metadata": {},
   "outputs": [
    {
     "name": "stdout",
     "output_type": "stream",
     "text": [
      "python strip:\n",
      " ['jack', 'jill', 'jesse', 'frank']\n",
      "\n",
      "pandas strip:\n",
      " 0     jack\n",
      "1     jill\n",
      "2    jesse\n",
      "3    frank\n",
      "dtype: string\n",
      "python lstrip:\n",
      " ['jack', 'jill ', 'jesse    ', 'frank']\n",
      "\n",
      "pandas lstrip:\n",
      " 0         jack\n",
      "1        jill \n",
      "2    jesse    \n",
      "3        frank\n",
      "dtype: string\n",
      "python rstrip:\n",
      " ['   jack', 'jill', '    jesse', 'frank']\n",
      "\n",
      "pandas rstrip:\n",
      " 0         jack\n",
      "1         jill\n",
      "2        jesse\n",
      "3        frank\n",
      "dtype: string\n"
     ]
    }
   ],
   "source": [
    "py_s = [\"   jack\", \"jill \", \"    jesse    \", \"frank\"]\n",
    "pd_s=pd.Series(py_s,dtype='string')\n",
    "\n",
    "\n",
    "print('python strip:\\n',[s.strip() for s in py_s])\n",
    "print('\\npandas strip:\\n',pd_s.str.strip())\n",
    "\n",
    "print('python lstrip:\\n',[s.lstrip() for s in py_s])\n",
    "print('\\npandas lstrip:\\n',pd_s.str.lstrip())\n",
    "\n",
    "print('python rstrip:\\n',[s.rstrip() for s in py_s])\n",
    "print('\\npandas rstrip:\\n',pd_s.str.rstrip())"
   ]
  },
  {
   "cell_type": "code",
   "execution_count": 101,
   "metadata": {},
   "outputs": [
    {
     "name": "stdout",
     "output_type": "stream",
     "text": [
      "python split:\n",
      " [['a', 'b', 'c'], ['jill', 'jesse'], ['frank']]\n",
      "\n",
      "pandas splite:\n",
      " 0        [a, b, c]\n",
      "1    [jill, jesse]\n",
      "2          [frank]\n",
      "dtype: object\n",
      "\n",
      "pandas splite:\n",
      "        0      1     2\n",
      "0      a      b     c\n",
      "1   jill  jesse  <NA>\n",
      "2  frank   <NA>  <NA>\n"
     ]
    }
   ],
   "source": [
    "py_s = [\"a_b_c\", \"jill_jesse\", \"frank\"]\n",
    "pd_s = pd.Series(py_s, dtype=\"string\")\n",
    "\n",
    "print('python split:\\n',[s.split('_') for s in py_s])\n",
    "print('\\npandas splite:\\n',pd_s.str.split('_'))\n",
    "\n",
    "print('\\npandas splite:\\n',pd_s.str.split('_',expand=True))"
   ]
  },
  {
   "cell_type": "code",
   "execution_count": 103,
   "metadata": {},
   "outputs": [
    {
     "name": "stdout",
     "output_type": "stream",
     "text": [
      "0    False\n",
      "1     True\n",
      "2     True\n",
      "3    False\n",
      "dtype: boolean\n"
     ]
    }
   ],
   "source": [
    "## Regular expresion\n",
    "pattern = r\"[0-9][a-z]\"\n",
    "\n",
    "s=pd.Series(['1','1a','11c','abc'],dtype='string')\n",
    "c=s.str.contains(pattern)\n",
    "print(c)"
   ]
  },
  {
   "cell_type": "code",
   "execution_count": 104,
   "metadata": {},
   "outputs": [
    {
     "name": "stdout",
     "output_type": "stream",
     "text": [
      "0    False\n",
      "1     True\n",
      "2     True\n",
      "3    False\n",
      "dtype: boolean\n"
     ]
    }
   ],
   "source": [
    "pattern=r'[\\d]+?[a-z]'\n",
    "print(s.str.match(pattern))"
   ]
  },
  {
   "cell_type": "code",
   "execution_count": 106,
   "metadata": {},
   "outputs": [
    {
     "name": "stdout",
     "output_type": "stream",
     "text": [
      "py_s startswith 1: \n",
      " [True, True, False, False]\n",
      "\n",
      "py_s endswith 1: \n",
      " [True, True, False, False]\n",
      "\n",
      "pd_s startswith 1: \n",
      " 0     True\n",
      "1     True\n",
      "2    False\n",
      "3    False\n",
      "dtype: boolean\n",
      "\n",
      "pd_s endswith 1: \n",
      " 0     True\n",
      "1     True\n",
      "2    False\n",
      "3    False\n",
      "dtype: boolean\n"
     ]
    }
   ],
   "source": [
    "# startswith, endswith\n",
    "py_s = [\"1\", \"1a1\", \"21c\", \"abc\"]\n",
    "pd_s = pd.Series(py_s, dtype=\"string\")\n",
    "\n",
    "print('py_s startswith 1: \\n',[s.startswith('1') for s in py_s])\n",
    "print('\\npy_s endswith 1: \\n',[s.endswith('1') for s in py_s])\n",
    "\n",
    "print('\\npd_s startswith 1: \\n',pd_s.str.startswith('1'))\n",
    "print('\\npd_s endswith 1: \\n',pd_s.str.endswith('1'))"
   ]
  },
  {
   "cell_type": "code",
   "execution_count": 107,
   "metadata": {},
   "outputs": [
    {
     "name": "stdout",
     "output_type": "stream",
     "text": [
      "py_s replace 1->9: \n",
      " ['9', '9a', '29c', 'abc']\n",
      "\n",
      "pd_s replace 1->9:\n",
      " 0      9\n",
      "1     9a\n",
      "2    29c\n",
      "3    abc\n",
      "dtype: string\n"
     ]
    }
   ],
   "source": [
    "# replace\n",
    "py_s = [\"1\", \"1a\", \"21c\", \"abc\"]\n",
    "pd_s = pd.Series(py_s, dtype=\"string\")\n",
    "\n",
    "print('py_s replace 1->9: \\n',[s.replace('1','9') for s in py_s])\n",
    "print('\\npd_s replace 1->9:\\n', pd_s.str.replace('1','9'))"
   ]
  },
  {
   "cell_type": "code",
   "execution_count": 108,
   "metadata": {},
   "outputs": [
    {
     "name": "stdout",
     "output_type": "stream",
     "text": [
      "0    A\n",
      "1    B\n",
      "2    C\n",
      "3    D\n",
      "dtype: string\n"
     ]
    }
   ],
   "source": [
    "## concatenate\n",
    "s1 = pd.Series([\"A\", \"B\", \"C\", \"D\"], dtype=\"string\")\n",
    "s2 = pd.Series([\"1\", \"2\", \"3\", \"4\"], dtype=\"string\")\n",
    "s1.str.cat(s2)\n",
    "print(s1)"
   ]
  },
  {
   "cell_type": "markdown",
   "metadata": {},
   "source": [
    "## 3.3 Time data\n",
    "1. to_datetime\n",
    "2. date_range\n",
    "3. Timedelta\n",
    "4. dayofyear, dayofweek, weekofyear, weekday\n",
    "5. strftime, day_name, month_name\n",
    "6. localize, tz_convert\n",
    "7. country_timezones"
   ]
  },
  {
   "cell_type": "code",
   "execution_count": 109,
   "metadata": {},
   "outputs": [
    {
     "name": "stdout",
     "output_type": "stream",
     "text": [
      "         time  value\n",
      "0  2022/03/12      1\n",
      "1  2022/03/13      2\n",
      "2  2022/03/14      3\n"
     ]
    }
   ],
   "source": [
    "df = pd.DataFrame({\n",
    "    \"time\": [\"2022/03/12\", \"2022/03/13\", \"2022/03/14\"],\n",
    "    \"value\": [1,2,3]\n",
    "})\n",
    "\n",
    "print(df)"
   ]
  },
  {
   "cell_type": "code",
   "execution_count": 110,
   "metadata": {},
   "outputs": [
    {
     "name": "stdout",
     "output_type": "stream",
     "text": [
      "0   2022-03-12\n",
      "1   2022-03-13\n",
      "2   2022-03-14\n",
      "Name: time, dtype: datetime64[ns]\n"
     ]
    }
   ],
   "source": [
    "print(pd.to_datetime(df['time']))"
   ]
  },
  {
   "cell_type": "code",
   "execution_count": 113,
   "metadata": {},
   "outputs": [
    {
     "name": "stdout",
     "output_type": "stream",
     "text": [
      "DatetimeIndex(['2022-03-13', '2022-03-14', '2022-03-15', '2022-03-16',\n",
      "               '2022-03-17', '2022-03-18'],\n",
      "              dtype='datetime64[ns]', freq='D')\n",
      "DatetimeIndex(['2022-03-13', '2022-03-15', '2022-03-17'], dtype='datetime64[ns]', freq='48H')\n"
     ]
    }
   ],
   "source": [
    "## self-created time sequence\n",
    "import datetime\n",
    "\n",
    "start=datetime.datetime(2022,3,13)\n",
    "end=datetime.datetime(2022,3,18)\n",
    "\n",
    "index=pd.date_range(start,end)\n",
    "print(index)\n",
    "\n",
    "print(pd.date_range(start,end,freq='48h'))\n"
   ]
  },
  {
   "cell_type": "code",
   "execution_count": 115,
   "metadata": {},
   "outputs": [
    {
     "name": "stdout",
     "output_type": "stream",
     "text": [
      "2022-03-01   -0.490580\n",
      "2022-03-02   -1.900496\n",
      "2022-03-03   -0.154626\n",
      "2022-03-04    1.292559\n",
      "2022-03-05    0.488174\n",
      "                ...   \n",
      "2022-04-29   -1.006626\n",
      "2022-04-30   -0.698277\n",
      "2022-05-01   -0.911698\n",
      "2022-05-02    0.108159\n",
      "2022-05-03   -0.155992\n",
      "Freq: D, Length: 64, dtype: float64\n",
      "DatetimeIndex(['2022-03-01', '2022-03-02', '2022-03-03', '2022-03-04',\n",
      "               '2022-03-05', '2022-03-06', '2022-03-07', '2022-03-08',\n",
      "               '2022-03-09', '2022-03-10', '2022-03-11', '2022-03-12',\n",
      "               '2022-03-13', '2022-03-14', '2022-03-15', '2022-03-16',\n",
      "               '2022-03-17', '2022-03-18', '2022-03-19', '2022-03-20',\n",
      "               '2022-03-21', '2022-03-22', '2022-03-23', '2022-03-24',\n",
      "               '2022-03-25', '2022-03-26', '2022-03-27', '2022-03-28',\n",
      "               '2022-03-29', '2022-03-30', '2022-03-31', '2022-04-01',\n",
      "               '2022-04-02', '2022-04-03', '2022-04-04', '2022-04-05',\n",
      "               '2022-04-06', '2022-04-07', '2022-04-08', '2022-04-09',\n",
      "               '2022-04-10', '2022-04-11', '2022-04-12', '2022-04-13',\n",
      "               '2022-04-14', '2022-04-15', '2022-04-16', '2022-04-17',\n",
      "               '2022-04-18', '2022-04-19', '2022-04-20', '2022-04-21',\n",
      "               '2022-04-22', '2022-04-23', '2022-04-24', '2022-04-25',\n",
      "               '2022-04-26', '2022-04-27', '2022-04-28', '2022-04-29',\n",
      "               '2022-04-30', '2022-05-01', '2022-05-02', '2022-05-03'],\n",
      "              dtype='datetime64[ns]', freq='D')\n"
     ]
    }
   ],
   "source": [
    "## choose time\n",
    "\n",
    "start = datetime.datetime(2022, 3, 1)\n",
    "end = datetime.datetime(2022, 5, 3)\n",
    "\n",
    "rng=pd.date_range(start,end)\n",
    "ts=pd.Series(np.random.randn(len(rng)),index=rng)\n",
    "\n",
    "print(ts)\n",
    "print(ts.index)"
   ]
  },
  {
   "cell_type": "code",
   "execution_count": 118,
   "metadata": {},
   "outputs": [
    {
     "data": {
      "text/plain": [
       "<AxesSubplot:>"
      ]
     },
     "execution_count": 118,
     "metadata": {},
     "output_type": "execute_result"
    },
    {
     "data": {
      "image/png": "[encoded data removed]",
      "text/plain": [
       "<Figure size 432x288 with 1 Axes>"
      ]
     },
     "metadata": {
      "needs_background": "light"
     },
     "output_type": "display_data"
    }
   ],
   "source": [
    "ts.plot()\n",
    "ts[1:8].plot()"
   ]
  },
  {
   "cell_type": "code",
   "execution_count": 126,
   "metadata": {},
   "outputs": [
    {
     "name": "stdout",
     "output_type": "stream",
     "text": [
      "DatetimeIndex(['2022-01-01', '2022-01-02', '2022-01-03', '2022-01-04',\n",
      "               '2022-01-05', '2022-01-06', '2022-01-07'],\n",
      "              dtype='datetime64[ns]', freq='D')\n",
      "Int64Index([8, 9, 10, 11, 12], dtype='int64')\n"
     ]
    },
    {
     "data": {
      "text/plain": [
       "Index(['01/08/2022', '01/09/2022', '01/10/2022', '01/11/2022', '01/12/2022'], dtype='object')"
      ]
     },
     "execution_count": 126,
     "metadata": {},
     "output_type": "execute_result"
    }
   ],
   "source": [
    "## time calculation\n",
    "\n",
    "rng = pd.date_range(\"2022-01-01\", \"2022-01-07\")\n",
    "rng + pd.Timedelta(weeks=1) # add a week to each date\n",
    "print(rng)\n",
    "\n",
    "\n",
    "# day of year\n",
    "rng=pd.date_range('2022-01-08','2022-01-12')\n",
    "print(rng.dayofyear)\n",
    "\n",
    "\n",
    "# format time\n",
    "rng.strftime('%m/%d/%Y')"
   ]
  },
  {
   "cell_type": "code",
   "execution_count": 127,
   "metadata": {},
   "outputs": [
    {
     "data": {
      "text/plain": [
       "True"
      ]
     },
     "execution_count": 127,
     "metadata": {},
     "output_type": "execute_result"
    }
   ],
   "source": [
    "## timezone\n",
    "rng = pd.date_range(\"2022-01-08\", \"2022-01-11\")\n",
    "\n",
    "rng.tz is None\n"
   ]
  },
  {
   "cell_type": "code",
   "execution_count": 128,
   "metadata": {},
   "outputs": [
    {
     "data": {
      "text/plain": [
       "DatetimeIndex(['2022-03-12 22:11:00-05:00', '2022-03-12 12:11:00-05:00',\n",
       "               '2022-03-12 02:11:00-05:00'],\n",
       "              dtype='datetime64[ns, America/New_York]', freq=None)"
      ]
     },
     "execution_count": 128,
     "metadata": {},
     "output_type": "execute_result"
    }
   ],
   "source": [
    "s = pd.to_datetime(\n",
    "    [\"2022/03/12 22:11\", \"2022/03/12 12:11\", \"2022/03/12 2:11\"]\n",
    ")\n",
    "s_us = s.tz_localize(\"America/New_York\") # set timezone\n",
    "s_us"
   ]
  },
  {
   "cell_type": "markdown",
   "metadata": {},
   "source": [
    "# 4 Data management\n",
    "## 4.1 Data concat and merge\n",
    "1. Concat\n",
    "2. append\n",
    "3. merge\n",
    "4. join"
   ]
  },
  {
   "cell_type": "code",
   "execution_count": 129,
   "metadata": {},
   "outputs": [],
   "source": [
    "df1 = pd.DataFrame({\n",
    "    \"A\": [\"A0\", \"A1\", \"A2\", \"A3\"],\n",
    "    \"B\": [\"B0\", \"B1\", \"B2\", \"B3\"],\n",
    "    \"C\": [\"C0\", \"C1\", \"C2\", \"C3\"],\n",
    "    \"D\": [\"D0\", \"D1\", \"D2\", \"D3\"],\n",
    "}, index=[0, 1, 2, 3],)\n",
    "\n",
    "\n",
    "df2 = pd.DataFrame({\n",
    "    \"A\": [\"A4\", \"A5\", \"A6\", \"A7\"],\n",
    "    \"B\": [\"B4\", \"B5\", \"B6\", \"B7\"],\n",
    "    \"C\": [\"C4\", \"C5\", \"C6\", \"C7\"],\n",
    "    \"D\": [\"D4\", \"D5\", \"D6\", \"D7\"],\n",
    "}, index=[4, 5, 6, 7],)\n",
    "\n",
    "\n",
    "df3 = pd.DataFrame({\n",
    "    \"A\": [\"A8\", \"A9\", \"A10\", \"A11\"],\n",
    "    \"B\": [\"B8\", \"B9\", \"B10\", \"B11\"],\n",
    "    \"C\": [\"C8\", \"C9\", \"C10\", \"C11\"],\n",
    "    \"D\": [\"D8\", \"D9\", \"D10\", \"D11\"],\n",
    "}, index=[8, 9, 10, 11],)"
   ]
  },
  {
   "cell_type": "code",
   "execution_count": 130,
   "metadata": {},
   "outputs": [
    {
     "data": {
      "text/html": [
       "<div>\n",
       "<style scoped>\n",
       "    .dataframe tbody tr th:only-of-type {\n",
       "        vertical-align: middle;\n",
       "    }\n",
       "\n",
       "    .dataframe tbody tr th {\n",
       "        vertical-align: top;\n",
       "    }\n",
       "\n",
       "    .dataframe thead th {\n",
       "        text-align: right;\n",
       "    }\n",
       "</style>\n",
       "<table border=\"1\" class=\"dataframe\">\n",
       "  <thead>\n",
       "    <tr style=\"text-align: right;\">\n",
       "      <th></th>\n",
       "      <th>A</th>\n",
       "      <th>B</th>\n",
       "      <th>C</th>\n",
       "      <th>D</th>\n",
       "    </tr>\n",
       "  </thead>\n",
       "  <tbody>\n",
       "    <tr>\n",
       "      <th>0</th>\n",
       "      <td>A0</td>\n",
       "      <td>B0</td>\n",
       "      <td>C0</td>\n",
       "      <td>D0</td>\n",
       "    </tr>\n",
       "    <tr>\n",
       "      <th>1</th>\n",
       "      <td>A1</td>\n",
       "      <td>B1</td>\n",
       "      <td>C1</td>\n",
       "      <td>D1</td>\n",
       "    </tr>\n",
       "    <tr>\n",
       "      <th>2</th>\n",
       "      <td>A2</td>\n",
       "      <td>B2</td>\n",
       "      <td>C2</td>\n",
       "      <td>D2</td>\n",
       "    </tr>\n",
       "    <tr>\n",
       "      <th>3</th>\n",
       "      <td>A3</td>\n",
       "      <td>B3</td>\n",
       "      <td>C3</td>\n",
       "      <td>D3</td>\n",
       "    </tr>\n",
       "    <tr>\n",
       "      <th>4</th>\n",
       "      <td>A4</td>\n",
       "      <td>B4</td>\n",
       "      <td>C4</td>\n",
       "      <td>D4</td>\n",
       "    </tr>\n",
       "    <tr>\n",
       "      <th>5</th>\n",
       "      <td>A5</td>\n",
       "      <td>B5</td>\n",
       "      <td>C5</td>\n",
       "      <td>D5</td>\n",
       "    </tr>\n",
       "    <tr>\n",
       "      <th>6</th>\n",
       "      <td>A6</td>\n",
       "      <td>B6</td>\n",
       "      <td>C6</td>\n",
       "      <td>D6</td>\n",
       "    </tr>\n",
       "    <tr>\n",
       "      <th>7</th>\n",
       "      <td>A7</td>\n",
       "      <td>B7</td>\n",
       "      <td>C7</td>\n",
       "      <td>D7</td>\n",
       "    </tr>\n",
       "    <tr>\n",
       "      <th>8</th>\n",
       "      <td>A8</td>\n",
       "      <td>B8</td>\n",
       "      <td>C8</td>\n",
       "      <td>D8</td>\n",
       "    </tr>\n",
       "    <tr>\n",
       "      <th>9</th>\n",
       "      <td>A9</td>\n",
       "      <td>B9</td>\n",
       "      <td>C9</td>\n",
       "      <td>D9</td>\n",
       "    </tr>\n",
       "    <tr>\n",
       "      <th>10</th>\n",
       "      <td>A10</td>\n",
       "      <td>B10</td>\n",
       "      <td>C10</td>\n",
       "      <td>D10</td>\n",
       "    </tr>\n",
       "    <tr>\n",
       "      <th>11</th>\n",
       "      <td>A11</td>\n",
       "      <td>B11</td>\n",
       "      <td>C11</td>\n",
       "      <td>D11</td>\n",
       "    </tr>\n",
       "  </tbody>\n",
       "</table>\n",
       "</div>"
      ],
      "text/plain": [
       "      A    B    C    D\n",
       "0    A0   B0   C0   D0\n",
       "1    A1   B1   C1   D1\n",
       "2    A2   B2   C2   D2\n",
       "3    A3   B3   C3   D3\n",
       "4    A4   B4   C4   D4\n",
       "5    A5   B5   C5   D5\n",
       "6    A6   B6   C6   D6\n",
       "7    A7   B7   C7   D7\n",
       "8    A8   B8   C8   D8\n",
       "9    A9   B9   C9   D9\n",
       "10  A10  B10  C10  D10\n",
       "11  A11  B11  C11  D11"
      ]
     },
     "execution_count": 130,
     "metadata": {},
     "output_type": "execute_result"
    }
   ],
   "source": [
    "pd.concat([df1,df2,df3])"
   ]
  },
  {
   "cell_type": "code",
   "execution_count": 131,
   "metadata": {},
   "outputs": [
    {
     "data": {
      "text/html": [
       "<div>\n",
       "<style scoped>\n",
       "    .dataframe tbody tr th:only-of-type {\n",
       "        vertical-align: middle;\n",
       "    }\n",
       "\n",
       "    .dataframe tbody tr th {\n",
       "        vertical-align: top;\n",
       "    }\n",
       "\n",
       "    .dataframe thead th {\n",
       "        text-align: right;\n",
       "    }\n",
       "</style>\n",
       "<table border=\"1\" class=\"dataframe\">\n",
       "  <thead>\n",
       "    <tr style=\"text-align: right;\">\n",
       "      <th></th>\n",
       "      <th></th>\n",
       "      <th>A</th>\n",
       "      <th>B</th>\n",
       "      <th>C</th>\n",
       "      <th>D</th>\n",
       "    </tr>\n",
       "  </thead>\n",
       "  <tbody>\n",
       "    <tr>\n",
       "      <th rowspan=\"4\" valign=\"top\">x</th>\n",
       "      <th>0</th>\n",
       "      <td>A0</td>\n",
       "      <td>B0</td>\n",
       "      <td>C0</td>\n",
       "      <td>D0</td>\n",
       "    </tr>\n",
       "    <tr>\n",
       "      <th>1</th>\n",
       "      <td>A1</td>\n",
       "      <td>B1</td>\n",
       "      <td>C1</td>\n",
       "      <td>D1</td>\n",
       "    </tr>\n",
       "    <tr>\n",
       "      <th>2</th>\n",
       "      <td>A2</td>\n",
       "      <td>B2</td>\n",
       "      <td>C2</td>\n",
       "      <td>D2</td>\n",
       "    </tr>\n",
       "    <tr>\n",
       "      <th>3</th>\n",
       "      <td>A3</td>\n",
       "      <td>B3</td>\n",
       "      <td>C3</td>\n",
       "      <td>D3</td>\n",
       "    </tr>\n",
       "    <tr>\n",
       "      <th rowspan=\"4\" valign=\"top\">y</th>\n",
       "      <th>4</th>\n",
       "      <td>A4</td>\n",
       "      <td>B4</td>\n",
       "      <td>C4</td>\n",
       "      <td>D4</td>\n",
       "    </tr>\n",
       "    <tr>\n",
       "      <th>5</th>\n",
       "      <td>A5</td>\n",
       "      <td>B5</td>\n",
       "      <td>C5</td>\n",
       "      <td>D5</td>\n",
       "    </tr>\n",
       "    <tr>\n",
       "      <th>6</th>\n",
       "      <td>A6</td>\n",
       "      <td>B6</td>\n",
       "      <td>C6</td>\n",
       "      <td>D6</td>\n",
       "    </tr>\n",
       "    <tr>\n",
       "      <th>7</th>\n",
       "      <td>A7</td>\n",
       "      <td>B7</td>\n",
       "      <td>C7</td>\n",
       "      <td>D7</td>\n",
       "    </tr>\n",
       "    <tr>\n",
       "      <th rowspan=\"4\" valign=\"top\">z</th>\n",
       "      <th>8</th>\n",
       "      <td>A8</td>\n",
       "      <td>B8</td>\n",
       "      <td>C8</td>\n",
       "      <td>D8</td>\n",
       "    </tr>\n",
       "    <tr>\n",
       "      <th>9</th>\n",
       "      <td>A9</td>\n",
       "      <td>B9</td>\n",
       "      <td>C9</td>\n",
       "      <td>D9</td>\n",
       "    </tr>\n",
       "    <tr>\n",
       "      <th>10</th>\n",
       "      <td>A10</td>\n",
       "      <td>B10</td>\n",
       "      <td>C10</td>\n",
       "      <td>D10</td>\n",
       "    </tr>\n",
       "    <tr>\n",
       "      <th>11</th>\n",
       "      <td>A11</td>\n",
       "      <td>B11</td>\n",
       "      <td>C11</td>\n",
       "      <td>D11</td>\n",
       "    </tr>\n",
       "  </tbody>\n",
       "</table>\n",
       "</div>"
      ],
      "text/plain": [
       "        A    B    C    D\n",
       "x 0    A0   B0   C0   D0\n",
       "  1    A1   B1   C1   D1\n",
       "  2    A2   B2   C2   D2\n",
       "  3    A3   B3   C3   D3\n",
       "y 4    A4   B4   C4   D4\n",
       "  5    A5   B5   C5   D5\n",
       "  6    A6   B6   C6   D6\n",
       "  7    A7   B7   C7   D7\n",
       "z 8    A8   B8   C8   D8\n",
       "  9    A9   B9   C9   D9\n",
       "  10  A10  B10  C10  D10\n",
       "  11  A11  B11  C11  D11"
      ]
     },
     "execution_count": 131,
     "metadata": {},
     "output_type": "execute_result"
    }
   ],
   "source": [
    "all_classed=pd.concat(\n",
    "    [df1,df2,df3],\n",
    "    keys=['x','y','z']\n",
    ")\n",
    "\n",
    "all_classed"
   ]
  },
  {
   "cell_type": "code",
   "execution_count": 132,
   "metadata": {},
   "outputs": [
    {
     "name": "stdout",
     "output_type": "stream",
     "text": [
      "    A   B   C   D\n",
      "4  A4  B4  C4  D4\n",
      "5  A5  B5  C5  D5\n",
      "6  A6  B6  C6  D6\n",
      "7  A7  B7  C7  D7\n"
     ]
    }
   ],
   "source": [
    "print(all_classed.loc['y'])"
   ]
  },
  {
   "cell_type": "code",
   "execution_count": 138,
   "metadata": {},
   "outputs": [
    {
     "name": "stdout",
     "output_type": "stream",
     "text": [
      "    A   B   C   D\n",
      "0  A0  B0  C0  D0\n",
      "1  A1  B1  C1  D1\n",
      "2  A2  B2  C2  D2\n",
      "3  A3  B3  C3  D3 \n",
      "     B   D   F\n",
      "2  B2  D2  F2\n",
      "3  B3  D3  F3\n",
      "6  B6  D6  F6\n",
      "7  B7  D7  F7\n"
     ]
    },
    {
     "data": {
      "text/html": [
       "<div>\n",
       "<style scoped>\n",
       "    .dataframe tbody tr th:only-of-type {\n",
       "        vertical-align: middle;\n",
       "    }\n",
       "\n",
       "    .dataframe tbody tr th {\n",
       "        vertical-align: top;\n",
       "    }\n",
       "\n",
       "    .dataframe thead th {\n",
       "        text-align: right;\n",
       "    }\n",
       "</style>\n",
       "<table border=\"1\" class=\"dataframe\">\n",
       "  <thead>\n",
       "    <tr style=\"text-align: right;\">\n",
       "      <th></th>\n",
       "      <th>A</th>\n",
       "      <th>B</th>\n",
       "      <th>C</th>\n",
       "      <th>D</th>\n",
       "      <th>B</th>\n",
       "      <th>D</th>\n",
       "      <th>F</th>\n",
       "    </tr>\n",
       "  </thead>\n",
       "  <tbody>\n",
       "    <tr>\n",
       "      <th>0</th>\n",
       "      <td>A0</td>\n",
       "      <td>B0</td>\n",
       "      <td>C0</td>\n",
       "      <td>D0</td>\n",
       "      <td>NaN</td>\n",
       "      <td>NaN</td>\n",
       "      <td>NaN</td>\n",
       "    </tr>\n",
       "    <tr>\n",
       "      <th>1</th>\n",
       "      <td>A1</td>\n",
       "      <td>B1</td>\n",
       "      <td>C1</td>\n",
       "      <td>D1</td>\n",
       "      <td>NaN</td>\n",
       "      <td>NaN</td>\n",
       "      <td>NaN</td>\n",
       "    </tr>\n",
       "    <tr>\n",
       "      <th>2</th>\n",
       "      <td>A2</td>\n",
       "      <td>B2</td>\n",
       "      <td>C2</td>\n",
       "      <td>D2</td>\n",
       "      <td>B2</td>\n",
       "      <td>D2</td>\n",
       "      <td>F2</td>\n",
       "    </tr>\n",
       "    <tr>\n",
       "      <th>3</th>\n",
       "      <td>A3</td>\n",
       "      <td>B3</td>\n",
       "      <td>C3</td>\n",
       "      <td>D3</td>\n",
       "      <td>B3</td>\n",
       "      <td>D3</td>\n",
       "      <td>F3</td>\n",
       "    </tr>\n",
       "    <tr>\n",
       "      <th>6</th>\n",
       "      <td>NaN</td>\n",
       "      <td>NaN</td>\n",
       "      <td>NaN</td>\n",
       "      <td>NaN</td>\n",
       "      <td>B6</td>\n",
       "      <td>D6</td>\n",
       "      <td>F6</td>\n",
       "    </tr>\n",
       "    <tr>\n",
       "      <th>7</th>\n",
       "      <td>NaN</td>\n",
       "      <td>NaN</td>\n",
       "      <td>NaN</td>\n",
       "      <td>NaN</td>\n",
       "      <td>B7</td>\n",
       "      <td>D7</td>\n",
       "      <td>F7</td>\n",
       "    </tr>\n",
       "  </tbody>\n",
       "</table>\n",
       "</div>"
      ],
      "text/plain": [
       "     A    B    C    D    B    D    F\n",
       "0   A0   B0   C0   D0  NaN  NaN  NaN\n",
       "1   A1   B1   C1   D1  NaN  NaN  NaN\n",
       "2   A2   B2   C2   D2   B2   D2   F2\n",
       "3   A3   B3   C3   D3   B3   D3   F3\n",
       "6  NaN  NaN  NaN  NaN   B6   D6   F6\n",
       "7  NaN  NaN  NaN  NaN   B7   D7   F7"
      ]
     },
     "execution_count": 138,
     "metadata": {},
     "output_type": "execute_result"
    }
   ],
   "source": [
    "# concat by row\n",
    "df4 = pd.DataFrame({\n",
    "    \"B\": [\"B2\", \"B3\", \"B6\", \"B7\"],\n",
    "    \"D\": [\"D2\", \"D3\", \"D6\", \"D7\"],\n",
    "    \"F\": [\"F2\", \"F3\", \"F6\", \"F7\"],\n",
    "}, index=[2, 3, 6, 7],)\n",
    "\n",
    "print(df1,'\\n',df4)\n",
    "\n",
    "pd.concat([df1,df4],axis=1) # outer join"
   ]
  },
  {
   "cell_type": "code",
   "execution_count": 139,
   "metadata": {},
   "outputs": [
    {
     "data": {
      "text/html": [
       "<div>\n",
       "<style scoped>\n",
       "    .dataframe tbody tr th:only-of-type {\n",
       "        vertical-align: middle;\n",
       "    }\n",
       "\n",
       "    .dataframe tbody tr th {\n",
       "        vertical-align: top;\n",
       "    }\n",
       "\n",
       "    .dataframe thead th {\n",
       "        text-align: right;\n",
       "    }\n",
       "</style>\n",
       "<table border=\"1\" class=\"dataframe\">\n",
       "  <thead>\n",
       "    <tr style=\"text-align: right;\">\n",
       "      <th></th>\n",
       "      <th>A</th>\n",
       "      <th>B</th>\n",
       "      <th>C</th>\n",
       "      <th>D</th>\n",
       "      <th>B</th>\n",
       "      <th>D</th>\n",
       "      <th>F</th>\n",
       "    </tr>\n",
       "  </thead>\n",
       "  <tbody>\n",
       "    <tr>\n",
       "      <th>2</th>\n",
       "      <td>A2</td>\n",
       "      <td>B2</td>\n",
       "      <td>C2</td>\n",
       "      <td>D2</td>\n",
       "      <td>B2</td>\n",
       "      <td>D2</td>\n",
       "      <td>F2</td>\n",
       "    </tr>\n",
       "    <tr>\n",
       "      <th>3</th>\n",
       "      <td>A3</td>\n",
       "      <td>B3</td>\n",
       "      <td>C3</td>\n",
       "      <td>D3</td>\n",
       "      <td>B3</td>\n",
       "      <td>D3</td>\n",
       "      <td>F3</td>\n",
       "    </tr>\n",
       "  </tbody>\n",
       "</table>\n",
       "</div>"
      ],
      "text/plain": [
       "    A   B   C   D   B   D   F\n",
       "2  A2  B2  C2  D2  B2  D2  F2\n",
       "3  A3  B3  C3  D3  B3  D3  F3"
      ]
     },
     "execution_count": 139,
     "metadata": {},
     "output_type": "execute_result"
    }
   ],
   "source": [
    "pd.concat([df1,df4],axis=1,join='inner') # inner join"
   ]
  },
  {
   "cell_type": "code",
   "execution_count": 140,
   "metadata": {},
   "outputs": [
    {
     "data": {
      "text/html": [
       "<div>\n",
       "<style scoped>\n",
       "    .dataframe tbody tr th:only-of-type {\n",
       "        vertical-align: middle;\n",
       "    }\n",
       "\n",
       "    .dataframe tbody tr th {\n",
       "        vertical-align: top;\n",
       "    }\n",
       "\n",
       "    .dataframe thead th {\n",
       "        text-align: right;\n",
       "    }\n",
       "</style>\n",
       "<table border=\"1\" class=\"dataframe\">\n",
       "  <thead>\n",
       "    <tr style=\"text-align: right;\">\n",
       "      <th></th>\n",
       "      <th>A</th>\n",
       "      <th>B</th>\n",
       "      <th>C</th>\n",
       "      <th>D</th>\n",
       "      <th>F</th>\n",
       "    </tr>\n",
       "  </thead>\n",
       "  <tbody>\n",
       "    <tr>\n",
       "      <th>0</th>\n",
       "      <td>A0</td>\n",
       "      <td>B0</td>\n",
       "      <td>C0</td>\n",
       "      <td>D0</td>\n",
       "      <td>NaN</td>\n",
       "    </tr>\n",
       "    <tr>\n",
       "      <th>1</th>\n",
       "      <td>A1</td>\n",
       "      <td>B1</td>\n",
       "      <td>C1</td>\n",
       "      <td>D1</td>\n",
       "      <td>NaN</td>\n",
       "    </tr>\n",
       "    <tr>\n",
       "      <th>2</th>\n",
       "      <td>A2</td>\n",
       "      <td>B2</td>\n",
       "      <td>C2</td>\n",
       "      <td>D2</td>\n",
       "      <td>NaN</td>\n",
       "    </tr>\n",
       "    <tr>\n",
       "      <th>3</th>\n",
       "      <td>A3</td>\n",
       "      <td>B3</td>\n",
       "      <td>C3</td>\n",
       "      <td>D3</td>\n",
       "      <td>NaN</td>\n",
       "    </tr>\n",
       "    <tr>\n",
       "      <th>4</th>\n",
       "      <td>NaN</td>\n",
       "      <td>B2</td>\n",
       "      <td>NaN</td>\n",
       "      <td>D2</td>\n",
       "      <td>F2</td>\n",
       "    </tr>\n",
       "    <tr>\n",
       "      <th>5</th>\n",
       "      <td>NaN</td>\n",
       "      <td>B3</td>\n",
       "      <td>NaN</td>\n",
       "      <td>D3</td>\n",
       "      <td>F3</td>\n",
       "    </tr>\n",
       "    <tr>\n",
       "      <th>6</th>\n",
       "      <td>NaN</td>\n",
       "      <td>B6</td>\n",
       "      <td>NaN</td>\n",
       "      <td>D6</td>\n",
       "      <td>F6</td>\n",
       "    </tr>\n",
       "    <tr>\n",
       "      <th>7</th>\n",
       "      <td>NaN</td>\n",
       "      <td>B7</td>\n",
       "      <td>NaN</td>\n",
       "      <td>D7</td>\n",
       "      <td>F7</td>\n",
       "    </tr>\n",
       "  </tbody>\n",
       "</table>\n",
       "</div>"
      ],
      "text/plain": [
       "     A   B    C   D    F\n",
       "0   A0  B0   C0  D0  NaN\n",
       "1   A1  B1   C1  D1  NaN\n",
       "2   A2  B2   C2  D2  NaN\n",
       "3   A3  B3   C3  D3  NaN\n",
       "4  NaN  B2  NaN  D2   F2\n",
       "5  NaN  B3  NaN  D3   F3\n",
       "6  NaN  B6  NaN  D6   F6\n",
       "7  NaN  B7  NaN  D7   F7"
      ]
     },
     "execution_count": 140,
     "metadata": {},
     "output_type": "execute_result"
    }
   ],
   "source": [
    "pd.concat([df1,df4],ignore_index=True,sort=False)"
   ]
  },
  {
   "cell_type": "code",
   "execution_count": 143,
   "metadata": {},
   "outputs": [
    {
     "name": "stdout",
     "output_type": "stream",
     "text": [
      "A    X0\n",
      "B    X1\n",
      "C    X2\n",
      "D    X3\n",
      "dtype: object\n"
     ]
    },
    {
     "name": "stderr",
     "output_type": "stream",
     "text": [
      "/tmp/ipykernel_948/23868259.py:6: FutureWarning: The frame.append method is deprecated and will be removed from pandas in a future version. Use pandas.concat instead.\n",
      "  df1.append(new_col,ignore_index=True)\n"
     ]
    },
    {
     "data": {
      "text/html": [
       "<div>\n",
       "<style scoped>\n",
       "    .dataframe tbody tr th:only-of-type {\n",
       "        vertical-align: middle;\n",
       "    }\n",
       "\n",
       "    .dataframe tbody tr th {\n",
       "        vertical-align: top;\n",
       "    }\n",
       "\n",
       "    .dataframe thead th {\n",
       "        text-align: right;\n",
       "    }\n",
       "</style>\n",
       "<table border=\"1\" class=\"dataframe\">\n",
       "  <thead>\n",
       "    <tr style=\"text-align: right;\">\n",
       "      <th></th>\n",
       "      <th>A</th>\n",
       "      <th>B</th>\n",
       "      <th>C</th>\n",
       "      <th>D</th>\n",
       "    </tr>\n",
       "  </thead>\n",
       "  <tbody>\n",
       "    <tr>\n",
       "      <th>0</th>\n",
       "      <td>A0</td>\n",
       "      <td>B0</td>\n",
       "      <td>C0</td>\n",
       "      <td>D0</td>\n",
       "    </tr>\n",
       "    <tr>\n",
       "      <th>1</th>\n",
       "      <td>A1</td>\n",
       "      <td>B1</td>\n",
       "      <td>C1</td>\n",
       "      <td>D1</td>\n",
       "    </tr>\n",
       "    <tr>\n",
       "      <th>2</th>\n",
       "      <td>A2</td>\n",
       "      <td>B2</td>\n",
       "      <td>C2</td>\n",
       "      <td>D2</td>\n",
       "    </tr>\n",
       "    <tr>\n",
       "      <th>3</th>\n",
       "      <td>A3</td>\n",
       "      <td>B3</td>\n",
       "      <td>C3</td>\n",
       "      <td>D3</td>\n",
       "    </tr>\n",
       "    <tr>\n",
       "      <th>4</th>\n",
       "      <td>X0</td>\n",
       "      <td>X1</td>\n",
       "      <td>X2</td>\n",
       "      <td>X3</td>\n",
       "    </tr>\n",
       "  </tbody>\n",
       "</table>\n",
       "</div>"
      ],
      "text/plain": [
       "    A   B   C   D\n",
       "0  A0  B0  C0  D0\n",
       "1  A1  B1  C1  D1\n",
       "2  A2  B2  C2  D2\n",
       "3  A3  B3  C3  D3\n",
       "4  X0  X1  X2  X3"
      ]
     },
     "execution_count": 143,
     "metadata": {},
     "output_type": "execute_result"
    }
   ],
   "source": [
    "new_col = pd.Series(\n",
    "    [\"X0\", \"X1\", \"X2\", \"X3\"],index=['A','B','C','D'])\n",
    "\n",
    "print(new_col)\n",
    "\n",
    "df1.append(new_col,ignore_index=True)"
   ]
  },
  {
   "cell_type": "code",
   "execution_count": 145,
   "metadata": {},
   "outputs": [
    {
     "name": "stdout",
     "output_type": "stream",
     "text": [
      "  key   A   B\n",
      "0  K0  A0  B0\n",
      "1  K1  A1  B1\n",
      "2  K2  A2  B2\n",
      "3  K3  A3  B3\n",
      "  key   C   D\n",
      "0  K0  C0  D0\n",
      "1  K1  C1  D1\n",
      "2  K2  C2  D2\n",
      "3  K3  C3  D3\n",
      "  key   A   B   C   D\n",
      "0  K0  A0  B0  C0  D0\n",
      "1  K1  A1  B1  C1  D1\n",
      "2  K2  A2  B2  C2  D2\n",
      "3  K3  A3  B3  C3  D3\n"
     ]
    }
   ],
   "source": [
    "## Merge can only concat left part with rigth part\n",
    "left = pd.DataFrame({\n",
    "    \"key\": [\"K0\", \"K1\", \"K2\", \"K3\"],\n",
    "    \"A\": [\"A0\", \"A1\", \"A2\", \"A3\"],\n",
    "    \"B\": [\"B0\", \"B1\", \"B2\", \"B3\"],\n",
    "})\n",
    "\n",
    "\n",
    "right = pd.DataFrame({\n",
    "    \"key\": [\"K0\", \"K1\", \"K2\", \"K3\"],\n",
    "    \"C\": [\"C0\", \"C1\", \"C2\", \"C3\"],\n",
    "    \"D\": [\"D0\", \"D1\", \"D2\", \"D3\"],\n",
    "})\n",
    "\n",
    "print(left)\n",
    "print(right)\n",
    "\n",
    "print(pd.merge(left,right))"
   ]
  },
  {
   "cell_type": "code",
   "execution_count": 151,
   "metadata": {},
   "outputs": [
    {
     "name": "stdout",
     "output_type": "stream",
     "text": [
      "  key1 key2   A   B\n",
      "0   K0   K0  A0  B0\n",
      "1   K0   K1  A1  B1\n",
      "2   K1   K0  A2  B2\n",
      "3   K2   K1  A3  B3\n",
      "  key1 key2   C   D\n",
      "0   K0   K0  C0  D0\n",
      "1   K1   K0  C1  D1\n",
      "2   K1   K0  C2  D2\n",
      "3   K2   K0  C3  D3\n"
     ]
    },
    {
     "data": {
      "text/html": [
       "<div>\n",
       "<style scoped>\n",
       "    .dataframe tbody tr th:only-of-type {\n",
       "        vertical-align: middle;\n",
       "    }\n",
       "\n",
       "    .dataframe tbody tr th {\n",
       "        vertical-align: top;\n",
       "    }\n",
       "\n",
       "    .dataframe thead th {\n",
       "        text-align: right;\n",
       "    }\n",
       "</style>\n",
       "<table border=\"1\" class=\"dataframe\">\n",
       "  <thead>\n",
       "    <tr style=\"text-align: right;\">\n",
       "      <th></th>\n",
       "      <th>key1</th>\n",
       "      <th>key2</th>\n",
       "      <th>A</th>\n",
       "      <th>B</th>\n",
       "      <th>C</th>\n",
       "      <th>D</th>\n",
       "    </tr>\n",
       "  </thead>\n",
       "  <tbody>\n",
       "    <tr>\n",
       "      <th>0</th>\n",
       "      <td>K0</td>\n",
       "      <td>K0</td>\n",
       "      <td>A0</td>\n",
       "      <td>B0</td>\n",
       "      <td>C0</td>\n",
       "      <td>D0</td>\n",
       "    </tr>\n",
       "    <tr>\n",
       "      <th>1</th>\n",
       "      <td>K1</td>\n",
       "      <td>K0</td>\n",
       "      <td>A2</td>\n",
       "      <td>B2</td>\n",
       "      <td>C1</td>\n",
       "      <td>D1</td>\n",
       "    </tr>\n",
       "    <tr>\n",
       "      <th>2</th>\n",
       "      <td>K1</td>\n",
       "      <td>K0</td>\n",
       "      <td>A2</td>\n",
       "      <td>B2</td>\n",
       "      <td>C2</td>\n",
       "      <td>D2</td>\n",
       "    </tr>\n",
       "  </tbody>\n",
       "</table>\n",
       "</div>"
      ],
      "text/plain": [
       "  key1 key2   A   B   C   D\n",
       "0   K0   K0  A0  B0  C0  D0\n",
       "1   K1   K0  A2  B2  C1  D1\n",
       "2   K1   K0  A2  B2  C2  D2"
      ]
     },
     "execution_count": 151,
     "metadata": {},
     "output_type": "execute_result"
    }
   ],
   "source": [
    "left = pd.DataFrame({\n",
    "    \"key1\": [\"K0\", \"K0\", \"K1\", \"K2\"],\n",
    "    \"key2\": [\"K0\", \"K1\", \"K0\", \"K1\"],\n",
    "    \"A\": [\"A0\", \"A1\", \"A2\", \"A3\"],\n",
    "    \"B\": [\"B0\", \"B1\", \"B2\", \"B3\"],\n",
    "})\n",
    "\n",
    "\n",
    "right = pd.DataFrame({\n",
    "    \"key1\": [\"K0\", \"K1\", \"K1\", \"K2\"],\n",
    "    \"key2\": [\"K0\", \"K0\", \"K0\", \"K0\"],\n",
    "    \"C\": [\"C0\", \"C1\", \"C2\", \"C3\"],\n",
    "    \"D\": [\"D0\", \"D1\", \"D2\", \"D3\"],\n",
    "})\n",
    "print(left)\n",
    "print(right)\n",
    "# pd.merge(left,right,on=['key1','key2'])\n",
    "pd.merge(left,right)"
   ]
  },
  {
   "cell_type": "code",
   "execution_count": 153,
   "metadata": {},
   "outputs": [
    {
     "data": {
      "text/html": [
       "<div>\n",
       "<style scoped>\n",
       "    .dataframe tbody tr th:only-of-type {\n",
       "        vertical-align: middle;\n",
       "    }\n",
       "\n",
       "    .dataframe tbody tr th {\n",
       "        vertical-align: top;\n",
       "    }\n",
       "\n",
       "    .dataframe thead th {\n",
       "        text-align: right;\n",
       "    }\n",
       "</style>\n",
       "<table border=\"1\" class=\"dataframe\">\n",
       "  <thead>\n",
       "    <tr style=\"text-align: right;\">\n",
       "      <th></th>\n",
       "      <th>key1</th>\n",
       "      <th>key2</th>\n",
       "      <th>A</th>\n",
       "      <th>B</th>\n",
       "      <th>C</th>\n",
       "      <th>D</th>\n",
       "    </tr>\n",
       "  </thead>\n",
       "  <tbody>\n",
       "    <tr>\n",
       "      <th>0</th>\n",
       "      <td>K0</td>\n",
       "      <td>K0</td>\n",
       "      <td>A0</td>\n",
       "      <td>B0</td>\n",
       "      <td>C0</td>\n",
       "      <td>D0</td>\n",
       "    </tr>\n",
       "    <tr>\n",
       "      <th>1</th>\n",
       "      <td>K0</td>\n",
       "      <td>K1</td>\n",
       "      <td>A1</td>\n",
       "      <td>B1</td>\n",
       "      <td>NaN</td>\n",
       "      <td>NaN</td>\n",
       "    </tr>\n",
       "    <tr>\n",
       "      <th>2</th>\n",
       "      <td>K1</td>\n",
       "      <td>K0</td>\n",
       "      <td>A2</td>\n",
       "      <td>B2</td>\n",
       "      <td>C1</td>\n",
       "      <td>D1</td>\n",
       "    </tr>\n",
       "    <tr>\n",
       "      <th>3</th>\n",
       "      <td>K1</td>\n",
       "      <td>K0</td>\n",
       "      <td>A2</td>\n",
       "      <td>B2</td>\n",
       "      <td>C2</td>\n",
       "      <td>D2</td>\n",
       "    </tr>\n",
       "    <tr>\n",
       "      <th>4</th>\n",
       "      <td>K2</td>\n",
       "      <td>K1</td>\n",
       "      <td>A3</td>\n",
       "      <td>B3</td>\n",
       "      <td>NaN</td>\n",
       "      <td>NaN</td>\n",
       "    </tr>\n",
       "  </tbody>\n",
       "</table>\n",
       "</div>"
      ],
      "text/plain": [
       "  key1 key2   A   B    C    D\n",
       "0   K0   K0  A0  B0   C0   D0\n",
       "1   K0   K1  A1  B1  NaN  NaN\n",
       "2   K1   K0  A2  B2   C1   D1\n",
       "3   K1   K0  A2  B2   C2   D2\n",
       "4   K2   K1  A3  B3  NaN  NaN"
      ]
     },
     "execution_count": 153,
     "metadata": {},
     "output_type": "execute_result"
    }
   ],
   "source": [
    "pd.merge(left,right,how='left',on=['key1','key2'])"
   ]
  },
  {
   "cell_type": "code",
   "execution_count": null,
   "metadata": {},
   "outputs": [],
   "source": []
  }
 ],
 "metadata": {
  "interpreter": {
   "hash": "739b70e327d77fa390029bdbeb4da01ad4b0f1ef5ecbb5339bfdca56a0091f0f"
  },
  "kernelspec": {
   "display_name": "Python 3.9.7 ('myenv')",
   "language": "python",
   "name": "python3"
  },
  "language_info": {
   "codemirror_mode": {
    "name": "ipython",
    "version": 3
   },
   "file_extension": ".py",
   "mimetype": "text/x-python",
   "name": "python",
   "nbconvert_exporter": "python",
   "pygments_lexer": "ipython3",
   "version": "3.9.7"
  },
  "orig_nbformat": 4
 },
 "nbformat": 4,
 "nbformat_minor": 2
}
