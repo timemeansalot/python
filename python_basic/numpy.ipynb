{
 "cells": [
  {
   "cell_type": "markdown",
   "metadata": {},
   "source": [
    "# Numpy Learn\n",
    "Numpy is more powerful than Python List"
   ]
  },
  {
   "cell_type": "code",
   "execution_count": 4,
   "metadata": {},
   "outputs": [
    {
     "name": "stdout",
     "output_type": "stream",
     "text": [
      "[[0.05864926 0.79626045 0.65767279]\n",
      " [0.07895278 0.47045533 0.60000138]]\n",
      "[1 2 3]\n"
     ]
    }
   ],
   "source": [
    "import numpy as np\n",
    "\n",
    "print(np.random.rand(2,3))\n",
    "\n",
    "print(np.array([1,2,3]))"
   ]
  },
  {
   "cell_type": "code",
   "execution_count": 6,
   "metadata": {},
   "outputs": [
    {
     "name": "stdout",
     "output_type": "stream",
     "text": [
      "time used by list: 0.059s\n",
      "time used by np: 0.008\n"
     ]
    }
   ],
   "source": [
    "import time\n",
    "\n",
    "t0=time.time()\n",
    "\n",
    "L=list(range(100)) # get a list\n",
    "for _ in range(10000):\n",
    "    for i in range(len(L)):\n",
    "        L[i]+=1\n",
    "\n",
    "t1=time.time()\n",
    "a=np.array(L)\n",
    "for _ in range(10000):\n",
    "    a+=1 # I even don't need for loop to make every element in np + 1\n",
    "\n",
    "print('time used by list: {:.3f}s'.format(t1-t0))\n",
    "print('time used by np: {:.3f}'.format(time.time()-t1))"
   ]
  },
  {
   "cell_type": "markdown",
   "metadata": {},
   "source": [
    "# 1 Numpy Basic\n",
    "## 1.1 dimension in numpy\n",
    "1. ndim: return dimension info\n",
    "2. size: return how much elements in an array\n",
    "3. concatenate: add array together\n",
    "4. expand_dims: expand dimension\n",
    "5. hstack, vstack: stack arrays\n",
    "6. shape"
   ]
  },
  {
   "cell_type": "code",
   "execution_count": 7,
   "metadata": {},
   "outputs": [
    {
     "name": "stdout",
     "output_type": "stream",
     "text": [
      "data:  [ 5 10 12  6] \n",
      "dimmension:  1\n"
     ]
    }
   ],
   "source": [
    "cars=np.array([5,10,12,6])\n",
    "\n",
    "print('data: ',cars,'\\ndimmension: ',cars.ndim) # ndim return array dimentsion"
   ]
  },
  {
   "cell_type": "code",
   "execution_count": 81,
   "metadata": {},
   "outputs": [
    {
     "name": "stdout",
     "output_type": "stream",
     "text": [
      "data:  [[1 2 3]\n",
      " [4 5 6]\n",
      " [7 8 9]] \n",
      "dimmension:  2\n"
     ]
    }
   ],
   "source": [
    "cars=np.array([\n",
    "    [1,2,3],\n",
    "    [4,5,6],\n",
    "    [7,8,9]\n",
    "])\n",
    "print('data: ',cars,'\\ndimmension: ',cars.ndim) "
   ]
  },
  {
   "cell_type": "code",
   "execution_count": 10,
   "metadata": {},
   "outputs": [
    {
     "name": "stdout",
     "output_type": "stream",
     "text": [
      "[ 1  2  3  4 11 22]\n"
     ]
    }
   ],
   "source": [
    "# add data\n",
    "cars1=np.array([1,2,3,4])\n",
    "cars2=np.array([11,22])\n",
    "\n",
    "cars=np.concatenate([cars1,cars2]) # add to np array together\n",
    "print(cars)"
   ]
  },
  {
   "cell_type": "code",
   "execution_count": 29,
   "metadata": {},
   "outputs": [
    {
     "name": "stdout",
     "output_type": "stream",
     "text": [
      "[1 2 3 4]\n",
      "[[1 2 3 4]]\n",
      "[[1]\n",
      " [2]\n",
      " [3]\n",
      " [4]]\n",
      "test new:  [4 3 2 1]\n",
      "[[4 3 2 1]]\n",
      "[[4]\n",
      " [3]\n",
      " [2]\n",
      " [1]]\n",
      "[[1 2 3 4]\n",
      " [4 3 2 1]]\n"
     ]
    }
   ],
   "source": [
    "# add data to 2 dimension array\n",
    "test=np.array([1,2,3,4])\n",
    "print(test)\n",
    "test1=np.expand_dims(test,0) # expande array dimention horizontal\n",
    "print(test1)\n",
    "test2=np.expand_dims(test,1) # expande array dimension vertical\n",
    "print(test2)\n",
    "\n",
    "# test_new=[test[-1-i] for i in range(len(test))]\n",
    "test_new=test[::-1]\n",
    "print('test new: ',test_new)\n",
    "\n",
    "\n",
    "test3=test_new[np.newaxis,:]\n",
    "print(test3)\n",
    "test4=test_new[:,np.newaxis]\n",
    "print(test4)\n",
    "\n",
    "add_test=np.concatenate([test1,test3])\n",
    "print(add_test)"
   ]
  },
  {
   "cell_type": "code",
   "execution_count": 31,
   "metadata": {},
   "outputs": [
    {
     "name": "stdout",
     "output_type": "stream",
     "text": [
      "add in 1th dimension:\n",
      " [[1 2 3 4]\n",
      " [4 3 2 1]\n",
      " [1 2 3 4]\n",
      " [4 3 2 1]]\n",
      "add in 1th dimension:\n",
      " [[1 2 3 4 1 2 3 4]\n",
      " [4 3 2 1 4 3 2 1]]\n"
     ]
    }
   ],
   "source": [
    "print(\"add in 1th dimension:\\n\",np.concatenate([add_test,add_test],axis=0)) # 沿着第一个维度对齐\n",
    "print(\"add in 1th dimension:\\n\",np.concatenate([add_test,add_test],axis=1)) # 沿着第二个维度对齐"
   ]
  },
  {
   "cell_type": "code",
   "execution_count": 33,
   "metadata": {},
   "outputs": [
    {
     "name": "stdout",
     "output_type": "stream",
     "text": [
      "a is:\n",
      " [[1 2 3]\n",
      " [4 5 6]] \n",
      "b is:\n",
      " [[1 2]\n",
      " [3 4]] \n",
      "c is:\n",
      " [[1 2 3 1 2]\n",
      " [4 5 6 3 4]]\n"
     ]
    }
   ],
   "source": [
    "a=np.array([\n",
    "    [1,2,3],\n",
    "    [4,5,6]\n",
    "])\n",
    "\n",
    "b=np.array([\n",
    "    [1,2],\n",
    "    [3,4]\n",
    "])\n",
    "\n",
    "c=np.concatenate([a,b],axis=1)\n",
    "print(\"a is:\\n\",a,\"\\nb is:\\n\",b,\"\\nc is:\\n\",c)"
   ]
  },
  {
   "cell_type": "code",
   "execution_count": 34,
   "metadata": {},
   "outputs": [
    {
     "name": "stdout",
     "output_type": "stream",
     "text": [
      "vertical stack:\n",
      " [[1 2]\n",
      " [3 4]\n",
      " [5 6]\n",
      " [7 8]]\n",
      "horizontal stack:\n",
      " [[1 2 5 6]\n",
      " [3 4 7 8]]\n"
     ]
    }
   ],
   "source": [
    "a=np.array([\n",
    "    [1,2],\n",
    "    [3,4]\n",
    "])\n",
    "\n",
    "b=np.array([\n",
    "    [5,6],\n",
    "    [7,8]\n",
    "])\n",
    "\n",
    "print('vertical stack:\\n',np.vstack([a,b]))\n",
    "print('horizontal stack:\\n',np.hstack([a,b]))"
   ]
  },
  {
   "cell_type": "code",
   "execution_count": 44,
   "metadata": {},
   "outputs": [
    {
     "name": "stdout",
     "output_type": "stream",
     "text": [
      "dimensions:  3\n",
      "element size=  24\n",
      "first dimension:  2\n",
      "second dimension:  4\n",
      "third dimension:  3\n"
     ]
    }
   ],
   "source": [
    "cars=np.array([\n",
    "    [[1,2,3],\n",
    "    [4,5,6],\n",
    "    [7,8,9],\n",
    "    [10,11,12]],\n",
    "    [[1,2,3],\n",
    "    [4,5,6],\n",
    "    [7,8,9],\n",
    "    [10,11,12]]\n",
    "])\n",
    "\n",
    "print('dimensions: ',cars.ndim)\n",
    "print(\"element size= \",cars.size)\n",
    "print('first dimension: ',cars.shape[0])\n",
    "print('second dimension: ',cars.shape[1])\n",
    "print('third dimension: ',cars.shape[2])\n"
   ]
  },
  {
   "cell_type": "markdown",
   "metadata": {},
   "source": [
    "## 1.2 select data\n",
    "1. use index to choose item\n",
    "2. use slice to choose item\n",
    "3. a+=1 means add 1 to every item in array\n",
    "4. np.reshape((3,3))"
   ]
  },
  {
   "cell_type": "code",
   "execution_count": 47,
   "metadata": {},
   "outputs": [
    {
     "name": "stdout",
     "output_type": "stream",
     "text": [
      "[1 2 3]\n",
      "1\n",
      "[1 2]\n",
      "[1 1 2 3]\n"
     ]
    }
   ],
   "source": [
    "a=np.array([1,2,3])\n",
    "print(a)\n",
    "print(a[0])\n",
    "print(a[[0,1]]) # choose to items form array a\n",
    "print(a[[0,0,1,2]])# we can define a list [x,x,x,...] to choos multipul elements from array"
   ]
  },
  {
   "cell_type": "code",
   "execution_count": 49,
   "metadata": {},
   "outputs": [
    {
     "name": "stdout",
     "output_type": "stream",
     "text": [
      "[1 2]\n",
      "[2 3]\n",
      "[2 3]\n"
     ]
    }
   ],
   "source": [
    "# slice\n",
    "print(a[0:2]) # choose [0:2) from array\n",
    "print(a[1:])  # choose [1:end] from a\n",
    "print(a[-2:]) # choose from [-2,end] from a\n"
   ]
  },
  {
   "cell_type": "code",
   "execution_count": 52,
   "metadata": {},
   "outputs": [
    {
     "name": "stdout",
     "output_type": "stream",
     "text": [
      "[0 1 2 3 4 5 6 7 8 9]\n",
      "[0 2 4 6 8]\n"
     ]
    }
   ],
   "source": [
    "a=np.array(list(range(10)))\n",
    "print(a)\n",
    "print(a[::2])"
   ]
  },
  {
   "cell_type": "code",
   "execution_count": 65,
   "metadata": {},
   "outputs": [
    {
     "name": "stdout",
     "output_type": "stream",
     "text": [
      "[1 2 3 4 5 6 7 8 9]\n",
      "[[1 2 3]\n",
      " [4 5 6]\n",
      " [7 8 9]]\n",
      "a[:2] is\n",
      " [[1 2 3]\n",
      " [4 5 6]]\n",
      "[[1 2]\n",
      " [4 5]]\n"
     ]
    }
   ],
   "source": [
    "# multi-dimension array\n",
    "a=np.array(list(range(1,10)))\n",
    "print(a)\n",
    "a=a.reshape((3,3)) # reshape array\n",
    "print(a)\n",
    "\n",
    "print('a[:2] is\\n',a[:2])\n",
    "print(a[:2,:2]) "
   ]
  },
  {
   "cell_type": "code",
   "execution_count": 67,
   "metadata": {},
   "outputs": [
    {
     "name": "stdout",
     "output_type": "stream",
     "text": [
      "[8 9]\n",
      "[[ 2  3  4]\n",
      " [ 5  6  7]\n",
      " [ 8  9 10]]\n"
     ]
    }
   ],
   "source": [
    "# select on condition\n",
    "print(a[a>7])\n",
    "\n",
    "# every item +1\n",
    "a=a+1\n",
    "print(a)"
   ]
  },
  {
   "cell_type": "markdown",
   "metadata": {},
   "source": [
    "## 1.3 basic calculation"
   ]
  },
  {
   "cell_type": "code",
   "execution_count": 68,
   "metadata": {},
   "outputs": [
    {
     "name": "stdout",
     "output_type": "stream",
     "text": [
      "[1 2 3 4 5 6 7 8 9]\n",
      "[ 4  5  6  7  8  9 10 11 12]\n"
     ]
    }
   ],
   "source": [
    "# add every item in numpy\n",
    "L=np.array(list(range(1,10)))\n",
    "print(L)\n",
    "\n",
    "L+=3 # every item +3\n",
    "print(L)"
   ]
  },
  {
   "cell_type": "code",
   "execution_count": 76,
   "metadata": {},
   "outputs": [
    {
     "name": "stdout",
     "output_type": "stream",
     "text": [
      "[[1 2]\n",
      " [3 4]]\n",
      "[[5 6]\n",
      " [7 8]]\n",
      "[[19 22]\n",
      " [43 50]]\n",
      "[[19 22]\n",
      " [43 50]]\n"
     ]
    }
   ],
   "source": [
    "# matrix operation\n",
    "a=np.array(list(range(1,5))).reshape((2,2))\n",
    "print(a)\n",
    "\n",
    "b=np.array(list(range(5,9))).reshape((2,2))\n",
    "print(b)\n",
    "\n",
    "print(a.dot(b)) # matrix multiple\n",
    "print(np.dot(a,b))\n"
   ]
  },
  {
   "cell_type": "code",
   "execution_count": 79,
   "metadata": {},
   "outputs": [
    {
     "name": "stdout",
     "output_type": "stream",
     "text": [
      "max data:  4\n",
      "min data:  1\n",
      "sum of data:  10\n"
     ]
    }
   ],
   "source": [
    "# Statistical analysis of data\n",
    "print('max data: ',a.max())\n",
    "print('min data: ',a.min())\n",
    "print('sum of data: ',a.sum())"
   ]
  },
  {
   "cell_type": "code",
   "execution_count": 88,
   "metadata": {},
   "outputs": [
    {
     "name": "stdout",
     "output_type": "stream",
     "text": [
      "[[1 2]\n",
      " [3 4]]\n",
      "sucession multiply:  24\n",
      "size:  4\n",
      "not zero:  4\n",
      "mean value:  2.5\n",
      "medium value:  2.5\n",
      "standard deviation:  1.118033988749895\n"
     ]
    }
   ],
   "source": [
    "print(a)\n",
    "print('sucession multiply: ',a.prod())\n",
    "print('size: ',a.size)\n",
    "print('not zero: ',np.count_nonzero(a))\n",
    "\n",
    "print('mean value: ',a.mean())\n",
    "print('medium value: ',np.median(a))\n",
    "\n",
    "print('standard deviation: ',np.std(a))"
   ]
  },
  {
   "cell_type": "code",
   "execution_count": 90,
   "metadata": {},
   "outputs": [
    {
     "name": "stdout",
     "output_type": "stream",
     "text": [
      "[[1 2]\n",
      " [3 4]]\n",
      "max value index:  3\n",
      "min value index:  0\n",
      "clip:  [160.  166.4 180.  170.8]\n"
     ]
    }
   ],
   "source": [
    "# find index of value\n",
    "print(a)\n",
    "print('max value index: ',np.argmax(a))\n",
    "print('min value index: ',np.argmin(a))\n",
    "\n",
    "a=np.array([150.1,166.4,183.7,170.8])\n",
    "print('clip: ',a.clip(160,180))"
   ]
  },
  {
   "cell_type": "markdown",
   "metadata": {},
   "source": [
    "## 1.4 change data shape"
   ]
  },
  {
   "cell_type": "code",
   "execution_count": 92,
   "metadata": {},
   "outputs": [
    {
     "name": "stdout",
     "output_type": "stream",
     "text": [
      "[1 2 3 4 5 6]\n",
      "[[1 2 3 4 5 6]]\n",
      "[[1 2 3 4 5 6]]\n"
     ]
    }
   ],
   "source": [
    "a=np.array([1,2,3,4,5,6])\n",
    "\n",
    "print(a)\n",
    "\n",
    "a_2d=a[np.newaxis,:]\n",
    "print(a_2d)\n",
    "\n",
    "a_2d2=np.expand_dims(a,0)\n",
    "print(a_2d2)"
   ]
  },
  {
   "cell_type": "code",
   "execution_count": 97,
   "metadata": {},
   "outputs": [
    {
     "name": "stdout",
     "output_type": "stream",
     "text": [
      "[[1]\n",
      " [2]\n",
      " [3]\n",
      " [4]\n",
      " [5]\n",
      " [6]]\n",
      "[[1]\n",
      " [2]\n",
      " [3]\n",
      " [4]\n",
      " [5]\n",
      " [6]]\n",
      "[[1]\n",
      " [2]\n",
      " [3]\n",
      " [4]\n",
      " [5]\n",
      " [6]]\n"
     ]
    }
   ],
   "source": [
    "# ways to change horizontal array to vertical array\n",
    "a_none=a[:,None]\n",
    "print(a_none)\n",
    "\n",
    "a_expand=np.expand_dims(a,axis=1)\n",
    "print(a_expand)\n",
    "\n",
    "a_new_axis=a[:,np.newaxis]\n",
    "print(a_new_axis)"
   ]
  },
  {
   "cell_type": "code",
   "execution_count": 101,
   "metadata": {},
   "outputs": [
    {
     "name": "stdout",
     "output_type": "stream",
     "text": [
      "[[1]\n",
      " [2]\n",
      " [3]\n",
      " [4]\n",
      " [5]\n",
      " [6]]\n",
      "[1 2 3 4 5 6]\n",
      "[1 2 3 4 5 6]\n"
     ]
    }
   ],
   "source": [
    "print(a_expand)\n",
    "\n",
    "# Compress array dimensions\n",
    "a_squeeze=np.squeeze(a_expand)\n",
    "print(a_squeeze)\n",
    "\n",
    "a_squeeze_axis=a_expand.squeeze(axis=1)\n",
    "print(a_squeeze_axis)\n"
   ]
  },
  {
   "cell_type": "code",
   "execution_count": 102,
   "metadata": {},
   "outputs": [
    {
     "name": "stdout",
     "output_type": "stream",
     "text": [
      "a1 shape: (2, 3)\n",
      "[[1 2 3]\n",
      " [4 5 6]]\n",
      "a2 shape: (3, 1, 2)\n",
      "[[[1 2]]\n",
      "\n",
      " [[3 4]]\n",
      "\n",
      " [[5 6]]]\n"
     ]
    }
   ],
   "source": [
    "a = np.array([1,2,3,4,5,6])\n",
    "a1 = a.reshape([2, 3])\n",
    "a2 = a.reshape([3,1,2])\n",
    "print(\"a1 shape:\", a1.shape)\n",
    "print(a1)\n",
    "print(\"a2 shape:\", a2.shape)\n",
    "print(a2)"
   ]
  },
  {
   "cell_type": "code",
   "execution_count": 105,
   "metadata": {},
   "outputs": [
    {
     "name": "stdout",
     "output_type": "stream",
     "text": [
      "[[1 2 3]\n",
      " [4 5 6]]\n",
      "[[1 4]\n",
      " [2 5]\n",
      " [3 6]]\n"
     ]
    }
   ],
   "source": [
    "print(a1)\n",
    "b=np.transpose(a1) # Matrix transpose\n",
    "print(b) "
   ]
  },
  {
   "cell_type": "code",
   "execution_count": 106,
   "metadata": {},
   "outputs": [
    {
     "name": "stdout",
     "output_type": "stream",
     "text": [
      "[[ 1 11]\n",
      " [ 2 22]\n",
      " [ 3 33]\n",
      " [ 4 44]\n",
      " [ 5 55]\n",
      " [ 6 66]]\n"
     ]
    }
   ],
   "source": [
    "feature_a = np.array([1,2,3,4,5,6])\n",
    "feature_b = np.array([11,22,33,44,55,66])\n",
    "c_stack = np.column_stack([feature_a, feature_b])\n",
    "print(c_stack)"
   ]
  },
  {
   "cell_type": "code",
   "execution_count": 110,
   "metadata": {},
   "outputs": [
    {
     "name": "stdout",
     "output_type": "stream",
     "text": [
      "[[0.   1.1  1.11]\n",
      " [1.   2.2  2.22]]\n"
     ]
    }
   ],
   "source": [
    "sample_a = np.array([0, 1.1, 1.11])\n",
    "sample_b = np.array([1, 2.2, 2.22])\n",
    "c_stack = np.row_stack([sample_a, sample_b])\n",
    "print(c_stack)"
   ]
  },
  {
   "cell_type": "code",
   "execution_count": 111,
   "metadata": {},
   "outputs": [
    {
     "name": "stdout",
     "output_type": "stream",
     "text": [
      "[array([[ 1, 11,  2, 22],\n",
      "       [ 3, 33,  4, 44]]), array([[ 5, 55,  6, 66],\n",
      "       [ 7, 77,  8, 88]])]\n",
      "[array([[ 1, 11,  2, 22],\n",
      "       [ 3, 33,  4, 44]]), array([[ 5, 55,  6, 66]]), array([[ 7, 77,  8, 88]])]\n"
     ]
    }
   ],
   "source": [
    "a = np.array(\n",
    "[[ 1, 11, 2, 22],\n",
    " [ 3, 33, 4, 44],\n",
    " [ 5, 55, 6, 66],\n",
    " [ 7, 77, 8, 88]]\n",
    ")\n",
    "print(np.vsplit(a, indices_or_sections=2))  # 分成两段\n",
    "print(np.vsplit(a, indices_or_sections=[2,3]))  # 分片成 [:2]，[2:3], [3:]"
   ]
  },
  {
   "cell_type": "markdown",
   "metadata": {},
   "source": [
    "# 2 Numpy and files\n",
    "## 2.1 load data and store data\n",
    "1. load data from file\n",
    "2. save data to file\n",
    "   1. plain file\n",
    "   2. numpy file\n",
    "   3. compressed numpy file"
   ]
  },
  {
   "cell_type": "code",
   "execution_count": 2,
   "metadata": {},
   "outputs": [
    {
     "name": "stdout",
     "output_type": "stream",
     "text": [
      "StudentID, Age, Score\n",
      "20131,10,67\n",
      "20132,11,88\n",
      "20133,12,98\n",
      "20134,8,100\n",
      "20135,9,75\n",
      "20136,12,78\n"
     ]
    }
   ],
   "source": [
    "# open data using python file operation\n",
    "import numpy as np\n",
    "import os\n",
    "with open('data.csv','r') as f:\n",
    "    data=f.read()\n",
    "print(data)"
   ]
  },
  {
   "cell_type": "code",
   "execution_count": 3,
   "metadata": {},
   "outputs": [
    {
     "name": "stdout",
     "output_type": "stream",
     "text": [
      "[[20131    10    67]\n",
      " [20132    11    88]\n",
      " [20133    12    98]\n",
      " [20134     8   100]\n",
      " [20135     9    75]\n",
      " [20136    12    78]]\n"
     ]
    }
   ],
   "source": [
    "# open data using numpy\n",
    "\n",
    "# loadtxt can load csv file, because csv file is Plain text data.\n",
    "# PS: numpy can't read data from excel whos file name is xlsx, \n",
    "#     we can use pandas to read data from xlsx file\n",
    "data=np.loadtxt('data.csv',dtype=np.int32,delimiter=',',skiprows=1)\n",
    "print(data)"
   ]
  },
  {
   "cell_type": "code",
   "execution_count": 4,
   "metadata": {},
   "outputs": [
    {
     "name": "stdout",
     "output_type": "stream",
     "text": [
      "[[20131    10    67]\n",
      " [20132    11    88]\n",
      " [20133    12    98]\n",
      " [20134     8   100]\n",
      " [20135     9    75]\n",
      " [20136    12    78]]\n"
     ]
    }
   ],
   "source": [
    "row_string = \"20131, 10, 67, 20132, 11, 88, 20133, 12, 98, 20134, 8, 100, 20135, 9, 75, 20136, 12, 78\"\n",
    "# read data from string\n",
    "data=np.fromstring(row_string,dtype=np.int32,sep=',')\n",
    "data=data.reshape(6,3)\n",
    "print(data)"
   ]
  },
  {
   "cell_type": "code",
   "execution_count": 17,
   "metadata": {},
   "outputs": [
    {
     "name": "stdout",
     "output_type": "stream",
     "text": [
      "save data:\n",
      " [[1 2 3]\n",
      " [4 5 6]]\n",
      "data file in directory:\n",
      " ['tkinter.ipynb', 'day_wise.csv', 'data.csv', 'matplot.ipynb', 'comressed_data.npz', 'data.pkl', 'python_basic.ipynb', 'data_save.npy', 'test_unittest.py', 'threading_processing.ipynb', '.ipynb_checkpoints', 'pickle_with_class.pkl', 'save_multi_array.npz', 'numpy.ipynb', 'spider.ipynb', 'data.json', 'save_data.cvs', 'pandas.ipynb']\n",
      "\n",
      " 1,2,3\n",
      "4,5,6\n",
      "\n",
      "data save in directory:\n",
      " ['tkinter.ipynb', 'day_wise.csv', 'data.csv', 'matplot.ipynb', 'comressed_data.npz', 'data.pkl', 'python_basic.ipynb', 'data_save.npy', 'test_unittest.py', 'threading_processing.ipynb', '.ipynb_checkpoints', 'pickle_with_class.pkl', 'save_multi_array.npz', 'numpy.ipynb', 'spider.ipynb', 'data.json', 'save_data.cvs', 'pandas.ipynb']\n",
      "[[1 2 3]\n",
      " [4 5 6]]\n"
     ]
    }
   ],
   "source": [
    "print('save data:\\n',data)\n",
    "\n",
    "np.savetxt('save_data.cvs',data,delimiter=',',fmt='%s')\n",
    "\n",
    "# we can just read from the file, because we store them as plain text\n",
    "print('data file in directory:\\n',os.listdir())\n",
    "with open('save_data.cvs','r') as f:\n",
    "    print('\\n',f.read())\n",
    "\n",
    "# save as numpy file, this is binary file\n",
    "np.save('data_save.npy',data)\n",
    "print('data save in directory:\\n',os.listdir())\n",
    "# with open('data_save.npy','r') as f:\n",
    "#     print(f.read()) # this is illegal, you can't juse read from numpy file\n",
    "print(np.load('data_save.npy')) # load data from numpy file"
   ]
  },
  {
   "cell_type": "code",
   "execution_count": 9,
   "metadata": {},
   "outputs": [
    {
     "name": "stdout",
     "output_type": "stream",
     "text": [
      "train:  [1 2 3]\n",
      "test:  [11 22 33]\n"
     ]
    }
   ],
   "source": [
    "# save multiple array in one numpy file\n",
    "train_data=np.array([1,2,3])\n",
    "test_data=np.array([11,22,33])\n",
    "\n",
    "np.savez('save_multi_array.npz',train=train_data,test=test_data)\n",
    "\n",
    "# load data\n",
    "npz_data=np.load('save_multi_array.npz')\n",
    "print('train: ',npz_data['train'])\n",
    "print('test: ',npz_data['test'])\n"
   ]
  },
  {
   "cell_type": "code",
   "execution_count": 11,
   "metadata": {},
   "outputs": [
    {
     "name": "stdout",
     "output_type": "stream",
     "text": [
      "train data:  [1 2 3]\n",
      "test data:  [11 22 33]\n"
     ]
    }
   ],
   "source": [
    "# save with data compression\n",
    "np.savez_compressed('comressed_data.npz',train=train_data,test=test_data)\n",
    "\n",
    "compressed_data=np.load('comressed_data.npz')\n",
    "print('train data: ',compressed_data['train'])\n",
    "print('test data: ',compressed_data['test'])\n"
   ]
  },
  {
   "cell_type": "markdown",
   "metadata": {},
   "source": [
    "## 2.2 Generate stadard data\n",
    "1. ones\n",
    "2. zeros\n",
    "3. empty\n",
    "4. full\n",
    "5. ones_like, full_like... etc"
   ]
  },
  {
   "cell_type": "code",
   "execution_count": 12,
   "metadata": {},
   "outputs": [
    {
     "name": "stdout",
     "output_type": "stream",
     "text": [
      "[[0. 0. 0.]\n",
      " [0. 0. 0.]]\n",
      "[[1. 1.]\n",
      " [1. 1.]\n",
      " [1. 1.]]\n"
     ]
    }
   ],
   "source": [
    "import numpy as np\n",
    "\n",
    "zero = np.zeros([2,3])\n",
    "print(zero)\n",
    "\n",
    "one=np.ones([3,2])\n",
    "print(one)"
   ]
  },
  {
   "cell_type": "code",
   "execution_count": 13,
   "metadata": {},
   "outputs": [
    {
     "name": "stdout",
     "output_type": "stream",
     "text": [
      "[[9 9 9]\n",
      " [9 9 9]]\n"
     ]
    }
   ],
   "source": [
    "# set array item to some value\n",
    "nines=np.full([2,3],9)\n",
    "print(nines)"
   ]
  },
  {
   "cell_type": "code",
   "execution_count": 16,
   "metadata": {},
   "outputs": [
    {
     "name": "stdout",
     "output_type": "stream",
     "text": [
      "ones:  (2, 3) int32\n",
      "ones_like:  (2, 3) int32\n",
      "ones values:\n",
      " [[1 1 1]\n",
      " [1 1 1]]\n"
     ]
    }
   ],
   "source": [
    "data=np.array([\n",
    "    [1,2,3],\n",
    "    [4,5,6]\n",
    "],dtype=np.int32)\n",
    "\n",
    "# copy data shape\n",
    "ones=np.ones(data.shape,dtype=data.dtype) # manually copy data shape\n",
    "ones_like=np.ones_like(data) # copy data shape\n",
    "\n",
    "print('ones: ',ones.shape,ones.dtype)\n",
    "print('ones_like: ',ones_like.shape,ones_like.dtype)\n",
    "print('ones values:\\n',ones_like)"
   ]
  },
  {
   "cell_type": "code",
   "execution_count": 19,
   "metadata": {},
   "outputs": [
    {
     "name": "stdout",
     "output_type": "stream",
     "text": [
      "python range:  [0, 1, 2, 3, 4]\n",
      "numpy arrange:  [0 1 2 3 4]\n",
      "python list:  [3, 5, 7, 9]\n",
      "numpy arrange:  [3 5 7 9]\n"
     ]
    }
   ],
   "source": [
    "# np.arange\n",
    "print('python range: ',list(range(5)))\n",
    "print('numpy arrange: ',np.arange(5))\n",
    "\n",
    "print('\\npython list: ',list(range(3,10,2)))\n",
    "print('numpy arrange: ',np.arange(3,10,2))"
   ]
  },
  {
   "cell_type": "code",
   "execution_count": 20,
   "metadata": {},
   "outputs": [
    {
     "name": "stdout",
     "output_type": "stream",
     "text": [
      "linspace:  [-1.  -0.5  0.   0.5  1. ]\n"
     ]
    }
   ],
   "source": [
    "# linspace\n",
    "print('linspace: ',np.linspace(-1,1,5)) # start,end,size\n"
   ]
  },
  {
   "cell_type": "code",
   "execution_count": 23,
   "metadata": {},
   "outputs": [
    {
     "name": "stdout",
     "output_type": "stream",
     "text": [
      "[[6.91480843e-310 0.00000000e+000 1.01855798e-312]\n",
      " [9.54898106e-313 1.01855798e-312 1.01855798e-312]\n",
      " [1.23075756e-312 1.10343781e-312 1.12465777e-312]\n",
      " [9.76118064e-313 1.08221785e-312 1.90979621e-312]]\n",
      "time used by empty:  0.0016155242919921875\n",
      "time used by ones:  0.012819766998291016\n"
     ]
    }
   ],
   "source": [
    "# empty, allocate memory, but doesn't set data\n",
    "print(np.empty([4,3]))\n",
    "\n",
    "# np.empty is faster than ones, zeros, etc\n",
    "import time\n",
    "\n",
    "t1=time.time()\n",
    "for _ in range(10000):\n",
    "    a=np.empty([3,3])\n",
    "\n",
    "t2=time.time()\n",
    "for _ in range(10000):\n",
    "    a=np.ones([3,3])\n",
    "\n",
    "print('time used by empty: ',t2-t1)\n",
    "print('time used by ones: ',time.time()-t2)"
   ]
  },
  {
   "cell_type": "markdown",
   "metadata": {},
   "source": [
    "## 2.3 random data"
   ]
  },
  {
   "cell_type": "code",
   "execution_count": 27,
   "metadata": {},
   "outputs": [
    {
     "name": "stdout",
     "output_type": "stream",
     "text": [
      "0.4291681465187419\n",
      "1\n",
      "[[0.73213625 0.37282825]\n",
      " [0.05348049 0.36457174]\n",
      " [0.64286127 0.9513513 ]]\n",
      "[[-0.80078451 -0.47850711]\n",
      " [-0.82753596  1.10461931]\n",
      " [-1.56304145  0.46082843]]\n",
      "[4 5 5 4 5 5 3 5 3 4]\n"
     ]
    }
   ],
   "source": [
    "# python randomo\n",
    "import random\n",
    "print(random.random()) # choose a value from [0,1)\n",
    "print(random.randint(1,10))\n",
    "\n",
    "# numpy random: numpy random is very effecient when create random arrays\n",
    "print(np.random.rand(3,2)) # every item in array is [0,1)\n",
    "\n",
    "print(np.random.randn(3,2)) # every item in Standard normal distribution\n",
    "\n",
    "print(np.random.randint(low=3,high=6,size=10)) # get 10 integer from [3,6)\n"
   ]
  },
  {
   "cell_type": "code",
   "execution_count": 32,
   "metadata": {},
   "outputs": [
    {
     "name": "stdout",
     "output_type": "stream",
     "text": [
      "origin data:  [1 2 3 4 5 6 7 8 9]\n",
      "choose one:  7\n",
      "choose three:  [9 8 6]\n",
      "choose three no replace:  [5 6 2]\n",
      "choose with coeffcience:  [9 8 9 9 9 9 9 9 9 8]\n",
      "d:  [1 2 3 4 5 6 7 8 9]\n",
      "origin data:  [1 2 3 4 5 6 7 8 9]\n",
      "shuffled data:  [4 3 2 6 8 9 1 7 5]\n"
     ]
    }
   ],
   "source": [
    "# random choose data from present array\n",
    "data=np.arange(1,10)\n",
    "print('origin data: ',data)\n",
    "\n",
    "print('choose one: ',np.random.choice(data))\n",
    "print('choose three: ',np.random.choice(data,size=3))\n",
    "print('choose three no replace: ',np.random.choice(data,size=3,replace=False)) # choose data, and doesn't put the data back\n",
    "print('choose with coeffcience: ',np.random.choice(data,size=10,p=[0,0,0,0,0,0,0,0.2,0.8])) # p is for probility\n"
   ]
  },
  {
   "cell_type": "code",
   "execution_count": 38,
   "metadata": {},
   "outputs": [
    {
     "name": "stdout",
     "output_type": "stream",
     "text": [
      "origin data:  [4 3 2 6 8 9 1 7 5]\n",
      "shuffled data:  [6 4 2 8 5 3 9 1 7]\n",
      "direct get random data:  [3 0 2 6 8 9 5 1 4 7]\n",
      "new shuffled data:\n",
      " [[ 0  1]\n",
      " [10 11]\n",
      " [ 6  7]\n",
      " [ 8  9]\n",
      " [ 2  3]\n",
      " [ 4  5]]\n"
     ]
    }
   ],
   "source": [
    "# shuffle data\n",
    "data_copy=np.copy(data)\n",
    "np.random.shuffle(data)\n",
    "print('origin data: ',data_copy)\n",
    "print('shuffled data: ',data)\n",
    "\n",
    "# permutation can shuffle data and return new data\n",
    "print(\"direct get random data: \",np.random.permutation(10))\n",
    "data=np.arange(12).reshape([6,2])\n",
    "print('new shuffled data:\\n',np.random.permutation(data))"
   ]
  },
  {
   "cell_type": "code",
   "execution_count": 39,
   "metadata": {},
   "outputs": [
    {
     "name": "stdout",
     "output_type": "stream",
     "text": [
      "normal distribution:  [0.54942233 0.96368662 1.14185519 1.19503164 1.21263772 1.06256687\n",
      " 1.08449939 1.21191975 0.48282487 0.91156026]\n",
      "mean distribution:  [ 0.05624041  0.93672433  0.07547167 -0.23716195  0.06103908 -0.5748158\n",
      "  0.26014681  0.55145131  0.16254934  0.81216557]\n"
     ]
    }
   ],
   "source": [
    "# normal distribution\n",
    "print('normal distribution: ',np.random.normal(1,0.2,10))\n",
    "\n",
    "# mean distribution\n",
    "print('mean distribution: ',np.random.uniform(-1,1,10)) # choose 10 data from (-1,1) uniformly"
   ]
  },
  {
   "cell_type": "code",
   "execution_count": 43,
   "metadata": {},
   "outputs": [
    {
     "name": "stdout",
     "output_type": "stream",
     "text": [
      "[[4.17022005e-01 7.20324493e-01 1.14374817e-04]\n",
      " [3.02332573e-01 1.46755891e-01 9.23385948e-02]]\n",
      "2\n"
     ]
    }
   ],
   "source": [
    "# random seed, use same rand seed can get the same random data whenever you run the code\n",
    "np.random.seed(1)\n",
    "print(np.random.rand(2,3))\n",
    "print(np.random.randint(2,3))"
   ]
  },
  {
   "cell_type": "markdown",
   "metadata": {},
   "source": [
    "## 2.4 copy vs view\n",
    "> veiw will not create new data"
   ]
  },
  {
   "cell_type": "code",
   "execution_count": 50,
   "metadata": {},
   "outputs": [
    {
     "name": "stdout",
     "output_type": "stream",
     "text": [
      "a_vew:\n",
      " [[1 2]\n",
      " [3 4]] \n",
      "a_copy:\n",
      " [[1 2]\n",
      " [3 4]]\n",
      "a_copy:\n",
      " [[1 2]\n",
      " [3 0]] \n",
      "a:\n",
      " [[1 2]\n",
      " [3 4]\n",
      " [5 6]]\n",
      "a_view:\n",
      " [[ 1  2]\n",
      " [ 3 22]] \n",
      "a:\n",
      " [[ 1  2]\n",
      " [ 3 22]\n",
      " [ 5  6]]\n"
     ]
    }
   ],
   "source": [
    "import numpy as np\n",
    "a=np.arange(1,7).reshape([3,2])\n",
    "\n",
    "a_view=a[:2]\n",
    "a_copy=a[:2].copy()\n",
    "\n",
    "print('a_vew:\\n',a_view,'\\na_copy:\\n',a_copy)\n",
    "\n",
    "a_copy[1,1]=0 # a copy will not effect origin a\n",
    "print('a_copy:\\n',a_copy,'\\na:\\n',a)\n",
    "\n",
    "a_view[1,1]=22 # a view will effect origin a\n",
    "print('a_view:\\n',a_view,'\\na:\\n',a)\n"
   ]
  },
  {
   "cell_type": "code",
   "execution_count": 53,
   "metadata": {},
   "outputs": [
    {
     "name": "stdout",
     "output_type": "stream",
     "text": [
      "0.000427 for b = 2*b\n",
      "0.000096 for a = 2*a\n",
      "time for f3: 0.000190\n",
      "time for f4: 0.000000\n"
     ]
    }
   ],
   "source": [
    "# compare time\n",
    "import timeit # timeis can calculate excute time for parts of code, not the whole code\n",
    "from functools import partial\n",
    "\n",
    "def get_run_time(func, *args):\n",
    "    repeat=3\n",
    "    number=200\n",
    "    return min(timeit.Timer(partial(func,*args)).repeat(repeat=repeat,number=number))/number\n",
    "\n",
    "a=np.random.rand(1000,1000)\n",
    "b=np.random.rand(1000,1000)\n",
    "\n",
    "def f1():\n",
    "    global b\n",
    "    b=2*b # this will create new array b\n",
    "\n",
    "def f2():\n",
    "    global a\n",
    "    a*=2 # this will not create new array a\n",
    "\n",
    "print('%.6f for b = 2*b' % get_run_time(f1))\n",
    "print('%.6f for a = 2*a' % get_run_time(f2))\n",
    "\n",
    "\n",
    "def f3():\n",
    "    a.flatten()\n",
    "\n",
    "def f4():\n",
    "    a.ravel() # ravle is faster than flatten because ravel is using view while flatten is using copy\n",
    "\n",
    "print('time for f3: %0.6f' % get_run_time(f3))\n",
    "print('time for f4: %0.6f' % get_run_time(f4))\n"
   ]
  },
  {
   "cell_type": "markdown",
   "metadata": {},
   "source": [
    "# 3 Numpy Projects\n",
    "## 3.1 Epidemic data analysis"
   ]
  },
  {
   "cell_type": "code",
   "execution_count": 142,
   "metadata": {},
   "outputs": [
    {
     "name": "stdout",
     "output_type": "stream",
     "text": [
      "dict_keys(['data', 'date', 'header'])\n"
     ]
    }
   ],
   "source": [
    "# initial data\n",
    "covid={'data': [[555.0, 17.0, 28.0, 510.0, 0.0, 0.0, 0.0, 3.06, 5.05, 60.71, 6.0], [654.0, 18.0, 30.0, 606.0, 99.0, 1.0, 2.0, 2.75, 4.59, 60.0, 8.0], [941.0, 26.0, 36.0, 879.0, 287.0, 8.0, 6.0, 2.76, 3.83, 72.22, 9.0], [1434.0, 42.0, 39.0, 1353.0, 493.0, 16.0, 3.0, 2.93, 2.72, 107.69, 11.0], [2118.0, 56.0, 52.0, 2010.0, 684.0, 14.0, 13.0, 2.64, 2.46, 107.69, 13.0], [2927.0, 82.0, 61.0, 2784.0, 809.0, 26.0, 9.0, 2.8, 2.08, 134.43, 16.0], [5578.0, 131.0, 107.0, 5340.0, 2651.0, 49.0, 46.0, 2.35, 1.92, 122.43, 16.0], [6166.0, 133.0, 125.0, 5908.0, 588.0, 2.0, 18.0, 2.16, 2.03, 106.4, 18.0], [8234.0, 171.0, 141.0, 7922.0, 2068.0, 38.0, 16.0, 2.08, 1.71, 121.28, 20.0], [9927.0, 213.0, 219.0, 9495.0, 1693.0, 42.0, 78.0, 2.15, 2.21, 97.26, 24.0], [12038.0, 259.0, 281.0, 11498.0, 2111.0, 46.0, 62.0, 2.15, 2.33, 92.17, 25.0], [16787.0, 362.0, 459.0, 15966.0, 4749.0, 103.0, 178.0, 2.16, 2.73, 78.87, 25.0], [19887.0, 426.0, 604.0, 18857.0, 3100.0, 64.0, 145.0, 2.14, 3.04, 70.53, 25.0], [23898.0, 492.0, 821.0, 22585.0, 4011.0, 66.0, 217.0, 2.06, 3.44, 59.93, 26.0], [27643.0, 564.0, 1071.0, 26008.0, 3745.0, 72.0, 250.0, 2.04, 3.87, 52.66, 26.0], [30802.0, 634.0, 1418.0, 28750.0, 3159.0, 70.0, 347.0, 2.06, 4.6, 44.71, 26.0], [34334.0, 719.0, 1903.0, 31712.0, 3532.0, 85.0, 485.0, 2.09, 5.54, 37.78, 26.0], [37068.0, 806.0, 2470.0, 33792.0, 2734.0, 87.0, 567.0, 2.17, 6.66, 32.63, 26.0], [40095.0, 906.0, 3057.0, 36132.0, 3027.0, 100.0, 587.0, 2.26, 7.62, 29.64, 26.0], [42633.0, 1013.0, 3714.0, 37906.0, 2538.0, 107.0, 657.0, 2.38, 8.71, 27.28, 26.0], [44675.0, 1113.0, 4417.0, 39145.0, 2042.0, 100.0, 703.0, 2.49, 9.89, 25.2, 26.0], [46561.0, 1118.0, 4849.0, 40594.0, 1886.0, 5.0, 432.0, 2.4, 10.41, 23.06, 26.0], [60206.0, 1371.0, 5930.0, 52905.0, 13645.0, 253.0, 1081.0, 2.28, 9.85, 23.12, 26.0], [66690.0, 1523.0, 7613.0, 57554.0, 6484.0, 152.0, 1683.0, 2.28, 11.42, 20.01, 27.0], [68765.0, 1666.0, 8902.0, 58197.0, 2075.0, 143.0, 1289.0, 2.42, 12.95, 18.71, 27.0], [70879.0, 1770.0, 10319.0, 58790.0, 2114.0, 104.0, 1417.0, 2.5, 14.56, 17.15, 27.0], [72815.0, 1868.0, 11951.0, 58996.0, 1936.0, 98.0, 1632.0, 2.57, 16.41, 15.63, 27.0], [74609.0, 2008.0, 13693.0, 58908.0, 1794.0, 140.0, 1742.0, 2.69, 18.35, 14.66, 27.0], [75030.0, 2123.0, 15394.0, 57513.0, 421.0, 115.0, 1701.0, 2.83, 20.52, 13.79, 28.0], [75577.0, 2246.0, 17369.0, 55962.0, 547.0, 123.0, 1975.0, 2.97, 22.98, 12.93, 28.0], [76206.0, 2250.0, 17966.0, 55990.0, 629.0, 4.0, 597.0, 2.95, 23.58, 12.52, 30.0], [77967.0, 2457.0, 21849.0, 53661.0, 1761.0, 207.0, 3883.0, 3.15, 28.02, 11.25, 30.0], [78290.0, 2467.0, 22304.0, 53519.0, 323.0, 10.0, 455.0, 3.15, 28.49, 11.06, 31.0], [78854.0, 2627.0, 24047.0, 52180.0, 564.0, 160.0, 1743.0, 3.33, 30.5, 10.92, 36.0], [79707.0, 2707.0, 26652.0, 50348.0, 853.0, 80.0, 2605.0, 3.4, 33.44, 10.16, 41.0], [80670.0, 2767.0, 29077.0, 48826.0, 963.0, 60.0, 2425.0, 3.43, 36.04, 9.52, 47.0], [82034.0, 2810.0, 31919.0, 47305.0, 1364.0, 43.0, 2842.0, 3.43, 38.91, 8.8, 51.0], [83411.0, 2867.0, 35306.0, 45238.0, 1377.0, 57.0, 3387.0, 3.44, 42.33, 8.12, 57.0], [85306.0, 2936.0, 38314.0, 44056.0, 1895.0, 69.0, 3008.0, 3.44, 44.91, 7.66, 61.0], [87690.0, 2990.0, 41208.0, 43492.0, 2384.0, 54.0, 2894.0, 3.41, 46.99, 7.26, 66.0], [89664.0, 3079.0, 44085.0, 42500.0, 1974.0, 89.0, 2877.0, 3.43, 49.17, 6.98, 73.0], [92241.0, 3154.0, 46681.0, 42406.0, 2577.0, 75.0, 2596.0, 3.42, 50.61, 6.76, 76.0], [94540.0, 3249.0, 49619.0, 41672.0, 2299.0, 95.0, 2938.0, 3.44, 52.48, 6.55, 80.0], [97331.0, 3342.0, 52237.0, 41752.0, 2791.0, 93.0, 2618.0, 3.43, 53.67, 6.4, 84.0], [101274.0, 3454.0, 54270.0, 43550.0, 3943.0, 112.0, 2033.0, 3.41, 53.59, 6.36, 93.0], [105312.0, 3553.0, 56760.0, 44999.0, 4038.0, 99.0, 2490.0, 3.37, 53.9, 6.26, 94.0], [109266.0, 3797.0, 59092.0, 46377.0, 3954.0, 244.0, 2332.0, 3.48, 54.08, 6.43, 99.0], [113166.0, 3981.0, 60891.0, 48294.0, 3900.0, 184.0, 1799.0, 3.52, 53.81, 6.54, 102.0], [118190.0, 4260.0, 62802.0, 51128.0, 5024.0, 279.0, 1911.0, 3.6, 53.14, 6.78, 105.0], [125853.0, 4604.0, 65113.0, 56136.0, 7663.0, 344.0, 2311.0, 3.66, 51.74, 7.07, 111.0], [131603.0, 4909.0, 66434.0, 60260.0, 5750.0, 305.0, 1321.0, 3.73, 50.48, 7.39, 113.0], [146008.0, 5406.0, 68359.0, 72243.0, 14405.0, 497.0, 1925.0, 3.7, 46.82, 7.91, 120.0], [157114.0, 5823.0, 70729.0, 80562.0, 11106.0, 417.0, 2370.0, 3.71, 45.02, 8.23, 133.0], [168260.0, 6464.0, 74139.0, 87657.0, 11146.0, 641.0, 3410.0, 3.84, 44.06, 8.72, 137.0], [182919.0, 7144.0, 76192.0, 99583.0, 14659.0, 680.0, 2053.0, 3.91, 41.65, 9.38, 143.0], [198757.0, 7948.0, 78944.0, 111865.0, 15838.0, 804.0, 2752.0, 4.0, 39.72, 10.07, 146.0], [218343.0, 8845.0, 81427.0, 128071.0, 19586.0, 897.0, 2483.0, 4.05, 37.29, 10.86, 150.0], [246261.0, 9951.0, 83064.0, 153246.0, 27918.0, 1106.0, 1637.0, 4.04, 33.73, 11.98, 154.0], [275869.0, 11429.0, 85509.0, 178931.0, 29608.0, 1478.0, 2445.0, 4.14, 31.0, 13.37, 161.0], [308175.0, 13134.0, 89775.0, 205266.0, 32306.0, 1705.0, 4266.0, 4.26, 29.13, 14.63, 163.0], [341585.0, 14831.0, 95990.0, 230764.0, 33410.0, 1697.0, 6215.0, 4.34, 28.1, 15.45, 168.0], [383750.0, 16748.0, 96456.0, 270546.0, 42165.0, 1917.0, 466.0, 4.36, 25.14, 17.36, 169.0], [424889.0, 19016.0, 105997.0, 299876.0, 41154.0, 2268.0, 9541.0, 4.48, 24.95, 17.94, 171.0], [475706.0, 21793.0, 111445.0, 342468.0, 50817.0, 2777.0, 5448.0, 4.58, 23.43, 19.55, 174.0], [538666.0, 24800.0, 119804.0, 394062.0, 62960.0, 3007.0, 8359.0, 4.6, 22.24, 20.7, 175.0], [603066.0, 28318.0, 128508.0, 446240.0, 64400.0, 3518.0, 8704.0, 4.7, 21.31, 22.04, 176.0], [670723.0, 31997.0, 136800.0, 501926.0, 67657.0, 3679.0, 8292.0, 4.77, 20.4, 23.39, 176.0], [730300.0, 35470.0, 146261.0, 548569.0, 59577.0, 3473.0, 9461.0, 4.86, 20.03, 24.25, 176.0], [794939.0, 39634.0, 161707.0, 593598.0, 64639.0, 4164.0, 15446.0, 4.99, 20.34, 24.51, 177.0], [871355.0, 44478.0, 174074.0, 652803.0, 76416.0, 4844.0, 12367.0, 5.1, 19.98, 25.55, 179.0], [947569.0, 50029.0, 189434.0, 708106.0, 76214.0, 5551.0, 15360.0, 5.28, 19.99, 26.41, 179.0], [1028968.0, 56334.0, 206052.0, 766582.0, 81399.0, 6305.0, 16618.0, 5.47, 20.03, 27.34, 180.0], [1112123.0, 62319.0, 221060.0, 828744.0, 83155.0, 5985.0, 15008.0, 5.6, 19.88, 28.19, 180.0], [1192586.0, 68160.0, 241072.0, 883354.0, 80463.0, 5841.0, 20012.0, 5.72, 20.21, 28.27, 180.0], [1264304.0, 73181.0, 254477.0, 936646.0, 71718.0, 5021.0, 13405.0, 5.79, 20.13, 28.76, 182.0], [1336976.0, 79013.0, 270812.0, 987151.0, 72672.0, 5832.0, 16335.0, 5.91, 20.26, 29.18, 183.0], [1413849.0, 86915.0, 293665.0, 1033269.0, 76873.0, 7902.0, 22853.0, 6.15, 20.77, 29.6, 183.0], [1497624.0, 93650.0, 322017.0, 1081957.0, 83775.0, 6735.0, 28352.0, 6.25, 21.5, 29.08, 183.0], [1584249.0, 101279.0, 346349.0, 1136621.0, 86625.0, 7629.0, 24332.0, 6.39, 21.86, 29.24, 183.0], [1671907.0, 108551.0, 367477.0, 1195879.0, 87658.0, 7272.0, 21128.0, 6.49, 21.98, 29.54, 184.0], [1748872.0, 114620.0, 392991.0, 1241261.0, 76965.0, 6069.0, 25514.0, 6.55, 22.47, 29.17, 184.0], [1845653.0, 120351.0, 411864.0, 1313438.0, 96802.0, 5731.0, 18873.0, 6.52, 22.32, 29.22, 184.0], [1915247.0, 126098.0, 438395.0, 1350754.0, 69594.0, 5747.0, 26531.0, 6.58, 22.89, 28.76, 184.0], [1985174.0, 132996.0, 463014.0, 1389164.0, 69927.0, 6898.0, 24619.0, 6.7, 23.32, 28.72, 184.0], [2066003.0, 141308.0, 498925.0, 1425770.0, 80829.0, 8312.0, 35911.0, 6.84, 24.15, 28.32, 184.0], [2162715.0, 148591.0, 529015.0, 1485109.0, 96712.0, 7283.0, 30090.0, 6.87, 24.46, 28.09, 184.0], [2250439.0, 157481.0, 554287.0, 1538671.0, 87724.0, 8890.0, 25272.0, 7.0, 24.63, 28.41, 184.0], [2324396.0, 163952.0, 577789.0, 1582655.0, 73958.0, 6471.0, 23502.0, 7.05, 24.86, 28.38, 184.0], [2404919.0, 168522.0, 608557.0, 1627840.0, 80523.0, 4570.0, 30768.0, 7.01, 25.3, 27.69, 184.0], [2478258.0, 173965.0, 629862.0, 1674431.0, 73339.0, 5443.0, 21305.0, 7.02, 25.42, 27.62, 184.0], [2553508.0, 181122.0, 664043.0, 1708343.0, 75250.0, 7157.0, 34181.0, 7.09, 26.01, 27.28, 184.0], [2630314.0, 187877.0, 693207.0, 1749230.0, 78994.0, 6755.0, 29164.0, 7.14, 26.35, 27.1, 184.0], [2719327.0, 194727.0, 721689.0, 1802911.0, 89013.0, 6850.0, 28482.0, 7.16, 26.54, 26.98, 184.0], [2806267.0, 201401.0, 771329.0, 1833537.0, 96974.0, 6674.0, 49640.0, 7.18, 27.49, 26.11, 184.0], [2891199.0, 206979.0, 798239.0, 1885981.0, 84932.0, 5578.0, 26910.0, 7.16, 27.61, 25.93, 184.0], [2964146.0, 210862.0, 825969.0, 1927315.0, 72948.0, 3883.0, 27730.0, 7.11, 27.87, 25.53, 184.0], [3032850.0, 215511.0, 852382.0, 1964957.0, 68704.0, 4649.0, 26413.0, 7.11, 28.1, 25.28, 184.0], [3108149.0, 221974.0, 884680.0, 2001495.0, 75404.0, 6463.0, 32298.0, 7.14, 28.46, 25.09, 184.0], [3185195.0, 228742.0, 925752.0, 2030701.0, 79558.0, 6768.0, 41072.0, 7.18, 29.06, 24.71, 184.0], [3268876.0, 234704.0, 989616.0, 2044556.0, 83681.0, 5962.0, 63864.0, 7.18, 30.27, 23.72, 186.0], [3355922.0, 239881.0, 1026501.0, 2089540.0, 87046.0, 5177.0, 36885.0, 7.15, 30.59, 23.37, 186.0], [3437608.0, 245206.0, 1066362.0, 2126040.0, 81853.0, 5325.0, 39861.0, 7.13, 31.02, 22.99, 186.0], [3515244.0, 248659.0, 1097577.0, 2169008.0, 77636.0, 3453.0, 31215.0, 7.07, 31.22, 22.66, 186.0], [3591321.0, 252787.0, 1130526.0, 2208008.0, 76078.0, 4128.0, 32949.0, 7.04, 31.48, 22.36, 186.0], [3671310.0, 258658.0, 1166155.0, 2246497.0, 79989.0, 5871.0, 35629.0, 7.05, 31.76, 22.18, 186.0], [3761332.0, 265327.0, 1210894.0, 2285111.0, 90022.0, 6669.0, 44739.0, 7.05, 32.19, 21.91, 186.0], [3850418.0, 270736.0, 1249311.0, 2330371.0, 90669.0, 5409.0, 38417.0, 7.03, 32.45, 21.67, 186.0], [3941935.0, 276304.0, 1284849.0, 2380782.0, 92997.0, 5568.0, 35538.0, 7.01, 32.59, 21.5, 186.0], [4027781.0, 280569.0, 1337367.0, 2409845.0, 85846.0, 4265.0, 52518.0, 6.97, 33.2, 20.98, 186.0], [4104027.0, 284135.0, 1370108.0, 2449784.0, 76255.0, 3566.0, 32741.0, 6.92, 33.38, 20.74, 186.0], [4180268.0, 287608.0, 1416204.0, 2476456.0, 76298.0, 3473.0, 46096.0, 6.88, 33.88, 20.31, 186.0], [4263867.0, 293155.0, 1452191.0, 2518521.0, 83619.0, 5547.0, 35987.0, 6.88, 34.06, 20.19, 186.0], [4348619.0, 298383.0, 1506905.0, 2543331.0, 84917.0, 5228.0, 54714.0, 6.86, 34.65, 19.8, 187.0], [4445724.0, 303651.0, 1545712.0, 2596361.0, 97106.0, 5268.0, 38807.0, 6.83, 34.77, 19.64, 187.0], [4542073.0, 308866.0, 1592880.0, 2640327.0, 96349.0, 5215.0, 47168.0, 6.8, 35.07, 19.39, 187.0], [4637485.0, 313037.0, 1648546.0, 2675902.0, 95412.0, 4171.0, 55666.0, 6.75, 35.55, 18.99, 187.0], [4715994.0, 316366.0, 1688699.0, 2710929.0, 78509.0, 3329.0, 40153.0, 6.71, 35.81, 18.73, 187.0], [4804278.0, 319657.0, 1740909.0, 2743712.0, 88284.0, 3291.0, 52210.0, 6.65, 36.24, 18.36, 187.0], [4900702.0, 324441.0, 1792256.0, 2784005.0, 96633.0, 4784.0, 51347.0, 6.62, 36.57, 18.1, 187.0], [5003730.0, 329326.0, 1850441.0, 2823963.0, 103028.0, 4885.0, 58185.0, 6.58, 36.98, 17.8, 187.0], [5110064.0, 334112.0, 1900768.0, 2875184.0, 106438.0, 4786.0, 50327.0, 6.54, 37.2, 17.58, 187.0], [5216964.0, 339396.0, 2008541.0, 2869027.0, 106900.0, 5284.0, 107773.0, 6.51, 38.5, 16.9, 187.0], [5322253.0, 343385.0, 2062802.0, 2916066.0, 105289.0, 3989.0, 54261.0, 6.45, 38.76, 16.65, 187.0], [5417579.0, 346525.0, 2117555.0, 2953499.0, 95326.0, 3140.0, 54753.0, 6.4, 39.09, 16.36, 187.0], [5504542.0, 347703.0, 2180605.0, 2976234.0, 87335.0, 1178.0, 63050.0, 6.32, 39.61, 15.95, 187.0], [5597064.0, 351906.0, 2235118.0, 3010040.0, 92742.0, 4203.0, 54513.0, 6.29, 39.93, 15.74, 187.0], [5699664.0, 357119.0, 2297613.0, 3044932.0, 102600.0, 5213.0, 62495.0, 6.27, 40.31, 15.54, 187.0], [5818978.0, 361820.0, 2363746.0, 3093412.0, 119314.0, 4701.0, 66133.0, 6.22, 40.62, 15.31, 187.0], [5940145.0, 366562.0, 2440127.0, 3133456.0, 121167.0, 4742.0, 76381.0, 6.17, 41.08, 15.02, 187.0], [6077978.0, 370718.0, 2509981.0, 3197279.0, 137833.0, 4156.0, 69854.0, 6.1, 41.3, 14.77, 187.0], [6185530.0, 373606.0, 2585589.0, 3226335.0, 107552.0, 2888.0, 75608.0, 6.04, 41.8, 14.45, 187.0], [6280725.0, 376674.0, 2639599.0, 3264452.0, 95195.0, 3068.0, 54010.0, 6.0, 42.03, 14.27, 187.0], [6401536.0, 381497.0, 2743083.0, 3276956.0, 121577.0, 4823.0, 103484.0, 5.96, 42.85, 13.91, 187.0], [6520924.0, 387069.0, 2821430.0, 3312425.0, 119389.0, 5572.0, 78347.0, 5.94, 43.27, 13.72, 187.0], [6647861.0, 392218.0, 2890776.0, 3364867.0, 126937.0, 5149.0, 69346.0, 5.9, 43.48, 13.57, 187.0], [6778724.0, 396994.0, 2959037.0, 3422693.0, 130863.0, 4776.0, 68261.0, 5.86, 43.65, 13.42, 187.0], [6914666.0, 400875.0, 3030214.0, 3483577.0, 135942.0, 3881.0, 71177.0, 5.8, 43.82, 13.23, 187.0], [7026925.0, 403617.0, 3084718.0, 3538590.0, 112259.0, 2742.0, 54504.0, 5.74, 43.9, 13.08, 187.0], [7129150.0, 407314.0, 3235640.0, 3486196.0, 102225.0, 3697.0, 150922.0, 5.71, 45.39, 12.59, 187.0], [7253492.0, 412236.0, 3317121.0, 3524135.0, 124342.0, 4922.0, 81481.0, 5.68, 45.73, 12.43, 187.0], [7387517.0, 417441.0, 3395154.0, 3574922.0, 134025.0, 5205.0, 78033.0, 5.65, 45.96, 12.3, 187.0], [7525631.0, 422215.0, 3480121.0, 3623295.0, 138114.0, 4774.0, 84967.0, 5.61, 46.24, 12.13, 187.0], [7654725.0, 426512.0, 3558933.0, 3669280.0, 129094.0, 4297.0, 78812.0, 5.57, 46.49, 11.98, 187.0], [7790735.0, 430750.0, 3644048.0, 3715937.0, 136010.0, 4238.0, 85115.0, 5.53, 46.77, 11.82, 187.0], [7924156.0, 434124.0, 3714006.0, 3776026.0, 133421.0, 3374.0, 69958.0, 5.48, 46.87, 11.69, 187.0], [8043794.0, 437549.0, 3793406.0, 3812839.0, 119638.0, 3425.0, 79400.0, 5.44, 47.16, 11.53, 187.0], [8185197.0, 444416.0, 3890800.0, 3849981.0, 141403.0, 6867.0, 97394.0, 5.43, 47.53, 11.42, 187.0], [8327050.0, 449671.0, 4008201.0, 3869178.0, 141853.0, 5255.0, 117401.0, 5.4, 48.13, 11.22, 187.0], [8466978.0, 454700.0, 4088826.0, 3923452.0, 139928.0, 5029.0, 80625.0, 5.37, 48.29, 11.12, 187.0], [8647784.0, 460973.0, 4183298.0, 4003513.0, 180954.0, 6273.0, 94472.0, 5.33, 48.37, 11.02, 187.0], [8805336.0, 465222.0, 4298603.0, 4041511.0, 157552.0, 4249.0, 115305.0, 5.28, 48.82, 10.82, 187.0], [8933875.0, 469185.0, 4366875.0, 4097815.0, 128539.0, 3963.0, 68272.0, 5.25, 48.88, 10.74, 187.0], [9071733.0, 472756.0, 4458093.0, 4140884.0, 137858.0, 3571.0, 91218.0, 5.21, 49.14, 10.6, 187.0], [9237071.0, 478067.0, 4561696.0, 4197308.0, 165338.0, 5311.0, 103603.0, 5.18, 49.38, 10.48, 187.0], [9408254.0, 483328.0, 4677005.0, 4247921.0, 171183.0, 5261.0, 115309.0, 5.14, 49.71, 10.33, 187.0], [9586141.0, 489955.0, 4769458.0, 4326728.0, 177887.0, 6627.0, 92453.0, 5.11, 49.75, 10.27, 187.0], [9777487.0, 494782.0, 4875774.0, 4406931.0, 191346.0, 4827.0, 106316.0, 5.06, 49.87, 10.15, 187.0], [9955597.0, 499268.0, 4981808.0, 4474521.0, 178110.0, 4486.0, 106034.0, 5.01, 50.04, 10.02, 187.0], [10117227.0, 502357.0, 5070592.0, 4544278.0, 162349.0, 3089.0, 88784.0, 4.97, 50.12, 9.91, 187.0], [10275799.0, 506078.0, 5164494.0, 4605227.0, 158572.0, 3721.0, 93902.0, 4.92, 50.26, 9.8, 187.0], [10449697.0, 511210.0, 5281459.0, 4657028.0, 173898.0, 5132.0, 116965.0, 4.89, 50.54, 9.68, 187.0], [10667386.0, 516221.0, 5397083.0, 4754082.0, 217689.0, 5011.0, 115624.0, 4.84, 50.59, 9.56, 187.0], [10875091.0, 521341.0, 5681477.0, 4672273.0, 207705.0, 5120.0, 284394.0, 4.79, 52.24, 9.18, 187.0], [11078585.0, 526336.0, 5790942.0, 4761307.0, 203495.0, 4995.0, 109465.0, 4.75, 52.27, 9.09, 187.0], [11272152.0, 530705.0, 5986375.0, 4755072.0, 193567.0, 4369.0, 195433.0, 4.71, 53.11, 8.87, 187.0], [11454847.0, 534150.0, 6105546.0, 4815151.0, 182695.0, 3445.0, 119171.0, 4.66, 53.3, 8.75, 187.0], [11622190.0, 537947.0, 6228768.0, 4855475.0, 167343.0, 3797.0, 123222.0, 4.63, 53.59, 8.64, 187.0], [11833034.0, 544054.0, 6373513.0, 4915467.0, 210844.0, 6107.0, 144745.0, 4.6, 53.86, 8.54, 187.0], [12044836.0, 549373.0, 6531016.0, 4964447.0, 211802.0, 5319.0, 157503.0, 4.56, 54.22, 8.41, 187.0], [12273063.0, 554831.0, 6665237.0, 5052995.0, 228227.0, 5458.0, 134221.0, 4.52, 54.31, 8.32, 187.0], [12505640.0, 560142.0, 6804254.0, 5141244.0, 232577.0, 5311.0, 139017.0, 4.48, 54.41, 8.23, 187.0], [12721968.0, 565039.0, 6929711.0, 5227218.0, 216328.0, 4897.0, 125457.0, 4.44, 54.47, 8.15, 187.0], [12914636.0, 568993.0, 7041174.0, 5304469.0, 192668.0, 3954.0, 111463.0, 4.41, 54.52, 8.08, 187.0], [13107415.0, 572808.0, 7181139.0, 5353468.0, 192779.0, 3815.0, 139965.0, 4.37, 54.79, 7.98, 187.0], [13328867.0, 578468.0, 7322897.0, 5427502.0, 221452.0, 5660.0, 141758.0, 4.34, 54.94, 7.9, 187.0], [13559984.0, 583961.0, 7482320.0, 5493703.0, 231122.0, 5493.0, 159423.0, 4.31, 55.18, 7.8, 187.0], [13812525.0, 589760.0, 7634241.0, 5588524.0, 252544.0, 5799.0, 151921.0, 4.27, 55.27, 7.73, 187.0], [14054563.0, 596503.0, 7793760.0, 5664300.0, 242038.0, 6743.0, 159519.0, 4.24, 55.45, 7.65, 187.0], [14292198.0, 602130.0, 7944550.0, 5745518.0, 237635.0, 5627.0, 150790.0, 4.21, 55.59, 7.58, 187.0], [14506845.0, 606159.0, 8032235.0, 5868451.0, 214647.0, 4029.0, 87685.0, 4.18, 55.37, 7.55, 187.0], [14713623.0, 610319.0, 8190777.0, 5912527.0, 206778.0, 4160.0, 158542.0, 4.15, 55.67, 7.45, 187.0], [14947078.0, 616557.0, 8364986.0, 5965535.0, 233565.0, 6238.0, 174209.0, 4.12, 55.96, 7.37, 187.0], [15227725.0, 623540.0, 8541255.0, 6062930.0, 280647.0, 6983.0, 176269.0, 4.09, 56.09, 7.3, 187.0], [15510481.0, 633506.0, 8710969.0, 6166006.0, 282756.0, 9966.0, 169714.0, 4.08, 56.16, 7.27, 187.0], [15791645.0, 639650.0, 8939705.0, 6212290.0, 281164.0, 6144.0, 228736.0, 4.05, 56.61, 7.16, 187.0], [16047190.0, 644517.0, 9158743.0, 6243930.0, 255545.0, 4867.0, 219038.0, 4.02, 57.07, 7.04, 187.0], [16251796.0, 648621.0, 9293464.0, 6309711.0, 204606.0, 4104.0, 134721.0, 3.99, 57.18, 6.98, 187.0], [16480485.0, 654036.0, 9468087.0, 6358362.0, 228693.0, 5415.0, 174623.0, 3.97, 57.45, 6.91, 187.0]], 'date': ['2020-01-22', '2020-01-23', '2020-01-24', '2020-01-25', '2020-01-26', '2020-01-27', '2020-01-28', '2020-01-29', '2020-01-30', '2020-01-31', '2020-02-01', '2020-02-02', '2020-02-03', '2020-02-04', '2020-02-05', '2020-02-06', '2020-02-07', '2020-02-08', '2020-02-09', '2020-02-10', '2020-02-11', '2020-02-12', '2020-02-13', '2020-02-14', '2020-02-15', '2020-02-16', '2020-02-17', '2020-02-18', '2020-02-19', '2020-02-20', '2020-02-21', '2020-02-22', '2020-02-23', '2020-02-24', '2020-02-25', '2020-02-26', '2020-02-27', '2020-02-28', '2020-02-29', '2020-03-01', '2020-03-02', '2020-03-03', '2020-03-04', '2020-03-05', '2020-03-06', '2020-03-07', '2020-03-08', '2020-03-09', '2020-03-10', '2020-03-11', '2020-03-12', '2020-03-13', '2020-03-14', '2020-03-15', '2020-03-16', '2020-03-17', '2020-03-18', '2020-03-19', '2020-03-20', '2020-03-21', '2020-03-22', '2020-03-23', '2020-03-24', '2020-03-25', '2020-03-26', '2020-03-27', '2020-03-28', '2020-03-29', '2020-03-30', '2020-03-31', '2020-04-01', '2020-04-02', '2020-04-03', '2020-04-04', '2020-04-05', '2020-04-06', '2020-04-07', '2020-04-08', '2020-04-09', '2020-04-10', '2020-04-11', '2020-04-12', '2020-04-13', '2020-04-14', '2020-04-15', '2020-04-16', '2020-04-17', '2020-04-18', '2020-04-19', '2020-04-20', '2020-04-21', '2020-04-22', '2020-04-23', '2020-04-24', '2020-04-25', '2020-04-26', '2020-04-27', '2020-04-28', '2020-04-29', '2020-04-30', '2020-05-01', '2020-05-02', '2020-05-03', '2020-05-04', '2020-05-05', '2020-05-06', '2020-05-07', '2020-05-08', '2020-05-09', '2020-05-10', '2020-05-11', '2020-05-12', '2020-05-13', '2020-05-14', '2020-05-15', '2020-05-16', '2020-05-17', '2020-05-18', '2020-05-19', '2020-05-20', '2020-05-21', '2020-05-22', '2020-05-23', '2020-05-24', '2020-05-25', '2020-05-26', '2020-05-27', '2020-05-28', '2020-05-29', '2020-05-30', '2020-05-31', '2020-06-01', '2020-06-02', '2020-06-03', '2020-06-04', '2020-06-05', '2020-06-06', '2020-06-07', '2020-06-08', '2020-06-09', '2020-06-10', '2020-06-11', '2020-06-12', '2020-06-13', '2020-06-14', '2020-06-15', '2020-06-16', '2020-06-17', '2020-06-18', '2020-06-19', '2020-06-20', '2020-06-21', '2020-06-22', '2020-06-23', '2020-06-24', '2020-06-25', '2020-06-26', '2020-06-27', '2020-06-28', '2020-06-29', '2020-06-30', '2020-07-01', '2020-07-02', '2020-07-03', '2020-07-04', '2020-07-05', '2020-07-06', '2020-07-07', '2020-07-08', '2020-07-09', '2020-07-10', '2020-07-11', '2020-07-12', '2020-07-13', '2020-07-14', '2020-07-15', '2020-07-16', '2020-07-17', '2020-07-18', '2020-07-19', '2020-07-20', '2020-07-21', '2020-07-22', '2020-07-23', '2020-07-24', '2020-07-25', '2020-07-26', '2020-07-27'], 'header': ['Confirmed', 'Deaths', 'Recovered', 'Active', 'New cases', 'New deaths', 'New recovered', 'Deaths / 100 Cases', 'Recovered / 100 Cases', 'Deaths / 100 Recovered', 'No. of countries']}\n",
    "\n",
    "print(covid.keys())"
   ]
  },
  {
   "cell_type": "code",
   "execution_count": 178,
   "metadata": {},
   "outputs": [
    {
     "name": "stdout",
     "output_type": "stream",
     "text": [
      "{'Confirmed': 555.0, 'Deaths': 17.0, 'Recovered': 28.0, 'Active': 510.0, 'New cases': 0.0, 'New deaths': 0.0, 'New recovered': 0.0, 'Deaths / 100 Cases': 3.06, 'Recovered / 100 Cases': 5.05, 'Deaths / 100 Recovered': 60.71, 'No. of countries': 6.0}\n"
     ]
    }
   ],
   "source": [
    "# print(covid['date']) # 2020-01-22\n",
    "\n",
    "# get data from 2020-01-22\n",
    "\n",
    "data=np.array(covid['data'])\n",
    "header=np.array(covid['header'])\n",
    "date=np.array(covid['date'])\n",
    "\n",
    "dic={}\n",
    "index=np.where(date=='2020-01-22')[0][0] # find index of value\n",
    "\n",
    "for h,d in zip(header,data[index]):\n",
    "    dic[h]=d\n",
    "\n",
    "print(dic)"
   ]
  },
  {
   "cell_type": "code",
   "execution_count": 180,
   "metadata": {},
   "outputs": [
    {
     "name": "stdout",
     "output_type": "stream",
     "text": [
      "2 0\n",
      "941.0\n",
      "<class 'list'>\n"
     ]
    }
   ],
   "source": [
    "# Cumulative diagnosis people\n",
    "row_index=covid['date'].index(\"2020-01-24\")\n",
    "column_index=covid['header'].index('Confirmed')\n",
    "print(row_index,column_index)\n",
    "cumulative_people=data[row_index,column_index]\n",
    "print(cumulative_people)\n"
   ]
  },
  {
   "cell_type": "code",
   "execution_count": 188,
   "metadata": {},
   "outputs": [
    {
     "name": "stdout",
     "output_type": "stream",
     "text": [
      "9966.0\n"
     ]
    }
   ],
   "source": [
    "# 2020 年 7 月 23 日的新增死亡数是多少？\n",
    "column_index=np.where(header=='New deaths')[0][0]\n",
    "row_index=np.where(date=='2020-07-23')[0][0]\n",
    "\n",
    "new_death=data[row_index,column_index]\n",
    "print(new_death)"
   ]
  },
  {
   "cell_type": "code",
   "execution_count": 192,
   "metadata": {},
   "outputs": [
    {
     "name": "stdout",
     "output_type": "stream",
     "text": [
      "total new increase:  623498.0\n"
     ]
    }
   ],
   "source": [
    "# 从 1 月 25 日到 7 月 22 日，一共增长了多少确诊病例？\n",
    "new_case_index=np.where(header=='New cases')[0][0]\n",
    "\n",
    "row_index1=np.where(date=='2020-01-25')[0][0]\n",
    "row_index2=np.where(date=='2020-07-22')[0][0]\n",
    "\n",
    "new_case=data[row_index1+1:row_index2+1,column_index]\n",
    "print('total new increase: ',new_case.sum())"
   ]
  },
  {
   "cell_type": "markdown",
   "metadata": {},
   "source": [
    "## 3.2 Data cleaning"
   ]
  },
  {
   "cell_type": "code",
   "execution_count": 1,
   "metadata": {},
   "outputs": [
    {
     "name": "stdout",
     "output_type": "stream",
     "text": [
      "[['Name', 'StudentID', 'Age', 'AttendClass', 'Score'], ['小明', 20131, 10, 1, 67], ['小花', 20132, 11, 1, 88], ['小菜', 20133, None, 1, '98'], ['小七', 20134, 8, 1, 110], ['花菜', 20134, 98, 0, None], ['刘欣', 20136, 12, 0, 12]]\n"
     ]
    }
   ],
   "source": [
    "import numpy as np\n",
    "row_data = [\n",
    "[\"Name\", \"StudentID\", \"Age\", \"AttendClass\", \"Score\"],\n",
    "[\"小明\", 20131, 10, 1, 67],\n",
    "[\"小花\", 20132, 11, 1, 88],\n",
    "[\"小菜\", 20133, None, 1, \"98\"],\n",
    "[\"小七\", 20134, 8, 1, 110],\n",
    "[\"花菜\", 20134, 98, 0, None],\n",
    "[\"刘欣\", 20136, 12, 0, 12]\n",
    "]\n",
    "print(row_data)"
   ]
  },
  {
   "cell_type": "code",
   "execution_count": 2,
   "metadata": {},
   "outputs": [
    {
     "data": {
      "text/plain": [
       "array([['Name', 'StudentID', 'Age', 'AttendClass', 'Score'],\n",
       "       ['小明', 20131, 10, 1, 67],\n",
       "       ['小花', 20132, 11, 1, 88],\n",
       "       ['小菜', 20133, None, 1, '98'],\n",
       "       ['小七', 20134, 8, 1, 110],\n",
       "       ['花菜', 20134, 98, 0, None],\n",
       "       ['刘欣', 20136, 12, 0, 12]], dtype=object)"
      ]
     },
     "execution_count": 2,
     "metadata": {},
     "output_type": "execute_result"
    }
   ],
   "source": [
    "data=np.array(row_data)\n",
    "data # this is a numpy object"
   ]
  },
  {
   "cell_type": "code",
   "execution_count": 3,
   "metadata": {},
   "outputs": [
    {
     "name": "stdout",
     "output_type": "stream",
     "text": [
      "int64\n",
      "float64\n",
      "float64\n"
     ]
    },
    {
     "name": "stderr",
     "output_type": "stream",
     "text": [
      "/tmp/ipykernel_1776/1397603918.py:4: DeprecationWarning: `np.float` is a deprecated alias for the builtin `float`. To silence this warning, use `float` by itself. Doing this will not modify any behavior and is safe. If you specifically wanted the numpy scalar type, use `np.float64` here.\n",
      "Deprecated in NumPy 1.20; for more details and guidance: https://numpy.org/devdocs/release/1.20.0-notes.html#deprecations\n",
      "  test3=np.array([1,2,3],dtype=np.float)\n"
     ]
    }
   ],
   "source": [
    "# test numpy object， different numpy array will have different data type\n",
    "test1=np.array([1,2,3])\n",
    "test2=np.array([1.1,2.2,3.3])\n",
    "test3=np.array([1,2,3],dtype=np.float)\n",
    "\n",
    "print(test1.dtype)\n",
    "print(test2.dtype)\n",
    "print(test3.dtype)\n"
   ]
  },
  {
   "cell_type": "code",
   "execution_count": 4,
   "metadata": {},
   "outputs": [
    {
     "name": "stdout",
     "output_type": "stream",
     "text": [
      "data.dtype float64\n",
      "[[2.0131e+04 1.0000e+01 1.0000e+00 6.7000e+01]\n",
      " [2.0132e+04 1.1000e+01 1.0000e+00 8.8000e+01]\n",
      " [2.0133e+04        nan 1.0000e+00 9.8000e+01]\n",
      " [2.0134e+04 8.0000e+00 1.0000e+00 1.1000e+02]\n",
      " [2.0134e+04 9.8000e+01 0.0000e+00        nan]\n",
      " [2.0136e+04 1.2000e+01 0.0000e+00 1.2000e+01]]\n",
      "(6, 4)\n"
     ]
    },
    {
     "name": "stderr",
     "output_type": "stream",
     "text": [
      "/tmp/ipykernel_1776/3154759349.py:7: DeprecationWarning: `np.float` is a deprecated alias for the builtin `float`. To silence this warning, use `float` by itself. Doing this will not modify any behavior and is safe. If you specifically wanted the numpy scalar type, use `np.float64` here.\n",
      "Deprecated in NumPy 1.20; for more details and guidance: https://numpy.org/devdocs/release/1.20.0-notes.html#deprecations\n",
      "  data = np.array(data_process, dtype=np.float)\n"
     ]
    }
   ],
   "source": [
    "data_process = []\n",
    "for i in range(len(row_data)):\n",
    "    if i == 0:\n",
    "        continue    # 不要首行字符串\n",
    "    # 去掉首列名字\n",
    "    data_process.append(row_data[i][1:])\n",
    "data = np.array(data_process, dtype=np.float)\n",
    "print(\"data.dtype\", data.dtype)\n",
    "print(data)\n",
    "print(data.shape)"
   ]
  },
  {
   "cell_type": "code",
   "execution_count": 5,
   "metadata": {},
   "outputs": [
    {
     "name": "stdout",
     "output_type": "stream",
     "text": [
      "[20131. 20132. 20133. 20134. 20134. 20136.]\n",
      "[20131. 20132. 20133. 20134. 20136.]\n",
      "[1 1 1 2 1]\n",
      "[20134.]\n"
     ]
    }
   ],
   "source": [
    "# data cleanning\n",
    "sid = data[:, 0]\n",
    "unique, counts = np.unique(sid, return_counts=True) # get unit data and count\n",
    "print(sid)\n",
    "print(unique)     \n",
    "print(counts)\n",
    "\n",
    "print(unique[counts>1])\n",
    "data[4,0]=20135"
   ]
  },
  {
   "cell_type": "code",
   "execution_count": 11,
   "metadata": {},
   "outputs": [
    {
     "name": "stdout",
     "output_type": "stream",
     "text": [
      "is_nan [False False  True False False False]\n",
      "[[2]]\n",
      "mean age:  27.8\n"
     ]
    }
   ],
   "source": [
    "is_nan=np.isnan(data[:,1])\n",
    "print(\"is_nan\",is_nan)\n",
    "nan_idx=np.argwhere(is_nan)\n",
    "print(nan_idx)\n",
    "mean_age=data[~np.isnan(data[:,1]),1].mean()\n",
    "print('mean age: ',mean_age)"
   ]
  },
  {
   "cell_type": "code",
   "execution_count": 17,
   "metadata": {},
   "outputs": [
    {
     "name": "stdout",
     "output_type": "stream",
     "text": [
      "normal_age_mask:  [ True  True False  True False  True]\n",
      "data:\n",
      " [[2.0131e+04 1.0000e+01 1.0000e+00 6.7000e+01]\n",
      " [2.0132e+04 1.1000e+01 1.0000e+00 8.8000e+01]\n",
      " [2.0133e+04        nan 1.0000e+00 9.8000e+01]\n",
      " [2.0134e+04 8.0000e+00 1.0000e+00 1.1000e+02]\n",
      " [2.0135e+04 9.8000e+01 0.0000e+00        nan]\n",
      " [2.0136e+04 1.2000e+01 0.0000e+00 1.2000e+01]] \n",
      "\n",
      "normal_age_mean:  10.25\n",
      "new data:\n",
      " [[2.0131e+04 1.0000e+01 1.0000e+00 6.7000e+01]\n",
      " [2.0132e+04 1.1000e+01 1.0000e+00 8.8000e+01]\n",
      " [2.0133e+04 1.0250e+01 1.0000e+00 9.8000e+01]\n",
      " [2.0134e+04 8.0000e+00 1.0000e+00 1.1000e+02]\n",
      " [2.0135e+04 1.0250e+01 0.0000e+00        nan]\n",
      " [2.0136e+04 1.2000e+01 0.0000e+00 1.2000e+01]]\n"
     ]
    }
   ],
   "source": [
    "normal_age_mask=~np.isnan(data[:,1]) & (data[:,1]<20)\n",
    "print('normal_age_mask: ',normal_age_mask)\n",
    "\n",
    "print('data:\\n',data,'\\n')\n",
    "normal_age_mean=data[normal_age_mask,1].mean()\n",
    "print('normal_age_mean: ',normal_age_mean)\n",
    "\n",
    "data[~normal_age_mask,1]=normal_age_mean\n",
    "print('new data:\\n',data)"
   ]
  },
  {
   "cell_type": "code",
   "execution_count": 19,
   "metadata": {},
   "outputs": [
    {
     "name": "stdout",
     "output_type": "stream",
     "text": [
      "cleaned data:\n",
      " [[2.0131e+04 1.0000e+01 1.0000e+00 6.7000e+01]\n",
      " [2.0132e+04 1.1000e+01 1.0000e+00 8.8000e+01]\n",
      " [2.0133e+04 1.0250e+01 1.0000e+00 9.8000e+01]\n",
      " [2.0134e+04 8.0000e+00 1.0000e+00 1.0000e+02]\n",
      " [2.0135e+04 1.0250e+01 0.0000e+00        nan]\n",
      " [2.0136e+04 1.2000e+01 0.0000e+00        nan]]\n"
     ]
    }
   ],
   "source": [
    "data[data[:,2]==0 ,3]=np.nan\n",
    "\n",
    "data[:,3]=np.clip(data[:,3],0,100) # Set the upper and lower limits of the score\n",
    "\n",
    "print('cleaned data:\\n',data)"
   ]
  },
  {
   "cell_type": "markdown",
   "metadata": {},
   "source": [
    "# 4 Numpy for machine learning\n",
    "## 4.1 Matrix operation for nerual network\n",
    "1. weigths\n",
    "2. bias\n",
    "3. activate function"
   ]
  },
  {
   "cell_type": "code",
   "execution_count": 54,
   "metadata": {},
   "outputs": [
    {
     "name": "stdout",
     "output_type": "stream",
     "text": [
      "data shape:  (4, 3)\n",
      "weights shape:  (3, 2)\n",
      "output shape:  (4, 2)\n"
     ]
    }
   ],
   "source": [
    "import numpy as np\n",
    "\n",
    "data=np.random.rand(4,3)\n",
    "weights=np.random.rand(3,2)\n",
    "output=np.dot(data,weights)\n",
    "\n",
    "print('data shape: ',data.shape)\n",
    "print('weights shape: ',weights.shape)\n",
    "print('output shape: ',output.shape)\n"
   ]
  },
  {
   "cell_type": "code",
   "execution_count": 56,
   "metadata": {},
   "outputs": [
    {
     "name": "stdout",
     "output_type": "stream",
     "text": [
      "student score:  [2.72117757]\n"
     ]
    }
   ],
   "source": [
    "# regerssion model example: use a modle to predict a student's score\n",
    "student=np.array([1,2,3]) # the characteristic value for student's score\n",
    "model=np.random.rand(3,1) # model store the coeffecience of student's score\n",
    "score=np.dot(student,model)\n",
    "\n",
    "print('student score: ',score)"
   ]
  },
  {
   "cell_type": "code",
   "execution_count": 74,
   "metadata": {},
   "outputs": [
    {
     "name": "stdout",
     "output_type": "stream",
     "text": [
      "student:\n",
      " [ 0.1  0.2 -0.3]\n",
      "model:\n",
      " [[0.62144907]\n",
      " [0.05995287]\n",
      " [0.63570064]]\n",
      "succeed\n"
     ]
    }
   ],
   "source": [
    "# classify example:\n",
    "def sigmoid(x):\n",
    "    return 1/(1+np.exp(x))\n",
    "\n",
    "student=np.array([0.1,0.2,-0.3])\n",
    "model=np.random.rand(3,1)\n",
    "output=np.dot(student,model)\n",
    "\n",
    "print('student:\\n',student)\n",
    "print('model:\\n',model)\n",
    "\n",
    "result=sigmoid(output)\n",
    "if result<0.5:\n",
    "    level=\"fail\"\n",
    "else:\n",
    "    level='succeed'\n",
    "\n",
    "print(level)"
   ]
  },
  {
   "cell_type": "code",
   "execution_count": 75,
   "metadata": {},
   "outputs": [
    {
     "data": {
      "image/png": "[encoded data removed]",
      "text/plain": [
       "<Figure size 432x288 with 1 Axes>"
      ]
     },
     "metadata": {
      "needs_background": "light"
     },
     "output_type": "display_data"
    }
   ],
   "source": [
    "# multi-layer nuraul network forward\n",
    "import matplotlib.pylab as plt\n",
    "\n",
    "def draw_scatter(x,y):\n",
    "    plt.scatter(x.ravel(), y.ravel())\n",
    "    plt.show()\n",
    "\n",
    "x=np.linspace(-1,1,10)[:,None]\n",
    "y=np.random.normal(loc=0,scale=0.2,size=[10,1])+x\n",
    "draw_scatter(x,y)"
   ]
  },
  {
   "cell_type": "code",
   "execution_count": 78,
   "metadata": {},
   "outputs": [
    {
     "name": "stdout",
     "output_type": "stream",
     "text": [
      "output of first layer shape:  (10, 3)\n",
      "output of second layer shape:  (10, 1)\n",
      "output:  [[0.13078652]\n",
      " [0.12501857]\n",
      " [0.11925063]\n",
      " [0.11348268]\n",
      " [0.10771473]\n",
      " [0.10194678]\n",
      " [0.09617884]\n",
      " [0.09041089]\n",
      " [0.08464294]\n",
      " [0.078875  ]]\n"
     ]
    },
    {
     "data": {
      "image/png": "[encoded data removed]",
      "text/plain": [
       "<Figure size 432x288 with 1 Axes>"
      ]
     },
     "metadata": {
      "needs_background": "light"
     },
     "output_type": "display_data"
    }
   ],
   "source": [
    "def layer(in_dim, out_dim):\n",
    "    weights=np.random.normal(loc=0,scale=0.1,size=[in_dim,out_dim])\n",
    "    bias=np.full([1,out_dim],0.1)\n",
    "\n",
    "    return {'w':weights,'b':bias}\n",
    "\n",
    "# models\n",
    "l1=layer(1,3)\n",
    "l2=layer(3,1)\n",
    "\n",
    "# calculation\n",
    "o=x.dot(l1['w'])+l1['b']\n",
    "print('output of first layer shape: ',o.shape)\n",
    "\n",
    "o=o.dot(l2['w'])+l2['b']\n",
    "print(\"output of second layer shape: \",o.shape)\n",
    "\n",
    "print('output: ',o)\n",
    "draw_scatter(x,o)"
   ]
  },
  {
   "cell_type": "code",
   "execution_count": 80,
   "metadata": {},
   "outputs": [
    {
     "name": "stdout",
     "output_type": "stream",
     "text": [
      "(10, 1)\n"
     ]
    },
    {
     "data": {
      "image/png": "[encoded data removed]",
      "text/plain": [
       "<Figure size 432x288 with 1 Axes>"
      ]
     },
     "metadata": {
      "needs_background": "light"
     },
     "output_type": "display_data"
    }
   ],
   "source": [
    "# activate funcion\n",
    "\n",
    "# there two most famous activate funcion: tanh and ReLu\n",
    "\n",
    "def relu(x):\n",
    "    return np.maximum(0,x)\n",
    "\n",
    "def tanh(x):\n",
    "    return np.tanh(x)\n",
    "\n",
    "# first layer\n",
    "o=x.dot(l1['w'])+l1['b']\n",
    "\n",
    "# use activate function\n",
    "o=relu(o)\n",
    "\n",
    "o=o.dot(l2['w'])+l2['b']\n",
    "\n",
    "print(o.shape)\n",
    "draw_scatter(x,o)"
   ]
  },
  {
   "cell_type": "markdown",
   "metadata": {},
   "source": [
    "## 4.2 automatic training\n"
   ]
  },
  {
   "cell_type": "code",
   "execution_count": 83,
   "metadata": {},
   "outputs": [
    {
     "data": {
      "image/png": "[encoded data removed]",
      "text/plain": [
       "<Figure size 432x288 with 1 Axes>"
      ]
     },
     "metadata": {
      "needs_background": "light"
     },
     "output_type": "display_data"
    }
   ],
   "source": [
    "x=np.linspace(-1,1,10)[:,None] # shape [10,1]\n",
    "y=np.random.normal(loc=0,scale=0.2,size=[10,1]) + x # shape [10,1]\n",
    "\n",
    "draw_scatter(x,y)"
   ]
  },
  {
   "cell_type": "code",
   "execution_count": 84,
   "metadata": {},
   "outputs": [
    {
     "name": "stdout",
     "output_type": "stream",
     "text": [
      "第一层出来后的 shape: (10, 3)\n",
      "第二层出来后的 shape: (10, 1)\n",
      "output: [[0.08860575]\n",
      " [0.0883685 ]\n",
      " [0.08813125]\n",
      " [0.087894  ]\n",
      " [0.08765675]\n",
      " [0.0874195 ]\n",
      " [0.08718225]\n",
      " [0.086945  ]\n",
      " [0.08670775]\n",
      " [0.0864705 ]]\n"
     ]
    },
    {
     "data": {
      "image/png": "[encoded data removed]",
      "text/plain": [
       "<Figure size 432x288 with 1 Axes>"
      ]
     },
     "metadata": {
      "needs_background": "light"
     },
     "output_type": "display_data"
    }
   ],
   "source": [
    "# prediction of model\n",
    "def layer(in_dim, out_dim):\n",
    "    weights = np.random.normal(loc=0, scale=0.1, size=[in_dim, out_dim])\n",
    "    bias = np.full([1, out_dim], 0.1)\n",
    "    return {\"w\": weights, \"b\": bias}\n",
    "\n",
    "# 模型\n",
    "l1 = layer(1, 3)\n",
    "l2 = layer(3, 1)\n",
    "\n",
    "# 计算\n",
    "o = x.dot(l1[\"w\"]) + l1[\"b\"]\n",
    "print(\"第一层出来后的 shape:\", o.shape)\n",
    "\n",
    "o = o.dot(l2[\"w\"]) + l2[\"b\"]\n",
    "print(\"第二层出来后的 shape:\", o.shape)\n",
    "\n",
    "print(\"output:\", o)\n",
    "draw_scatter(x, o)"
   ]
  },
  {
   "cell_type": "code",
   "execution_count": null,
   "metadata": {},
   "outputs": [],
   "source": [
    "# back propagation\n",
    "## TBD"
   ]
  },
  {
   "cell_type": "markdown",
   "metadata": {},
   "source": [
    "# Numpy for matrix"
   ]
  },
  {
   "cell_type": "code",
   "execution_count": 1,
   "metadata": {},
   "outputs": [],
   "source": [
    "import numpy as np"
   ]
  },
  {
   "cell_type": "code",
   "execution_count": 2,
   "metadata": {},
   "outputs": [
    {
     "data": {
      "text/plain": [
       "array([[ 1, -1,  5],\n",
       "       [ 2,  0,  7],\n",
       "       [-3, -5, -3]])"
      ]
     },
     "execution_count": 2,
     "metadata": {},
     "output_type": "execute_result"
    }
   ],
   "source": [
    "A=np.array([\n",
    "    [1,-1,5],\n",
    "    [2,0,7],\n",
    "    [-3,-5,-3]\n",
    "])\n",
    "\n",
    "u=np.array([\n",
    "    [-7],\n",
    "    [3],\n",
    "    [2],\n",
    "])"
   ]
  }
 ],
 "metadata": {
  "interpreter": {
   "hash": "739b70e327d77fa390029bdbeb4da01ad4b0f1ef5ecbb5339bfdca56a0091f0f"
  },
  "kernelspec": {
   "display_name": "Python 3.9.7 ('myenv')",
   "language": "python",
   "name": "python3"
  },
  "language_info": {
   "codemirror_mode": {
    "name": "ipython",
    "version": 3
   },
   "file_extension": ".py",
   "mimetype": "text/x-python",
   "name": "python",
   "nbconvert_exporter": "python",
   "pygments_lexer": "ipython3",
   "version": "3.9.7"
  },
  "orig_nbformat": 4
 },
 "nbformat": 4,
 "nbformat_minor": 2
}
