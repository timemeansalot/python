{
 "cells": [
  {
   "cell_type": "markdown",
   "metadata": {},
   "source": [
    "# Numpy Learn\n",
    "Numpy is more powerful than Python List"
   ]
  },
  {
   "cell_type": "code",
   "execution_count": 4,
   "metadata": {},
   "outputs": [
    {
     "name": "stdout",
     "output_type": "stream",
     "text": [
      "[[0.05864926 0.79626045 0.65767279]\n",
      " [0.07895278 0.47045533 0.60000138]]\n",
      "[1 2 3]\n"
     ]
    }
   ],
   "source": [
    "import numpy as np\n",
    "\n",
    "print(np.random.rand(2,3))\n",
    "\n",
    "print(np.array([1,2,3]))"
   ]
  },
  {
   "cell_type": "code",
   "execution_count": 6,
   "metadata": {},
   "outputs": [
    {
     "name": "stdout",
     "output_type": "stream",
     "text": [
      "time used by list: 0.059s\n",
      "time used by np: 0.008\n"
     ]
    }
   ],
   "source": [
    "import time\n",
    "\n",
    "t0=time.time()\n",
    "\n",
    "L=list(range(100)) # get a list\n",
    "for _ in range(10000):\n",
    "    for i in range(len(L)):\n",
    "        L[i]+=1\n",
    "\n",
    "t1=time.time()\n",
    "a=np.array(L)\n",
    "for _ in range(10000):\n",
    "    a+=1 # I even don't need for loop to make every element in np + 1\n",
    "\n",
    "print('time used by list: {:.3f}s'.format(t1-t0))\n",
    "print('time used by np: {:.3f}'.format(time.time()-t1))"
   ]
  },
  {
   "cell_type": "markdown",
   "metadata": {},
   "source": [
    "# 1 Numpy Basic\n",
    "## 1.1 dimension in numpy\n",
    "1. ndim: return dimension info\n",
    "2. size: return how much elements in an array\n",
    "3. concatenate: add array together\n",
    "4. expand_dims: expand dimension\n",
    "5. hstack, vstack: stack arrays"
   ]
  },
  {
   "cell_type": "code",
   "execution_count": 7,
   "metadata": {},
   "outputs": [
    {
     "name": "stdout",
     "output_type": "stream",
     "text": [
      "data:  [ 5 10 12  6] \n",
      "dimmension:  1\n"
     ]
    }
   ],
   "source": [
    "cars=np.array([5,10,12,6])\n",
    "\n",
    "print('data: ',cars,'\\ndimmension: ',cars.ndim) # ndim return array dimentsion"
   ]
  },
  {
   "cell_type": "code",
   "execution_count": 8,
   "metadata": {},
   "outputs": [
    {
     "name": "stdout",
     "output_type": "stream",
     "text": [
      "data:  [[1 2 3]\n",
      " [4 5 6]\n",
      " [7 8 9]] \n",
      "dimmension:  2\n"
     ]
    }
   ],
   "source": [
    "cars=np.array([\n",
    "    [1,2,3],\n",
    "    [4,5,6],\n",
    "    [7,8,9]\n",
    "])\n",
    "print('data: ',cars,'\\ndimmension: ',cars.ndim) "
   ]
  },
  {
   "cell_type": "code",
   "execution_count": 10,
   "metadata": {},
   "outputs": [
    {
     "name": "stdout",
     "output_type": "stream",
     "text": [
      "[ 1  2  3  4 11 22]\n"
     ]
    }
   ],
   "source": [
    "# add data\n",
    "cars1=np.array([1,2,3,4])\n",
    "cars2=np.array([11,22])\n",
    "\n",
    "cars=np.concatenate([cars1,cars2]) # add to np array together\n",
    "print(cars)"
   ]
  },
  {
   "cell_type": "code",
   "execution_count": 29,
   "metadata": {},
   "outputs": [
    {
     "name": "stdout",
     "output_type": "stream",
     "text": [
      "[1 2 3 4]\n",
      "[[1 2 3 4]]\n",
      "[[1]\n",
      " [2]\n",
      " [3]\n",
      " [4]]\n",
      "test new:  [4 3 2 1]\n",
      "[[4 3 2 1]]\n",
      "[[4]\n",
      " [3]\n",
      " [2]\n",
      " [1]]\n",
      "[[1 2 3 4]\n",
      " [4 3 2 1]]\n"
     ]
    }
   ],
   "source": [
    "# add data to 2 dimension array\n",
    "test=np.array([1,2,3,4])\n",
    "print(test)\n",
    "test1=np.expand_dims(test,0) # expande array dimention horizontal\n",
    "print(test1)\n",
    "test2=np.expand_dims(test,1) # expande array dimension vertical\n",
    "print(test2)\n",
    "\n",
    "# test_new=[test[-1-i] for i in range(len(test))]\n",
    "test_new=test[::-1]\n",
    "print('test new: ',test_new)\n",
    "\n",
    "\n",
    "test3=test_new[np.newaxis,:]\n",
    "print(test3)\n",
    "test4=test_new[:,np.newaxis]\n",
    "print(test4)\n",
    "\n",
    "add_test=np.concatenate([test1,test3])\n",
    "print(add_test)"
   ]
  },
  {
   "cell_type": "code",
   "execution_count": 31,
   "metadata": {},
   "outputs": [
    {
     "name": "stdout",
     "output_type": "stream",
     "text": [
      "add in 1th dimension:\n",
      " [[1 2 3 4]\n",
      " [4 3 2 1]\n",
      " [1 2 3 4]\n",
      " [4 3 2 1]]\n",
      "add in 1th dimension:\n",
      " [[1 2 3 4 1 2 3 4]\n",
      " [4 3 2 1 4 3 2 1]]\n"
     ]
    }
   ],
   "source": [
    "print(\"add in 1th dimension:\\n\",np.concatenate([add_test,add_test],axis=0)) # 沿着第一个维度对齐\n",
    "print(\"add in 1th dimension:\\n\",np.concatenate([add_test,add_test],axis=1)) # 沿着第二个维度对齐"
   ]
  },
  {
   "cell_type": "code",
   "execution_count": 33,
   "metadata": {},
   "outputs": [
    {
     "name": "stdout",
     "output_type": "stream",
     "text": [
      "a is:\n",
      " [[1 2 3]\n",
      " [4 5 6]] \n",
      "b is:\n",
      " [[1 2]\n",
      " [3 4]] \n",
      "c is:\n",
      " [[1 2 3 1 2]\n",
      " [4 5 6 3 4]]\n"
     ]
    }
   ],
   "source": [
    "a=np.array([\n",
    "    [1,2,3],\n",
    "    [4,5,6]\n",
    "])\n",
    "\n",
    "b=np.array([\n",
    "    [1,2],\n",
    "    [3,4]\n",
    "])\n",
    "\n",
    "c=np.concatenate([a,b],axis=1)\n",
    "print(\"a is:\\n\",a,\"\\nb is:\\n\",b,\"\\nc is:\\n\",c)"
   ]
  },
  {
   "cell_type": "code",
   "execution_count": 34,
   "metadata": {},
   "outputs": [
    {
     "name": "stdout",
     "output_type": "stream",
     "text": [
      "vertical stack:\n",
      " [[1 2]\n",
      " [3 4]\n",
      " [5 6]\n",
      " [7 8]]\n",
      "horizontal stack:\n",
      " [[1 2 5 6]\n",
      " [3 4 7 8]]\n"
     ]
    }
   ],
   "source": [
    "a=np.array([\n",
    "    [1,2],\n",
    "    [3,4]\n",
    "])\n",
    "\n",
    "b=np.array([\n",
    "    [5,6],\n",
    "    [7,8]\n",
    "])\n",
    "\n",
    "print('vertical stack:\\n',np.vstack([a,b]))\n",
    "print('horizontal stack:\\n',np.hstack([a,b]))"
   ]
  },
  {
   "cell_type": "code",
   "execution_count": 41,
   "metadata": {},
   "outputs": [
    {
     "name": "stdout",
     "output_type": "stream",
     "text": [
      "element size=  12\n",
      "first dimension:  4\n"
     ]
    },
    {
     "ename": "IndexError",
     "evalue": "tuple index out of range",
     "output_type": "error",
     "traceback": [
      "\u001b[0;31m---------------------------------------------------------------------------\u001b[0m",
      "\u001b[0;31mIndexError\u001b[0m                                Traceback (most recent call last)",
      "\u001b[0;32m/tmp/ipykernel_2399/4154282355.py\u001b[0m in \u001b[0;36m<module>\u001b[0;34m\u001b[0m\n\u001b[1;32m      8\u001b[0m \u001b[0mprint\u001b[0m\u001b[0;34m(\u001b[0m\u001b[0;34m\"element size= \"\u001b[0m\u001b[0;34m,\u001b[0m\u001b[0mcars\u001b[0m\u001b[0;34m.\u001b[0m\u001b[0msize\u001b[0m\u001b[0;34m)\u001b[0m\u001b[0;34m\u001b[0m\u001b[0;34m\u001b[0m\u001b[0m\n\u001b[1;32m      9\u001b[0m \u001b[0mprint\u001b[0m\u001b[0;34m(\u001b[0m\u001b[0;34m'first dimension: '\u001b[0m\u001b[0;34m,\u001b[0m\u001b[0mcars\u001b[0m\u001b[0;34m.\u001b[0m\u001b[0mshape\u001b[0m\u001b[0;34m[\u001b[0m\u001b[0;36m0\u001b[0m\u001b[0;34m]\u001b[0m\u001b[0;34m)\u001b[0m\u001b[0;34m\u001b[0m\u001b[0;34m\u001b[0m\u001b[0m\n\u001b[0;32m---> 10\u001b[0;31m \u001b[0mprint\u001b[0m\u001b[0;34m(\u001b[0m\u001b[0;34m'second dimension: '\u001b[0m\u001b[0;34m,\u001b[0m\u001b[0mcars\u001b[0m\u001b[0;34m.\u001b[0m\u001b[0mshape\u001b[0m\u001b[0;34m[\u001b[0m\u001b[0;36m2\u001b[0m\u001b[0;34m]\u001b[0m\u001b[0;34m)\u001b[0m\u001b[0;34m\u001b[0m\u001b[0;34m\u001b[0m\u001b[0m\n\u001b[0m",
      "\u001b[0;31mIndexError\u001b[0m: tuple index out of range"
     ]
    }
   ],
   "source": [
    "cars=np.array([\n",
    "    [[1,2,3],\n",
    "    [4,5,6],\n",
    "    [7,8,9],\n",
    "    [10,11,12]],\n",
    "    [[1,2,3],\n",
    "    [4,5,6],\n",
    "    [7,8,9],\n",
    "    [10,11,12]]\n",
    "])\n",
    "\n",
    "print(\"element size= \",cars.size)\n",
    "print('first dimension: ',cars.shape[0])\n",
    "print('second dimension: ',cars.shape[2])"
   ]
  }
 ],
 "metadata": {
  "interpreter": {
   "hash": "739b70e327d77fa390029bdbeb4da01ad4b0f1ef5ecbb5339bfdca56a0091f0f"
  },
  "kernelspec": {
   "display_name": "Python 3.9.7 ('myenv')",
   "language": "python",
   "name": "python3"
  },
  "language_info": {
   "codemirror_mode": {
    "name": "ipython",
    "version": 3
   },
   "file_extension": ".py",
   "mimetype": "text/x-python",
   "name": "python",
   "nbconvert_exporter": "python",
   "pygments_lexer": "ipython3",
   "version": "3.9.7"
  },
  "orig_nbformat": 4
 },
 "nbformat": 4,
 "nbformat_minor": 2
}
