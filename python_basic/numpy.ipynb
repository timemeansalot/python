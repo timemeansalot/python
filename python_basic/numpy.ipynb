{
 "cells": [
  {
   "cell_type": "markdown",
   "metadata": {},
   "source": [
    "# Numpy Learn\n",
    "Numpy is more powerful than Python List"
   ]
  },
  {
   "cell_type": "code",
   "execution_count": 4,
   "metadata": {},
   "outputs": [
    {
     "name": "stdout",
     "output_type": "stream",
     "text": [
      "[[0.05864926 0.79626045 0.65767279]\n",
      " [0.07895278 0.47045533 0.60000138]]\n",
      "[1 2 3]\n"
     ]
    }
   ],
   "source": [
    "import numpy as np\n",
    "\n",
    "print(np.random.rand(2,3))\n",
    "\n",
    "print(np.array([1,2,3]))"
   ]
  },
  {
   "cell_type": "code",
   "execution_count": 6,
   "metadata": {},
   "outputs": [
    {
     "name": "stdout",
     "output_type": "stream",
     "text": [
      "time used by list: 0.059s\n",
      "time used by np: 0.008\n"
     ]
    }
   ],
   "source": [
    "import time\n",
    "\n",
    "t0=time.time()\n",
    "\n",
    "L=list(range(100)) # get a list\n",
    "for _ in range(10000):\n",
    "    for i in range(len(L)):\n",
    "        L[i]+=1\n",
    "\n",
    "t1=time.time()\n",
    "a=np.array(L)\n",
    "for _ in range(10000):\n",
    "    a+=1 # I even don't need for loop to make every element in np + 1\n",
    "\n",
    "print('time used by list: {:.3f}s'.format(t1-t0))\n",
    "print('time used by np: {:.3f}'.format(time.time()-t1))"
   ]
  },
  {
   "cell_type": "markdown",
   "metadata": {},
   "source": [
    "# 1 Numpy Basic\n",
    "## 1.1 dimension in numpy\n",
    "1. ndim: return dimension info\n",
    "2. size: return how much elements in an array\n",
    "3. concatenate: add array together\n",
    "4. expand_dims: expand dimension\n",
    "5. hstack, vstack: stack arrays\n",
    "6. shape"
   ]
  },
  {
   "cell_type": "code",
   "execution_count": 7,
   "metadata": {},
   "outputs": [
    {
     "name": "stdout",
     "output_type": "stream",
     "text": [
      "data:  [ 5 10 12  6] \n",
      "dimmension:  1\n"
     ]
    }
   ],
   "source": [
    "cars=np.array([5,10,12,6])\n",
    "\n",
    "print('data: ',cars,'\\ndimmension: ',cars.ndim) # ndim return array dimentsion"
   ]
  },
  {
   "cell_type": "code",
   "execution_count": 81,
   "metadata": {},
   "outputs": [
    {
     "name": "stdout",
     "output_type": "stream",
     "text": [
      "data:  [[1 2 3]\n",
      " [4 5 6]\n",
      " [7 8 9]] \n",
      "dimmension:  2\n"
     ]
    }
   ],
   "source": [
    "cars=np.array([\n",
    "    [1,2,3],\n",
    "    [4,5,6],\n",
    "    [7,8,9]\n",
    "])\n",
    "print('data: ',cars,'\\ndimmension: ',cars.ndim) "
   ]
  },
  {
   "cell_type": "code",
   "execution_count": 10,
   "metadata": {},
   "outputs": [
    {
     "name": "stdout",
     "output_type": "stream",
     "text": [
      "[ 1  2  3  4 11 22]\n"
     ]
    }
   ],
   "source": [
    "# add data\n",
    "cars1=np.array([1,2,3,4])\n",
    "cars2=np.array([11,22])\n",
    "\n",
    "cars=np.concatenate([cars1,cars2]) # add to np array together\n",
    "print(cars)"
   ]
  },
  {
   "cell_type": "code",
   "execution_count": 29,
   "metadata": {},
   "outputs": [
    {
     "name": "stdout",
     "output_type": "stream",
     "text": [
      "[1 2 3 4]\n",
      "[[1 2 3 4]]\n",
      "[[1]\n",
      " [2]\n",
      " [3]\n",
      " [4]]\n",
      "test new:  [4 3 2 1]\n",
      "[[4 3 2 1]]\n",
      "[[4]\n",
      " [3]\n",
      " [2]\n",
      " [1]]\n",
      "[[1 2 3 4]\n",
      " [4 3 2 1]]\n"
     ]
    }
   ],
   "source": [
    "# add data to 2 dimension array\n",
    "test=np.array([1,2,3,4])\n",
    "print(test)\n",
    "test1=np.expand_dims(test,0) # expande array dimention horizontal\n",
    "print(test1)\n",
    "test2=np.expand_dims(test,1) # expande array dimension vertical\n",
    "print(test2)\n",
    "\n",
    "# test_new=[test[-1-i] for i in range(len(test))]\n",
    "test_new=test[::-1]\n",
    "print('test new: ',test_new)\n",
    "\n",
    "\n",
    "test3=test_new[np.newaxis,:]\n",
    "print(test3)\n",
    "test4=test_new[:,np.newaxis]\n",
    "print(test4)\n",
    "\n",
    "add_test=np.concatenate([test1,test3])\n",
    "print(add_test)"
   ]
  },
  {
   "cell_type": "code",
   "execution_count": 31,
   "metadata": {},
   "outputs": [
    {
     "name": "stdout",
     "output_type": "stream",
     "text": [
      "add in 1th dimension:\n",
      " [[1 2 3 4]\n",
      " [4 3 2 1]\n",
      " [1 2 3 4]\n",
      " [4 3 2 1]]\n",
      "add in 1th dimension:\n",
      " [[1 2 3 4 1 2 3 4]\n",
      " [4 3 2 1 4 3 2 1]]\n"
     ]
    }
   ],
   "source": [
    "print(\"add in 1th dimension:\\n\",np.concatenate([add_test,add_test],axis=0)) # 沿着第一个维度对齐\n",
    "print(\"add in 1th dimension:\\n\",np.concatenate([add_test,add_test],axis=1)) # 沿着第二个维度对齐"
   ]
  },
  {
   "cell_type": "code",
   "execution_count": 33,
   "metadata": {},
   "outputs": [
    {
     "name": "stdout",
     "output_type": "stream",
     "text": [
      "a is:\n",
      " [[1 2 3]\n",
      " [4 5 6]] \n",
      "b is:\n",
      " [[1 2]\n",
      " [3 4]] \n",
      "c is:\n",
      " [[1 2 3 1 2]\n",
      " [4 5 6 3 4]]\n"
     ]
    }
   ],
   "source": [
    "a=np.array([\n",
    "    [1,2,3],\n",
    "    [4,5,6]\n",
    "])\n",
    "\n",
    "b=np.array([\n",
    "    [1,2],\n",
    "    [3,4]\n",
    "])\n",
    "\n",
    "c=np.concatenate([a,b],axis=1)\n",
    "print(\"a is:\\n\",a,\"\\nb is:\\n\",b,\"\\nc is:\\n\",c)"
   ]
  },
  {
   "cell_type": "code",
   "execution_count": 34,
   "metadata": {},
   "outputs": [
    {
     "name": "stdout",
     "output_type": "stream",
     "text": [
      "vertical stack:\n",
      " [[1 2]\n",
      " [3 4]\n",
      " [5 6]\n",
      " [7 8]]\n",
      "horizontal stack:\n",
      " [[1 2 5 6]\n",
      " [3 4 7 8]]\n"
     ]
    }
   ],
   "source": [
    "a=np.array([\n",
    "    [1,2],\n",
    "    [3,4]\n",
    "])\n",
    "\n",
    "b=np.array([\n",
    "    [5,6],\n",
    "    [7,8]\n",
    "])\n",
    "\n",
    "print('vertical stack:\\n',np.vstack([a,b]))\n",
    "print('horizontal stack:\\n',np.hstack([a,b]))"
   ]
  },
  {
   "cell_type": "code",
   "execution_count": 44,
   "metadata": {},
   "outputs": [
    {
     "name": "stdout",
     "output_type": "stream",
     "text": [
      "dimensions:  3\n",
      "element size=  24\n",
      "first dimension:  2\n",
      "second dimension:  4\n",
      "third dimension:  3\n"
     ]
    }
   ],
   "source": [
    "cars=np.array([\n",
    "    [[1,2,3],\n",
    "    [4,5,6],\n",
    "    [7,8,9],\n",
    "    [10,11,12]],\n",
    "    [[1,2,3],\n",
    "    [4,5,6],\n",
    "    [7,8,9],\n",
    "    [10,11,12]]\n",
    "])\n",
    "\n",
    "print('dimensions: ',cars.ndim)\n",
    "print(\"element size= \",cars.size)\n",
    "print('first dimension: ',cars.shape[0])\n",
    "print('second dimension: ',cars.shape[1])\n",
    "print('third dimension: ',cars.shape[2])\n"
   ]
  },
  {
   "cell_type": "markdown",
   "metadata": {},
   "source": [
    "## 1.2 select data\n",
    "1. use index to choose item\n",
    "2. use slice to choose item\n",
    "3. a+=1 means add 1 to every item in array\n",
    "4. np.reshape((3,3))"
   ]
  },
  {
   "cell_type": "code",
   "execution_count": 47,
   "metadata": {},
   "outputs": [
    {
     "name": "stdout",
     "output_type": "stream",
     "text": [
      "[1 2 3]\n",
      "1\n",
      "[1 2]\n",
      "[1 1 2 3]\n"
     ]
    }
   ],
   "source": [
    "a=np.array([1,2,3])\n",
    "print(a)\n",
    "print(a[0])\n",
    "print(a[[0,1]]) # choose to items form array a\n",
    "print(a[[0,0,1,2]])# we can define a list [x,x,x,...] to choos multipul elements from array"
   ]
  },
  {
   "cell_type": "code",
   "execution_count": 49,
   "metadata": {},
   "outputs": [
    {
     "name": "stdout",
     "output_type": "stream",
     "text": [
      "[1 2]\n",
      "[2 3]\n",
      "[2 3]\n"
     ]
    }
   ],
   "source": [
    "# slice\n",
    "print(a[0:2]) # choose [0:2) from array\n",
    "print(a[1:])  # choose [1:end] from a\n",
    "print(a[-2:]) # choose from [-2,end] from a\n"
   ]
  },
  {
   "cell_type": "code",
   "execution_count": 52,
   "metadata": {},
   "outputs": [
    {
     "name": "stdout",
     "output_type": "stream",
     "text": [
      "[0 1 2 3 4 5 6 7 8 9]\n",
      "[0 2 4 6 8]\n"
     ]
    }
   ],
   "source": [
    "a=np.array(list(range(10)))\n",
    "print(a)\n",
    "print(a[::2])"
   ]
  },
  {
   "cell_type": "code",
   "execution_count": 65,
   "metadata": {},
   "outputs": [
    {
     "name": "stdout",
     "output_type": "stream",
     "text": [
      "[1 2 3 4 5 6 7 8 9]\n",
      "[[1 2 3]\n",
      " [4 5 6]\n",
      " [7 8 9]]\n",
      "a[:2] is\n",
      " [[1 2 3]\n",
      " [4 5 6]]\n",
      "[[1 2]\n",
      " [4 5]]\n"
     ]
    }
   ],
   "source": [
    "# multi-dimension array\n",
    "a=np.array(list(range(1,10)))\n",
    "print(a)\n",
    "a=a.reshape((3,3)) # reshape array\n",
    "print(a)\n",
    "\n",
    "print('a[:2] is\\n',a[:2])\n",
    "print(a[:2,:2]) "
   ]
  },
  {
   "cell_type": "code",
   "execution_count": 67,
   "metadata": {},
   "outputs": [
    {
     "name": "stdout",
     "output_type": "stream",
     "text": [
      "[8 9]\n",
      "[[ 2  3  4]\n",
      " [ 5  6  7]\n",
      " [ 8  9 10]]\n"
     ]
    }
   ],
   "source": [
    "# select on condition\n",
    "print(a[a>7])\n",
    "\n",
    "# every item +1\n",
    "a=a+1\n",
    "print(a)"
   ]
  },
  {
   "cell_type": "markdown",
   "metadata": {},
   "source": [
    "## 1.3 basic calculation"
   ]
  },
  {
   "cell_type": "code",
   "execution_count": 68,
   "metadata": {},
   "outputs": [
    {
     "name": "stdout",
     "output_type": "stream",
     "text": [
      "[1 2 3 4 5 6 7 8 9]\n",
      "[ 4  5  6  7  8  9 10 11 12]\n"
     ]
    }
   ],
   "source": [
    "# add every item in numpy\n",
    "L=np.array(list(range(1,10)))\n",
    "print(L)\n",
    "\n",
    "L+=3 # every item +3\n",
    "print(L)"
   ]
  },
  {
   "cell_type": "code",
   "execution_count": 76,
   "metadata": {},
   "outputs": [
    {
     "name": "stdout",
     "output_type": "stream",
     "text": [
      "[[1 2]\n",
      " [3 4]]\n",
      "[[5 6]\n",
      " [7 8]]\n",
      "[[19 22]\n",
      " [43 50]]\n",
      "[[19 22]\n",
      " [43 50]]\n"
     ]
    }
   ],
   "source": [
    "# matrix operation\n",
    "a=np.array(list(range(1,5))).reshape((2,2))\n",
    "print(a)\n",
    "\n",
    "b=np.array(list(range(5,9))).reshape((2,2))\n",
    "print(b)\n",
    "\n",
    "print(a.dot(b)) # matrix multiple\n",
    "print(np.dot(a,b))\n"
   ]
  },
  {
   "cell_type": "code",
   "execution_count": 79,
   "metadata": {},
   "outputs": [
    {
     "name": "stdout",
     "output_type": "stream",
     "text": [
      "max data:  4\n",
      "min data:  1\n",
      "sum of data:  10\n"
     ]
    }
   ],
   "source": [
    "# Statistical analysis of data\n",
    "print('max data: ',a.max())\n",
    "print('min data: ',a.min())\n",
    "print('sum of data: ',a.sum())"
   ]
  },
  {
   "cell_type": "code",
   "execution_count": 88,
   "metadata": {},
   "outputs": [
    {
     "name": "stdout",
     "output_type": "stream",
     "text": [
      "[[1 2]\n",
      " [3 4]]\n",
      "sucession multiply:  24\n",
      "size:  4\n",
      "not zero:  4\n",
      "mean value:  2.5\n",
      "medium value:  2.5\n",
      "standard deviation:  1.118033988749895\n"
     ]
    }
   ],
   "source": [
    "print(a)\n",
    "print('sucession multiply: ',a.prod())\n",
    "print('size: ',a.size)\n",
    "print('not zero: ',np.count_nonzero(a))\n",
    "\n",
    "print('mean value: ',a.mean())\n",
    "print('medium value: ',np.median(a))\n",
    "\n",
    "print('standard deviation: ',np.std(a))"
   ]
  },
  {
   "cell_type": "code",
   "execution_count": 90,
   "metadata": {},
   "outputs": [
    {
     "name": "stdout",
     "output_type": "stream",
     "text": [
      "[[1 2]\n",
      " [3 4]]\n",
      "max value index:  3\n",
      "min value index:  0\n",
      "clip:  [160.  166.4 180.  170.8]\n"
     ]
    }
   ],
   "source": [
    "# find index of value\n",
    "print(a)\n",
    "print('max value index: ',np.argmax(a))\n",
    "print('min value index: ',np.argmin(a))\n",
    "\n",
    "a=np.array([150.1,166.4,183.7,170.8])\n",
    "print('clip: ',a.clip(160,180))"
   ]
  },
  {
   "cell_type": "markdown",
   "metadata": {},
   "source": [
    "## 1.4 change data shape"
   ]
  },
  {
   "cell_type": "code",
   "execution_count": 92,
   "metadata": {},
   "outputs": [
    {
     "name": "stdout",
     "output_type": "stream",
     "text": [
      "[1 2 3 4 5 6]\n",
      "[[1 2 3 4 5 6]]\n",
      "[[1 2 3 4 5 6]]\n"
     ]
    }
   ],
   "source": [
    "a=np.array([1,2,3,4,5,6])\n",
    "\n",
    "print(a)\n",
    "\n",
    "a_2d=a[np.newaxis,:]\n",
    "print(a_2d)\n",
    "\n",
    "a_2d2=np.expand_dims(a,0)\n",
    "print(a_2d2)"
   ]
  },
  {
   "cell_type": "code",
   "execution_count": 97,
   "metadata": {},
   "outputs": [
    {
     "name": "stdout",
     "output_type": "stream",
     "text": [
      "[[1]\n",
      " [2]\n",
      " [3]\n",
      " [4]\n",
      " [5]\n",
      " [6]]\n",
      "[[1]\n",
      " [2]\n",
      " [3]\n",
      " [4]\n",
      " [5]\n",
      " [6]]\n",
      "[[1]\n",
      " [2]\n",
      " [3]\n",
      " [4]\n",
      " [5]\n",
      " [6]]\n"
     ]
    }
   ],
   "source": [
    "# ways to change horizontal array to vertical array\n",
    "a_none=a[:,None]\n",
    "print(a_none)\n",
    "\n",
    "a_expand=np.expand_dims(a,axis=1)\n",
    "print(a_expand)\n",
    "\n",
    "a_new_axis=a[:,np.newaxis]\n",
    "print(a_new_axis)"
   ]
  },
  {
   "cell_type": "code",
   "execution_count": 101,
   "metadata": {},
   "outputs": [
    {
     "name": "stdout",
     "output_type": "stream",
     "text": [
      "[[1]\n",
      " [2]\n",
      " [3]\n",
      " [4]\n",
      " [5]\n",
      " [6]]\n",
      "[1 2 3 4 5 6]\n",
      "[1 2 3 4 5 6]\n"
     ]
    }
   ],
   "source": [
    "print(a_expand)\n",
    "\n",
    "# Compress array dimensions\n",
    "a_squeeze=np.squeeze(a_expand)\n",
    "print(a_squeeze)\n",
    "\n",
    "a_squeeze_axis=a_expand.squeeze(axis=1)\n",
    "print(a_squeeze_axis)\n"
   ]
  },
  {
   "cell_type": "code",
   "execution_count": 102,
   "metadata": {},
   "outputs": [
    {
     "name": "stdout",
     "output_type": "stream",
     "text": [
      "a1 shape: (2, 3)\n",
      "[[1 2 3]\n",
      " [4 5 6]]\n",
      "a2 shape: (3, 1, 2)\n",
      "[[[1 2]]\n",
      "\n",
      " [[3 4]]\n",
      "\n",
      " [[5 6]]]\n"
     ]
    }
   ],
   "source": [
    "a = np.array([1,2,3,4,5,6])\n",
    "a1 = a.reshape([2, 3])\n",
    "a2 = a.reshape([3,1,2])\n",
    "print(\"a1 shape:\", a1.shape)\n",
    "print(a1)\n",
    "print(\"a2 shape:\", a2.shape)\n",
    "print(a2)"
   ]
  },
  {
   "cell_type": "code",
   "execution_count": 105,
   "metadata": {},
   "outputs": [
    {
     "name": "stdout",
     "output_type": "stream",
     "text": [
      "[[1 2 3]\n",
      " [4 5 6]]\n",
      "[[1 4]\n",
      " [2 5]\n",
      " [3 6]]\n"
     ]
    }
   ],
   "source": [
    "print(a1)\n",
    "b=np.transpose(a1) # Matrix transpose\n",
    "print(b) "
   ]
  },
  {
   "cell_type": "code",
   "execution_count": 106,
   "metadata": {},
   "outputs": [
    {
     "name": "stdout",
     "output_type": "stream",
     "text": [
      "[[ 1 11]\n",
      " [ 2 22]\n",
      " [ 3 33]\n",
      " [ 4 44]\n",
      " [ 5 55]\n",
      " [ 6 66]]\n"
     ]
    }
   ],
   "source": [
    "feature_a = np.array([1,2,3,4,5,6])\n",
    "feature_b = np.array([11,22,33,44,55,66])\n",
    "c_stack = np.column_stack([feature_a, feature_b])\n",
    "print(c_stack)"
   ]
  },
  {
   "cell_type": "code",
   "execution_count": 107,
   "metadata": {},
   "outputs": [
    {
     "name": "stdout",
     "output_type": "stream",
     "text": [
      "[[0.  1.1]\n",
      " [1.  2.2]]\n"
     ]
    }
   ],
   "source": [
    "sample_a = np.array([0, 1.1, 1.11])\n",
    "sample_b = np.array([1, 2.2,2.22])\n",
    "c_stack = np.row_stack([sample_a, sample_b])\n",
    "print(c_stack)"
   ]
  },
  {
   "cell_type": "code",
   "execution_count": null,
   "metadata": {},
   "outputs": [],
   "source": []
  }
 ],
 "metadata": {
  "interpreter": {
   "hash": "739b70e327d77fa390029bdbeb4da01ad4b0f1ef5ecbb5339bfdca56a0091f0f"
  },
  "kernelspec": {
   "display_name": "Python 3.9.7 ('myenv')",
   "language": "python",
   "name": "python3"
  },
  "language_info": {
   "codemirror_mode": {
    "name": "ipython",
    "version": 3
   },
   "file_extension": ".py",
   "mimetype": "text/x-python",
   "name": "python",
   "nbconvert_exporter": "python",
   "pygments_lexer": "ipython3",
   "version": "3.9.7"
  },
  "orig_nbformat": 4
 },
 "nbformat": 4,
 "nbformat_minor": 2
}
