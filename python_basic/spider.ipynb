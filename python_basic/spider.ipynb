{
 "cells": [
  {
   "cell_type": "markdown",
   "metadata": {},
   "source": [
    "# 1 Python Spider Basics\n",
    "\n",
    "> Learn from \"崔庆才的个人网站\"\n",
    "\n",
    "## 1.1 urllib spider\n",
    "### **urlopen()**\n",
    "### (1) Send Request"
   ]
  },
  {
   "cell_type": "code",
   "execution_count": 4,
   "metadata": {},
   "outputs": [
    {
     "name": "stdout",
     "output_type": "stream",
     "text": [
      "<class 'http.client.HTTPResponse'>\n"
     ]
    }
   ],
   "source": [
    "import urllib.request\n",
    "\n",
    "response=urllib.request.urlopen('https://www.python.org')\n",
    "# print(response.read().decode('utf-8'))\n",
    "with open('python_org.html','w') as f:\n",
    "    f.write(response.read().decode('utf-8'))\n",
    "\n",
    "print(type(response))"
   ]
  },
  {
   "cell_type": "code",
   "execution_count": 11,
   "metadata": {},
   "outputs": [
    {
     "name": "stdout",
     "output_type": "stream",
     "text": [
      "200\n",
      "\n",
      "headers:\n",
      " [('Connection', 'close'), ('Content-Length', '50840'), ('Server', 'nginx'), ('Content-Type', 'text/html; charset=utf-8'), ('X-Frame-Options', 'DENY'), ('Via', '1.1 vegur, 1.1 varnish, 1.1 varnish'), ('Fastly-Original-Body-Size', '50840'), ('Accept-Ranges', 'bytes'), ('Date', 'Tue, 22 Mar 2022 07:14:23 GMT'), ('Age', '1502'), ('X-Served-By', 'cache-iad-kcgs7200119-IAD, cache-tyo11974-TYO'), ('X-Cache', 'HIT, HIT'), ('X-Cache-Hits', '8, 1159'), ('X-Timer', 'S1647933263.490651,VS0,VE0'), ('Vary', 'Cookie'), ('Strict-Transport-Security', 'max-age=63072000; includeSubDomains')]\n",
      "\n",
      "server:\n",
      " nginx\n"
     ]
    }
   ],
   "source": [
    "print(response.status)\n",
    "print('\\nheaders:\\n',response.getheaders()) # get all header value\n",
    "print('\\nserver:\\n',response.getheader('Server')) # get header value by index"
   ]
  },
  {
   "cell_type": "markdown",
   "metadata": {},
   "source": [
    "### (2) Parameter: data\n",
    "- use bytes type\n",
    "- use POST method"
   ]
  },
  {
   "cell_type": "code",
   "execution_count": 12,
   "metadata": {},
   "outputs": [
    {
     "name": "stdout",
     "output_type": "stream",
     "text": [
      "{\n",
      "  \"args\": {}, \n",
      "  \"data\": \"\", \n",
      "  \"files\": {}, \n",
      "  \"form\": {\n",
      "    \"name\": \"germey\"\n",
      "  }, \n",
      "  \"headers\": {\n",
      "    \"Accept-Encoding\": \"identity\", \n",
      "    \"Content-Length\": \"11\", \n",
      "    \"Content-Type\": \"application/x-www-form-urlencoded\", \n",
      "    \"Host\": \"httpbin.org\", \n",
      "    \"User-Agent\": \"Python-urllib/3.9\", \n",
      "    \"X-Amzn-Trace-Id\": \"Root=1-623978db-3c7975976decd6d47625de4d\"\n",
      "  }, \n",
      "  \"json\": null, \n",
      "  \"origin\": \"223.166.14.165\", \n",
      "  \"url\": \"https://httpbin.org/post\"\n",
      "}\n",
      "\n"
     ]
    }
   ],
   "source": [
    "import urllib.parse\n",
    "import urllib.request\n",
    "\n",
    "data=bytes(urllib.parse.urlencode({'name':'germey'}),encoding='utf-8')\n",
    "response=urllib.request.urlopen('https://httpbin.org/post',data=data) # set data to request, request type is POST\n",
    "print(response.read().decode('utf-8'))"
   ]
  },
  {
   "cell_type": "markdown",
   "metadata": {},
   "source": [
    "### (3) Parameter: timeout"
   ]
  },
  {
   "cell_type": "code",
   "execution_count": 16,
   "metadata": {},
   "outputs": [
    {
     "name": "stdout",
     "output_type": "stream",
     "text": [
      "TIME OUT\n"
     ]
    }
   ],
   "source": [
    "\n",
    "# timeout is set to short, not enouph to get server response\n",
    "# this will raise an error\n",
    "# response = urllib.request.urlopen('https://httpbin.org/get', timeout=0.1) \n",
    "\n",
    "import socket\n",
    "import urllib.request\n",
    "import urllib.error\n",
    "\n",
    "try:\n",
    "    response=urllib.request.urlopen('https://httpbin.org/get',timeout=0.1)\n",
    "    print(response.read())\n",
    "except urllib.error.URLError as e:\n",
    "    if isinstance(e.reason,socket.timeout):\n",
    "        print('TIME OUT')\n"
   ]
  },
  {
   "cell_type": "markdown",
   "metadata": {},
   "source": [
    "### **Request**\n",
    "> Request is more powerfule than open() function"
   ]
  },
  {
   "cell_type": "code",
   "execution_count": null,
   "metadata": {},
   "outputs": [],
   "source": [
    "import urllib.request\n",
    "\n",
    "\n"
   ]
  }
 ],
 "metadata": {
  "interpreter": {
   "hash": "739b70e327d77fa390029bdbeb4da01ad4b0f1ef5ecbb5339bfdca56a0091f0f"
  },
  "kernelspec": {
   "display_name": "Python 3.9.7 ('myenv')",
   "language": "python",
   "name": "python3"
  },
  "language_info": {
   "codemirror_mode": {
    "name": "ipython",
    "version": 3
   },
   "file_extension": ".py",
   "mimetype": "text/x-python",
   "name": "python",
   "nbconvert_exporter": "python",
   "pygments_lexer": "ipython3",
   "version": "3.9.7"
  },
  "orig_nbformat": 4
 },
 "nbformat": 4,
 "nbformat_minor": 2
}
