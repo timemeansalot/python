{
 "cells": [
  {
   "cell_type": "markdown",
   "id": "2947e0d6",
   "metadata": {},
   "source": [
    "# 1 条件判断\n",
    "## 1.1 if"
   ]
  },
  {
   "cell_type": "code",
   "execution_count": null,
   "id": "6a2dca50",
   "metadata": {},
   "outputs": [],
   "source": [
    "flag = True\n"
   ]
  }
 ],
 "metadata": {
  "kernelspec": {
   "display_name": "Python 3 (ipykernel)",
   "language": "python",
   "name": "python3"
  },
  "language_info": {
   "codemirror_mode": {
    "name": "ipython",
    "version": 3
   },
   "file_extension": ".py",
   "mimetype": "text/x-python",
   "name": "python",
   "nbconvert_exporter": "python",
   "pygments_lexer": "ipython3",
   "version": "3.9.7"
  }
 },
 "nbformat": 4,
 "nbformat_minor": 5
}
