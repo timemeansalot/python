{
 "cells": [
  {
   "cell_type": "code",
   "execution_count": 3,
   "metadata": {},
   "outputs": [
    {
     "name": "stdout",
     "output_type": "stream",
     "text": [
      "Number of bins required in Next Fit : 4\n"
     ]
    }
   ],
   "source": [
    "def nextfit(weight, c):\n",
    "    res = 1\n",
    "    rem = c\n",
    "    for _ in range(len(weight)):\n",
    "        if rem >= weight[_]:\n",
    "            rem = rem - weight[_]\n",
    "        else:\n",
    "            res += 1\n",
    "            rem = c - weight[_]\n",
    "    return res\n",
    " \n",
    "# Driver Code\n",
    "# weight = [2, 5, 4, 7, 1, 3, 8]\n",
    "weight=[10,10,10,10]\n",
    "c = 10\n",
    " \n",
    "print(\"Number of bins required in Next Fit :\",\n",
    "                           nextfit(weight, c))"
   ]
  }
 ],
 "metadata": {
  "interpreter": {
   "hash": "739b70e327d77fa390029bdbeb4da01ad4b0f1ef5ecbb5339bfdca56a0091f0f"
  },
  "kernelspec": {
   "display_name": "Python 3.9.7 ('myenv')",
   "language": "python",
   "name": "python3"
  },
  "language_info": {
   "codemirror_mode": {
    "name": "ipython",
    "version": 3
   },
   "file_extension": ".py",
   "mimetype": "text/x-python",
   "name": "python",
   "nbconvert_exporter": "python",
   "pygments_lexer": "ipython3",
   "version": "3.9.7"
  },
  "orig_nbformat": 4
 },
 "nbformat": 4,
 "nbformat_minor": 2
}
