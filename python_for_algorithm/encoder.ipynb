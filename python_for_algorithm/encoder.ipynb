{
 "cells": [
  {
   "cell_type": "code",
   "execution_count": 1,
   "metadata": {},
   "outputs": [],
   "source": [
    "import numpy as np"
   ]
  },
  {
   "cell_type": "code",
   "execution_count": 5,
   "metadata": {},
   "outputs": [],
   "source": [
    "def decoder(target_array):\n",
    "    for i in target_array:\n",
    "        print(i)"
   ]
  },
  {
   "cell_type": "code",
   "execution_count": 14,
   "metadata": {},
   "outputs": [
    {
     "name": "stdout",
     "output_type": "stream",
     "text": [
      "b'\\xff\\xfe7\\x004\\x003\\x005\\x005\\x004\\x002\\x005\\x002\\x00'\n",
      "743554252\n",
      "743554252\n"
     ]
    }
   ],
   "source": [
    "text='743554252'\n",
    "text_encode=text.encode('utf-16')\n",
    "print(text_encode)\n",
    "text_decode=text_encode.decode('utf-16')\n",
    "print(text_decode)\n",
    "\n",
    "print(b'\\xff\\xfe7\\x004\\x003\\x005\\x005\\x004\\x002\\x005\\x002\\x00'.decode('utf-16'))"
   ]
  }
 ],
 "metadata": {
  "interpreter": {
   "hash": "739b70e327d77fa390029bdbeb4da01ad4b0f1ef5ecbb5339bfdca56a0091f0f"
  },
  "kernelspec": {
   "display_name": "Python 3.9.7 ('myenv')",
   "language": "python",
   "name": "python3"
  },
  "language_info": {
   "codemirror_mode": {
    "name": "ipython",
    "version": 3
   },
   "file_extension": ".py",
   "mimetype": "text/x-python",
   "name": "python",
   "nbconvert_exporter": "python",
   "pygments_lexer": "ipython3",
   "version": "3.9.7"
  },
  "orig_nbformat": 4
 },
 "nbformat": 4,
 "nbformat_minor": 2
}
