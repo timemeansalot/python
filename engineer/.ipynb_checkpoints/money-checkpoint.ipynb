{
 "cells": [
  {
   "cell_type": "code",
   "execution_count": 1,
   "id": "051c1fe4",
   "metadata": {},
   "outputs": [
    {
     "name": "stdout",
     "output_type": "stream",
     "text": [
      "9521.350000000002\n"
     ]
    }
   ],
   "source": [
    "# month 8~9\n",
    "bank=122.79\n",
    "zfb=10661.86\n",
    "jd=-1263.3\n",
    "\n",
    "rm9=bank+zfb+jd\n",
    "print(rm9)"
   ]
  },
  {
   "cell_type": "code",
   "execution_count": 3,
   "id": "93973f76",
   "metadata": {},
   "outputs": [
    {
     "name": "stdout",
     "output_type": "stream",
     "text": [
      "1916.3000000000002\n"
     ]
    }
   ],
   "source": [
    "# after October rent\n",
    "rm9=2186.3+1730\n",
    "house=-3000\n",
    "tuition=0\n",
    "salary=1500\n",
    "food=-1000\n",
    "ticket=-1000\n",
    "\n",
    "rm10=rm9+house+tuition+salary+food+ticket\n",
    "\n",
    "print(rm10)"
   ]
  },
  {
   "cell_type": "code",
   "execution_count": 10,
   "id": "875b276d",
   "metadata": {},
   "outputs": [
    {
     "name": "stdout",
     "output_type": "stream",
     "text": [
      "-578.6499999999978\n"
     ]
    }
   ],
   "source": [
    "# month 10~11\n",
    "house=-3500\n",
    "salary=2400+1500\n",
    "food=-1000\n",
    "\n",
    "rm11=rm10+house+salary+food\n",
    "\n",
    "print(rm11)"
   ]
  },
  {
   "cell_type": "code",
   "execution_count": null,
   "id": "2a9cdd10",
   "metadata": {},
   "outputs": [],
   "source": []
  }
 ],
 "metadata": {
  "kernelspec": {
   "display_name": "Python 3 (ipykernel)",
   "language": "python",
   "name": "python3"
  },
  "language_info": {
   "codemirror_mode": {
    "name": "ipython",
    "version": 3
   },
   "file_extension": ".py",
   "mimetype": "text/x-python",
   "name": "python",
   "nbconvert_exporter": "python",
   "pygments_lexer": "ipython3",
   "version": "3.10.4"
  },
  "vscode": {
   "interpreter": {
    "hash": "3640757a8e60a327e10cf726fea1046bafe8cd9134958e4daa59ee6b9d098d7b"
   }
  }
 },
 "nbformat": 4,
 "nbformat_minor": 5
}
