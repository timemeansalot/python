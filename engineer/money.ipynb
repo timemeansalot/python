{
 "cells": [
  {
   "cell_type": "code",
   "execution_count": 1,
   "id": "051c1fe4",
   "metadata": {},
   "outputs": [
    {
     "name": "stdout",
     "output_type": "stream",
     "text": [
      "9521.350000000002\n"
     ]
    }
   ],
   "source": [
    "# month 8~9\n",
    "bank=122.79\n",
    "zfb=10661.86\n",
    "jd=-1263.3\n",
    "\n",
    "rm9=bank+zfb+jd\n",
    "print(rm9)"
   ]
  },
  {
   "cell_type": "code",
   "execution_count": 2,
   "id": "93973f76",
   "metadata": {},
   "outputs": [
    {
     "name": "stdout",
     "output_type": "stream",
     "text": [
      "1616.3000000000002\n"
     ]
    }
   ],
   "source": [
    "# after October rent(9.10~10.10)\n",
    "rm9=2186.3+1730\n",
    "house=-3000\n",
    "shanghaitech=1700\n",
    "food=-1500\n",
    "jisuansuo=2000\n",
    "shiyi=-1500\n",
    "\n",
    "rm10=rm9+house+shanghaitech+food+jisuansuo+shiyi\n",
    "\n",
    "print(rm10)"
   ]
  },
  {
   "cell_type": "code",
   "execution_count": 3,
   "id": "875b276d",
   "metadata": {},
   "outputs": [
    {
     "name": "stdout",
     "output_type": "stream",
     "text": [
      "2816.3\n"
     ]
    }
   ],
   "source": [
    "# 10.10~11.10\n",
    "rent = 0\n",
    "food = -1500\n",
    "travel=-1000\n",
    "\n",
    "rm11=rm10+rent+food+travel+shanghaitech+jisuansuo\n",
    "\n",
    "print(rm11)"
   ]
  },
  {
   "cell_type": "markdown",
   "id": "2a9cdd10",
   "metadata": {},
   "source": [
    "# new calculation on 9.20"
   ]
  },
  {
   "cell_type": "code",
   "execution_count": 1,
   "id": "34da470e",
   "metadata": {},
   "outputs": [
    {
     "name": "stdout",
     "output_type": "stream",
     "text": [
      "3400\n"
     ]
    }
   ],
   "source": [
    "zfb = 1663\n",
    "wx=42\n",
    "bank=1695\n",
    "total=zfb+wx+bank\n",
    "print(total)"
   ]
  },
  {
   "cell_type": "markdown",
   "id": "ed88933e",
   "metadata": {},
   "source": [
    "# 9.20~10.10"
   ]
  },
  {
   "cell_type": "code",
   "execution_count": 5,
   "id": "5e499fd3",
   "metadata": {},
   "outputs": [
    {
     "name": "stdout",
     "output_type": "stream",
     "text": [
      "-5530\n"
     ]
    }
   ],
   "source": [
    "rent=-3000\n",
    "gift=-1500 # train, gift, resturant\n",
    "food=-20*30 # 30/day\n",
    "jingdong=-430\n",
    "\n",
    "spending=rent+gift+food+jingdong\n",
    "\n",
    "print(spending)"
   ]
  },
  {
   "cell_type": "code",
   "execution_count": 6,
   "id": "f2bdd3f1",
   "metadata": {},
   "outputs": [
    {
     "name": "stdout",
     "output_type": "stream",
     "text": [
      "4100\n"
     ]
    }
   ],
   "source": [
    "shanghaitech=1700\n",
    "sylincom=2400\n",
    "\n",
    "income=shanghaitech+sylincom\n",
    "print(income)"
   ]
  },
  {
   "cell_type": "code",
   "execution_count": 7,
   "id": "c0057d16",
   "metadata": {},
   "outputs": [
    {
     "name": "stdout",
     "output_type": "stream",
     "text": [
      "1970\n"
     ]
    }
   ],
   "source": [
    "remain=total+spending+income\n",
    "print(remain)"
   ]
  },
  {
   "cell_type": "code",
   "execution_count": 8,
   "id": "c0828872",
   "metadata": {},
   "outputs": [
    {
     "name": "stdout",
     "output_type": "stream",
     "text": [
      "-212\n"
     ]
    }
   ],
   "source": [
    "print(3400-1442-2170)"
   ]
  },
  {
   "cell_type": "code",
   "execution_count": null,
   "id": "8efa7c99",
   "metadata": {},
   "outputs": [],
   "source": []
  }
 ],
 "metadata": {
  "kernelspec": {
   "display_name": "Python 3 (ipykernel)",
   "language": "python",
   "name": "python3"
  },
  "language_info": {
   "codemirror_mode": {
    "name": "ipython",
    "version": 3
   },
   "file_extension": ".py",
   "mimetype": "text/x-python",
   "name": "python",
   "nbconvert_exporter": "python",
   "pygments_lexer": "ipython3",
   "version": "3.10.4"
  },
  "vscode": {
   "interpreter": {
    "hash": "3640757a8e60a327e10cf726fea1046bafe8cd9134958e4daa59ee6b9d098d7b"
   }
  }
 },
 "nbformat": 4,
 "nbformat_minor": 5
}
