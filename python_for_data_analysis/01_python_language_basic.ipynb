{
 "cells": [
  {
   "cell_type": "code",
   "execution_count": 19,
   "id": "cf12e52d",
   "metadata": {},
   "outputs": [
    {
     "data": {
      "text/plain": [
       "array([[1., 1., 1., 1., 1., 1., 1., 1., 1., 1.]])"
      ]
     },
     "execution_count": 19,
     "metadata": {},
     "output_type": "execute_result"
    },
    {
     "data": {
      "image/png": "[encoded data removed]",
      "text/plain": [
       "<Figure size 432x288 with 1 Axes>"
      ]
     },
     "metadata": {
      "needs_background": "light"
     },
     "output_type": "display_data"
    }
   ],
   "source": [
    "%matplotlib inline\n",
    "\n",
    "import matplotlib.pyplot as plt\n",
    "import numpy as np\n",
    "plt.plot(np.ones((1,10)).cumsum())\n",
    "np.ones((1,10))"
   ]
  },
  {
   "cell_type": "code",
   "execution_count": 20,
   "id": "e6a1d1e6",
   "metadata": {},
   "outputs": [
    {
     "name": "stdout",
     "output_type": "stream",
     "text": [
      "[1, 2, 3, 4]\n",
      "[1, 2, 3, 4]\n"
     ]
    }
   ],
   "source": [
    "a=[1,2,3]\n",
    "b=a # both a and b are referrence to the object [1,2,3]\n",
    "a.append(4)\n",
    "print(a)\n",
    "print(b)"
   ]
  },
  {
   "cell_type": "code",
   "execution_count": 23,
   "id": "cf2293b2",
   "metadata": {},
   "outputs": [
    {
     "name": "stdout",
     "output_type": "stream",
     "text": [
      "[1, 2, 3, 4]\n"
     ]
    }
   ],
   "source": [
    "def append_obj(array_list, data):\n",
    "    array_list.append(data)\n",
    "\n",
    "my_array=[1,2,3]\n",
    "append_obj(my_array,4) # create a new *referrence* of [1,2,3]\n",
    "print(my_array)"
   ]
  },
  {
   "cell_type": "code",
   "execution_count": 27,
   "id": "4e3f2368",
   "metadata": {},
   "outputs": [
    {
     "name": "stdout",
     "output_type": "stream",
     "text": [
      "False\n",
      "['a', 'b', 'c']\n",
      "True\n"
     ]
    }
   ],
   "source": [
    "x='abc'\n",
    "print(isinstance(x,list))\n",
    "\n",
    "y=list(x) # convert iterable variable to a list\n",
    "print(y)\n",
    "print(isinstance(y,list))"
   ]
  },
  {
   "cell_type": "code",
   "execution_count": 30,
   "id": "af67d2a9",
   "metadata": {},
   "outputs": [
    {
     "name": "stdout",
     "output_type": "stream",
     "text": [
      "True\n",
      "False\n"
     ]
    }
   ],
   "source": [
    "a=[1,2,3]\n",
    "c=list(a) # create new object\n",
    "print(c==a)\n",
    "print(c is a)"
   ]
  },
  {
   "cell_type": "markdown",
   "id": "cad1be83",
   "metadata": {},
   "source": [
    "# Binary operations"
   ]
  },
  {
   "cell_type": "code",
   "execution_count": 36,
   "id": "0b26b599",
   "metadata": {},
   "outputs": [
    {
     "name": "stdout",
     "output_type": "stream",
     "text": [
      "3\n",
      "1\n",
      "2\n",
      "0.5\n",
      "0\n",
      "4\n"
     ]
    }
   ],
   "source": [
    "print(1+2)\n",
    "print(2-1)\n",
    "print(1*2)\n",
    "print(1/2)\n",
    "print(1//2) # floor divide\n",
    "print(2**2)"
   ]
  }
 ],
 "metadata": {
  "interpreter": {
   "hash": "739b70e327d77fa390029bdbeb4da01ad4b0f1ef5ecbb5339bfdca56a0091f0f"
  },
  "kernelspec": {
   "display_name": "Python 3.9.7 ('myenv')",
   "language": "python",
   "name": "python3"
  },
  "language_info": {
   "codemirror_mode": {
    "name": "ipython",
    "version": 3
   },
   "file_extension": ".py",
   "mimetype": "text/x-python",
   "name": "python",
   "nbconvert_exporter": "python",
   "pygments_lexer": "ipython3",
   "version": "3.9.7"
  }
 },
 "nbformat": 4,
 "nbformat_minor": 5
}
